{
 "cells": [
  {
   "cell_type": "markdown",
   "metadata": {},
   "source": [
    "# <span style=\"color:green\"> Start Here </span> \n",
    "\n",
    "[Please Complete the following form with your details]\n",
    "\n",
    "**Student Name -**  André Filipe Gomes Silvestre <br>\n",
    "**Student id -** 20240502 <br>\n",
    "**Contact e-mail -** 20240502@novaims.unl.pt <br>\n",
    "\n",
    "\n",
    "**Student Name -** Santiago Taylor <br>\n",
    "**Student id -** 20240542 <br>\n",
    "**Contact e-mail -** 20240542@novaims.unl.pt <br>"
   ]
  },
  {
   "cell_type": "code",
   "execution_count": 1,
   "metadata": {
    "ExecuteTime": {
     "end_time": "2024-10-02T11:23:48.987848Z",
     "start_time": "2024-10-02T11:23:48.978992Z"
    }
   },
   "outputs": [],
   "source": [
    "# Import libraries\n",
    "import random\n",
    "import math\n",
    "import re\n",
    "import csv"
   ]
  },
  {
   "cell_type": "markdown",
   "metadata": {},
   "source": [
    "# <span style=\"color:brown\"> Part 1 -  Variable Declaration and Manipulation </span> \n",
    "\n",
    "## Exercise I - of Lists and Random numbers\n",
    "\n",
    "**1**: Declare a variable X that stores a list of 100 integers randomly sampled between -100 and 100.<br>\n",
    "Note: You are not allowed to use third party libraries -- such as Numpy, Pandas, or Scipy -- in this exercise."
   ]
  },
  {
   "cell_type": "code",
   "execution_count": 2,
   "metadata": {
    "ExecuteTime": {
     "end_time": "2024-10-02T11:23:52.795375Z",
     "start_time": "2024-10-02T11:23:52.789060Z"
    }
   },
   "outputs": [
    {
     "name": "stdout",
     "output_type": "stream",
     "text": [
      "[21, -32, 68, 35, 70, -11, -64, -3, -98, -5, 23, -30, 64, 17, 76, 53, -42, 42, -100, 69, 59, -63, 12, -6, -59, -14, -47, -85, 47, -49, -81, 31, 75, -14, 74, 3, -78, -96, -85, 69, 30, -43, -77, 8, 13, -72, 69, 8, -66, 38, -20, 59, 42, -59, 78, -87, 42, -57, 29, -79, 2, 55, 7, 71, 52, 20, 22, 55, -2, 38, -93, 64, 85, -79, -51, 69, -34, -9, -8, 76, -2, 72, -21, -71, -36, -40, -15, -7, -5, 30, 46, 95, 28, -55, -93, -3, 10, -92, 32, -94]\n"
     ]
    }
   ],
   "source": [
    "# For reproducibility set the seed\n",
    "random.seed(12)\n",
    "\n",
    "# List of 100 integers randomly sampled between -100 and 100\n",
    "X = [random.randint(-100, 100) for i in range(100)]\n",
    "print(X)"
   ]
  },
  {
   "cell_type": "markdown",
   "metadata": {},
   "source": [
    "**2**: How many odd numbers are in list X?\n"
   ]
  },
  {
   "cell_type": "code",
   "execution_count": 3,
   "metadata": {
    "ExecuteTime": {
     "end_time": "2024-10-02T11:23:53.938285Z",
     "start_time": "2024-10-02T11:23:53.933106Z"
    }
   },
   "outputs": [
    {
     "name": "stdout",
     "output_type": "stream",
     "text": [
      "There are 51 odd numbers in list X.\n"
     ]
    }
   ],
   "source": [
    "# Counting the number of odd numbers in list X\n",
    "odd_numbers = [i for i in X if i % 2 != 0]\n",
    "print('There are', len(odd_numbers), 'odd numbers in list X.')"
   ]
  },
  {
   "cell_type": "markdown",
   "metadata": {},
   "source": [
    "**2.1** Check if there are as many even numbers as there are odd numbers, else discard the list and generate a new one."
   ]
  },
  {
   "cell_type": "code",
   "execution_count": 4,
   "metadata": {
    "ExecuteTime": {
     "end_time": "2024-10-02T11:23:54.929666Z",
     "start_time": "2024-10-02T11:23:54.922156Z"
    }
   },
   "outputs": [
    {
     "name": "stdout",
     "output_type": "stream",
     "text": [
      "New list X: [-54, -52, 96, 91, -44, 55, -99, -32, 97, -13, -55, -39, -98, 28, -90, -37, 58, -71, -8, 39, 28, -61, -94, -18, 71, -29, 63, -70, -42, 100, 34, 28, 22, 25, 60, -10, -33, 75, 13, 89, -59, 14, -26, 57, -89, -29, -16, 31, 63, 78, 13, 80, -46, 87, -28, 33, -35, -93, 74, -100, 77, -94, -67, 42, -32, 7, -65, -39, -49, 11, 20, -85, 43, 45, 59, 84, -34, 94, -90, 6, 10, 50, -77, 3, -50, 48, 42, -12, -6, 63, 88, -2, 44, -59, -96, 76, 81, -61, -93, -91] \n",
      "\n",
      "Odd numbers: [91, 55, -99, 97, -13, -55, -39, -37, -71, 39, -61, 71, -29, 63, 25, -33, 75, 13, 89, -59, 57, -89, -29, 31, 63, 13, 87, 33, -35, -93, 77, -67, 7, -65, -39, -49, 11, -85, 43, 45, 59, -77, 3, 63, -59, 81, -61, -93, -91] \n",
      "\n",
      "Even numbers: [-54, -52, 96, -44, -32, -98, 28, -90, 58, -8, 28, -94, -18, -70, -42, 100, 34, 28, 22, 60, -10, 14, -26, -16, 78, 80, -46, -28, 74, -100, -94, 42, -32, 20, 84, -34, 94, -90, 6, 10, 50, -50, 48, 42, -12, -6, 88, -2, 44, -96, 76] \n",
      "\n"
     ]
    }
   ],
   "source": [
    "# Checking if there are as many even numbers as there are odd numbers\n",
    "even_numbers = [i for i in X if i % 2 == 0]\n",
    "if len(even_numbers) != len(odd_numbers):\n",
    "    \n",
    "    # Creating a new list X with 100 integers randomly sampled between -100 and 100\n",
    "    X = [random.randint(-100, 100) for i in range(100)]\n",
    "    \n",
    "    # Counting the number of odd and even numbers in list X\n",
    "    odd_numbers = [i for i in X if i % 2 != 0]\n",
    "    even_numbers = [i for i in X if i % 2 == 0]\n",
    "    \n",
    "    print(\"New list X:\", X, \"\\n\")\n",
    "    print(\"Odd numbers:\", odd_numbers, \"\\n\")\n",
    "    print(\"Even numbers:\", even_numbers, \"\\n\")"
   ]
  },
  {
   "cell_type": "markdown",
   "metadata": {},
   "source": [
    "**2.2** Create a pipeline to automatically perform the tasks above such that you avoid having to run the cells multiple times to reach the desired outcome."
   ]
  },
  {
   "cell_type": "code",
   "execution_count": 5,
   "metadata": {
    "ExecuteTime": {
     "end_time": "2024-10-02T11:23:56.381068Z",
     "start_time": "2024-10-02T11:23:56.362017Z"
    }
   },
   "outputs": [
    {
     "data": {
      "text/plain": [
       "50"
      ]
     },
     "execution_count": 5,
     "metadata": {},
     "output_type": "execute_result"
    }
   ],
   "source": [
    "# Pipeline to automatically perform the tasks above\n",
    "n = 0  # Initialize the number of odd numbers\n",
    "\n",
    "# Check if there are as many even numbers as there are odd numbers\n",
    "while n != 50:\n",
    "    n = 0\n",
    "    X = []\n",
    "    \n",
    "    # List of 100 integers randomly sampled between -100 and 100 until there are as many even numbers as there are odd numbers\n",
    "    for i in range(0,100):\n",
    "        X.append(random.randint(-100, 100))\n",
    "    \n",
    "    # Counting the number of odd numbers in list X by iterating through the list\n",
    "    for i in X:\n",
    "        if i%2 ==0:\n",
    "            n+=1\n",
    "            \n",
    "n # Number of odd numbers in list X"
   ]
  },
  {
   "cell_type": "code",
   "execution_count": 6,
   "metadata": {
    "ExecuteTime": {
     "end_time": "2024-10-02T11:23:56.986304Z",
     "start_time": "2024-10-02T11:23:56.981117Z"
    }
   },
   "outputs": [
    {
     "name": "stdout",
     "output_type": "stream",
     "text": [
      "There are 50 odd numbers in list X.\n"
     ]
    }
   ],
   "source": [
    "# Counting the number of odd and even numbers in list X\n",
    "odd_numbers = [i for i in X if i % 2 != 0]\n",
    "\n",
    "print(\"There are\", len(odd_numbers), \"odd numbers in list X.\")"
   ]
  },
  {
   "cell_type": "markdown",
   "metadata": {},
   "source": [
    "**3**: Print the number of digits that the 5th and 100th element of the list have. <br>\n",
    "*Note: For instance, the number 1 contains one digit, the number 10 contains two digits, the number -2 contains one digit.*"
   ]
  },
  {
   "cell_type": "code",
   "execution_count": 7,
   "metadata": {
    "ExecuteTime": {
     "end_time": "2024-10-02T11:23:58.310142Z",
     "start_time": "2024-10-02T11:23:58.302899Z"
    }
   },
   "outputs": [
    {
     "name": "stdout",
     "output_type": "stream",
     "text": [
      "The 5th element of the list is -61 and has 2 digit(s).\n",
      "The 100th element of the list is -34 and has 2 digit(s).\n"
     ]
    }
   ],
   "source": [
    "# Number of digits that the 5th and 100th element of the list have\n",
    "print(\"The 5th element of the list is\", X[4], \"and has\", len(str(abs(X[4]))), \"digit(s).\")\n",
    "print(\"The 100th element of the list is\", X[99], \"and has\", len(str(abs(X[99]))), \"digit(s).\")"
   ]
  },
  {
   "cell_type": "markdown",
   "metadata": {},
   "source": [
    "**4**: Is the sum total of all the numbers in the list even or odd?"
   ]
  },
  {
   "cell_type": "code",
   "execution_count": 8,
   "metadata": {
    "ExecuteTime": {
     "end_time": "2024-10-02T11:23:59.755425Z",
     "start_time": "2024-10-02T11:23:59.749112Z"
    }
   },
   "outputs": [
    {
     "name": "stdout",
     "output_type": "stream",
     "text": [
      "Sum total of all the numbers in the list X: 78\n",
      "The sum total of all the numbers in the list is even.\n"
     ]
    }
   ],
   "source": [
    "# Sum total of all the numbers in the list\n",
    "total_sum = sum(X)\n",
    "print(\"Sum total of all the numbers in the list X:\", total_sum)\n",
    "\n",
    "# Check if the sum total of all the numbers in the list is even or odd\n",
    "if total_sum % 2 == 0:\n",
    "    print(\"The sum total of all the numbers in the list is even.\")\n",
    "else:\n",
    "    print(\"The sum total of all the numbers in the list is odd.\")"
   ]
  },
  {
   "cell_type": "markdown",
   "metadata": {},
   "source": [
    "**5**: What is the average of the list X?"
   ]
  },
  {
   "cell_type": "code",
   "execution_count": 9,
   "metadata": {
    "ExecuteTime": {
     "end_time": "2024-10-02T11:24:01.632566Z",
     "start_time": "2024-10-02T11:24:01.626456Z"
    }
   },
   "outputs": [
    {
     "name": "stdout",
     "output_type": "stream",
     "text": [
      "The average of the list X is 0.78\n"
     ]
    }
   ],
   "source": [
    "# Average of the list X\n",
    "average = total_sum / len(X)\n",
    "print(\"The average of the list X is\", average)"
   ]
  },
  {
   "cell_type": "markdown",
   "metadata": {},
   "source": [
    "**5.1.** What is the population standard deviation? <br>"
   ]
  },
  {
   "cell_type": "code",
   "execution_count": 10,
   "metadata": {
    "ExecuteTime": {
     "end_time": "2024-10-02T11:24:03.268249Z",
     "start_time": "2024-10-02T11:24:03.261355Z"
    }
   },
   "outputs": [
    {
     "name": "stdout",
     "output_type": "stream",
     "text": [
      "The population standard deviation of the list X is 55.22\n"
     ]
    }
   ],
   "source": [
    "# Population standard deviation of the list X without math library\n",
    "std_dev = (sum([(i - average) ** 2 for i in X]) / len(X)) ** 0.5\n",
    "print(\"The population standard deviation of the list X is\", round(std_dev,2))"
   ]
  },
  {
   "cell_type": "markdown",
   "metadata": {},
   "source": [
    "**6**: Sort list X in descending order and store the result in variable Xsort. <br>"
   ]
  },
  {
   "cell_type": "code",
   "execution_count": 11,
   "metadata": {
    "ExecuteTime": {
     "end_time": "2024-10-02T11:24:05.024422Z",
     "start_time": "2024-10-02T11:24:05.020311Z"
    }
   },
   "outputs": [
    {
     "name": "stdout",
     "output_type": "stream",
     "text": [
      "List X sorted in descending order: [100, 93, 91, 90, 90, 89, 89, 86, 86, 82, 77, 71, 68, 65, 61, 59, 57, 57, 52, 51, 50, 50, 47, 44, 42, 41, 38, 34, 33, 33, 32, 31, 31, 31, 30, 30, 28, 27, 26, 25, 22, 22, 20, 15, 9, 7, 6, 5, 5, 3, 2, 2, 1, 1, -1, -1, -1, -3, -3, -6, -7, -8, -8, -10, -16, -20, -25, -27, -29, -32, -34, -36, -37, -38, -46, -48, -49, -51, -54, -60, -60, -61, -61, -67, -68, -74, -75, -75, -76, -81, -83, -85, -86, -86, -88, -92, -94, -98, -99, -100]\n"
     ]
    }
   ],
   "source": [
    "# Sort list X in descending order\n",
    "Xsort = sorted(X, reverse=True)\n",
    "print(\"List X sorted in descending order:\", Xsort)"
   ]
  },
  {
   "cell_type": "markdown",
   "metadata": {},
   "source": [
    "**6.1** Then replace each value in Xsort with index i as the sum of the values with index i-1 and i. <br> "
   ]
  },
  {
   "cell_type": "code",
   "execution_count": 12,
   "metadata": {
    "ExecuteTime": {
     "end_time": "2024-10-02T11:24:06.204544Z",
     "start_time": "2024-10-02T11:24:06.198160Z"
    }
   },
   "outputs": [
    {
     "name": "stdout",
     "output_type": "stream",
     "text": [
      "Original list X descending order: [100, 93, 91, 90, 90, 89, 89, 86, 86, 82, 77, 71, 68, 65, 61, 59, 57, 57, 52, 51, 50, 50, 47, 44, 42, 41, 38, 34, 33, 33, 32, 31, 31, 31, 30, 30, 28, 27, 26, 25, 22, 22, 20, 15, 9, 7, 6, 5, 5, 3, 2, 2, 1, 1, -1, -1, -1, -3, -3, -6, -7, -8, -8, -10, -16, -20, -25, -27, -29, -32, -34, -36, -37, -38, -46, -48, -49, -51, -54, -60, -60, -61, -61, -67, -68, -74, -75, -75, -76, -81, -83, -85, -86, -86, -88, -92, -94, -98, -99, -100] \n",
      "\n",
      "List Xsort [100, 193, 284, 374, 464, 553, 642, 728, 814, 896, 973, 1044, 1112, 1177, 1238, 1297, 1354, 1411, 1463, 1514, 1564, 1614, 1661, 1705, 1747, 1788, 1826, 1860, 1893, 1926, 1958, 1989, 2020, 2051, 2081, 2111, 2139, 2166, 2192, 2217, 2239, 2261, 2281, 2296, 2305, 2312, 2318, 2323, 2328, 2331, 2333, 2335, 2336, 2337, 2336, 2335, 2334, 2331, 2328, 2322, 2315, 2307, 2299, 2289, 2273, 2253, 2228, 2201, 2172, 2140, 2106, 2070, 2033, 1995, 1949, 1901, 1852, 1801, 1747, 1687, 1627, 1566, 1505, 1438, 1370, 1296, 1221, 1146, 1070, 989, 906, 821, 735, 649, 561, 469, 375, 277, 178, 78]\n"
     ]
    }
   ],
   "source": [
    "# Replace each value in Xsort with index i as the sum of the values with index i-1 and i\n",
    "for i in range(1, len(Xsort)):\n",
    "    Xsort[i] = Xsort[i - 1] + Xsort[i]\n",
    "\n",
    "print(\"Original list X descending order:\", sorted(X, reverse=True), '\\n')\n",
    "print(\"List Xsort\", Xsort)"
   ]
  },
  {
   "cell_type": "code",
   "execution_count": 13,
   "metadata": {
    "ExecuteTime": {
     "end_time": "2024-10-02T11:24:06.846739Z",
     "start_time": "2024-10-02T11:24:06.840693Z"
    }
   },
   "outputs": [
    {
     "name": "stdout",
     "output_type": "stream",
     "text": [
      "[100, 193, 284, 374, 464, 553, 642, 728, 814, 896, 973, 1044, 1112, 1177, 1238, 1297, 1354, 1411, 1463, 1514, 1564, 1614, 1661, 1705, 1747, 1788, 1826, 1860, 1893, 1926, 1958, 1989, 2020, 2051, 2081, 2111, 2139, 2166, 2192, 2217, 2239, 2261, 2281, 2296, 2305, 2312, 2318, 2323, 2328, 2331, 2333, 2335, 2336, 2337, 2336, 2335, 2334, 2331, 2328, 2322, 2315, 2307, 2299, 2289, 2273, 2253, 2228, 2201, 2172, 2140, 2106, 2070, 2033, 1995, 1949, 1901, 1852, 1801, 1747, 1687, 1627, 1566, 1505, 1438, 1370, 1296, 1221, 1146, 1070, 989, 906, 821, 735, 649, 561, 469, 375, 277, 178, 78]\n"
     ]
    }
   ],
   "source": [
    "Xsort_2 = sorted(X, reverse=True)\n",
    "\n",
    "# Alternative way to replace each value in Xsort with index i as the sum of the values with index i-1 and i\n",
    "Xsort_2 = [sum(Xsort_2[:i+1]) for i in range(len(Xsort_2))]\n",
    "print(Xsort_2)"
   ]
  },
  {
   "cell_type": "code",
   "execution_count": 14,
   "metadata": {
    "ExecuteTime": {
     "end_time": "2024-10-02T11:24:07.630776Z",
     "start_time": "2024-10-02T11:24:07.625588Z"
    }
   },
   "outputs": [
    {
     "data": {
      "text/plain": [
       "True"
      ]
     },
     "execution_count": 14,
     "metadata": {},
     "output_type": "execute_result"
    }
   ],
   "source": [
    "# Check if the two lists are equal\n",
    "Xsort == Xsort_2"
   ]
  },
  {
   "cell_type": "markdown",
   "metadata": {},
   "source": [
    "## Exercise II - The Most Uncool Band\n",
    "\n",
    "**7**: Consider the dictionaries  *songs* and *users* that are declared in the cell below. <br>\n",
    "Create a list with the names of the people who listened to more than one song. Print the List. <br>"
   ]
  },
  {
   "cell_type": "code",
   "execution_count": 15,
   "metadata": {
    "ExecuteTime": {
     "end_time": "2024-10-02T11:24:08.857493Z",
     "start_time": "2024-10-02T11:24:08.851847Z"
    }
   },
   "outputs": [],
   "source": [
    "songs = {\n",
    "    \"4589\": \"Mr. Blue Sky, Calling America, Twilight, Night in the City\",\n",
    "    \"7312\": \"Strange Magic, Sweet Talkin' Woman, Turn to Stone\",\n",
    "    \"9641\": \"Confusion, Last Train to London, All Over the World, Hold On Tight\",\n",
    "    \"2853\": \"Can't Get It Out of My Head, Showdown, Twilight\",\n",
    "    \"6704\": \"Ticket to the Moon, Here Is the News, Twilight, Secret Messages, Four Little Diamonds\"\n",
    "}\n",
    "\n",
    "users = {\n",
    "    \"4589\": \"Eve\",\n",
    "    \"7312\": \"Diana\",\n",
    "    \"9641\": \"Alice\",\n",
    "    \"2853\": \"Charlie\",\n",
    "    \"6704\": \"Bob\"\n",
    "}"
   ]
  },
  {
   "cell_type": "code",
   "execution_count": 16,
   "metadata": {
    "ExecuteTime": {
     "end_time": "2024-10-02T11:24:09.755312Z",
     "start_time": "2024-10-02T11:24:09.750122Z"
    }
   },
   "outputs": [
    {
     "name": "stdout",
     "output_type": "stream",
     "text": [
      "List with the names of the people who listened to more than one song: ['Eve', 'Diana', 'Alice', 'Charlie', 'Bob']\n"
     ]
    }
   ],
   "source": [
    "# Create a list with the names of the people who listened to more than one song.\n",
    "# Note: The value of the dictionary is the song that the user listened to separated by ','\n",
    "\n",
    "# Initialize an empty list to store names of people who listened to more than one song\n",
    "people_with_multiple_songs = []\n",
    "\n",
    "# Iterate through the songs dictionary\n",
    "for user_id, song_list in songs.items():\n",
    "    # Split the song list by commas to count the number of songs\n",
    "    song_count = len(song_list.split(', '))\n",
    "    \n",
    "    # If the user has listened to more than one song\n",
    "    if song_count > 1:\n",
    "        # Get the name of the user from the users dictionary using their user_id\n",
    "        person = users[user_id]\n",
    "        # Add the person's name to the list\n",
    "        people_with_multiple_songs.append(person)\n",
    "\n",
    "# Print the list of people who listened to more than one song\n",
    "print(\"List with the names of the people who listened to more than one song:\", people_with_multiple_songs)"
   ]
  },
  {
   "cell_type": "markdown",
   "metadata": {},
   "source": [
    "**7.1** What is the name of the user who listened to the most songs?\n",
    "\n",
    "*Tip: You will want to check the methods associated with string manipulation. See the link: <br>\n",
    "https://python-reference.readthedocs.io/en/latest/docs/unicode/index.html*"
   ]
  },
  {
   "cell_type": "code",
   "execution_count": 17,
   "metadata": {
    "ExecuteTime": {
     "end_time": "2024-10-02T11:24:11.137346Z",
     "start_time": "2024-10-02T11:24:11.131416Z"
    }
   },
   "outputs": [
    {
     "name": "stdout",
     "output_type": "stream",
     "text": [
      "{'4589': 4, '7312': 3, '9641': 4, '2853': 3, '6704': 5}\n",
      "\n",
      "User who listened to the most songs is: Bob\n"
     ]
    }
   ],
   "source": [
    "# Initialize a dictionary to store the number of songs listened by each user\n",
    "user_song_count = {}\n",
    "\n",
    "# Iterate through the songs dictionary\n",
    "for user_id, song_list in songs.items():\n",
    "    # Split the song list by commas to count the number of songs\n",
    "    song_count = len(song_list.split(', '))\n",
    "    \n",
    "    # Store the number of songs listened by each user\n",
    "    user_song_count[user_id] = song_count\n",
    "\n",
    "# Print the dictionary with the number of songs listened by each user    \n",
    "print(user_song_count)\n",
    "\n",
    "# Get the user who listened to the most songs\n",
    "most_songs_user_id = max(user_song_count, key=user_song_count.get)\n",
    "\n",
    "# Get the name of the user who listened to the most songs\n",
    "most_songs_user = users[most_songs_user_id]\n",
    "print(\"\\nUser who listened to the most songs is:\", most_songs_user)"
   ]
  },
  {
   "cell_type": "markdown",
   "metadata": {},
   "source": [
    "**7.2** What is the name of the most popular song?"
   ]
  },
  {
   "cell_type": "code",
   "execution_count": 18,
   "metadata": {
    "ExecuteTime": {
     "end_time": "2024-10-02T11:24:12.233608Z",
     "start_time": "2024-10-02T11:24:12.225680Z"
    }
   },
   "outputs": [
    {
     "name": "stdout",
     "output_type": "stream",
     "text": [
      "{'Mr. Blue Sky': 1, 'Calling America': 1, 'Twilight': 3, 'Night in the City': 1, 'Strange Magic': 1, \"Sweet Talkin' Woman\": 1, 'Turn to Stone': 1, 'Confusion': 1, 'Last Train to London': 1, 'All Over the World': 1, 'Hold On Tight': 1, \"Can't Get It Out of My Head\": 1, 'Showdown': 1, 'Ticket to the Moon': 1, 'Here Is the News': 1, 'Secret Messages': 1, 'Four Little Diamonds': 1}\n",
      "\n",
      "The most popular song is: Twilight\n"
     ]
    }
   ],
   "source": [
    "# Initialize a dictionary to store the number of times each song was listened to\n",
    "song_count = {}\n",
    "\n",
    "# Iterate through the songs dictionary\n",
    "for user_id, song_list in songs.items():\n",
    "    \n",
    "    # Split the song list by commas to get the list of songs\n",
    "    songs_list = song_list.split(', ')\n",
    "    \n",
    "    # Iterate through the list of songs\n",
    "    for song in songs_list:\n",
    "        \n",
    "        # Remove leading and trailing whitespaces from the song name\n",
    "        song = song.strip()\n",
    "        \n",
    "        # If the song is already in the dictionary, increment the count\n",
    "        if song in song_count:\n",
    "            song_count[song] += 1\n",
    "            \n",
    "        # If the song is not in the dictionary, add it with a count of 1\n",
    "        else:\n",
    "            song_count[song] = 1\n",
    "            \n",
    "# Print the dictionary with the number of times each song was listened to\n",
    "print(song_count)\n",
    "\n",
    "# Get the most popular song\n",
    "most_popular_song = max(song_count, key=song_count.get)\n",
    "\n",
    "print(\"\\nThe most popular song is:\", most_popular_song)"
   ]
  },
  {
   "cell_type": "markdown",
   "metadata": {},
   "source": [
    "# <span style=\"color:brown\"> Part 2 -  Data loading and analysis  </span>\n",
    "\n",
    "## Exercise I - Alice what do you have to say?\n",
    "\n",
    "**8**: Load the Alice text file into a variable called Alice. <br>\n",
    "\n",
    "*Note: Use a relative filepath in relation to the location of your notebook.*"
   ]
  },
  {
   "cell_type": "code",
   "execution_count": 19,
   "metadata": {
    "ExecuteTime": {
     "end_time": "2024-10-02T11:24:13.700259Z",
     "start_time": "2024-10-02T11:24:13.691758Z"
    }
   },
   "outputs": [
    {
     "data": {
      "text/plain": [
       "'Alice was beginning to get very tired of sitting by her sister on the bank, and of having nothing to do: once or twice she had peeped into the book her sister was reading, but it had no pictures or conversations in it, <<and what is the use of a book>>. thought Alice <<without pictures or conversation?>>.'"
      ]
     },
     "execution_count": 19,
     "metadata": {},
     "output_type": "execute_result"
    }
   ],
   "source": [
    "# Load the Alice text file into a variable called Alice\n",
    "with open('Alice.txt', 'r') as file:\n",
    "    Alice = file.read()\n",
    "    \n",
    "Alice"
   ]
  },
  {
   "cell_type": "markdown",
   "metadata": {},
   "source": [
    "**9**: Create a list in which each element is a word from the file *Alice*. Store that list in a variable called *wAlice*. <br>\n",
    "\n",
    "*Note: You will need to do some text parsing here. In particular to split the sentences into words. It is also a good practice to normalize words so that words \"Hello\" and \"hello\" become identical, by making all letters lower case. <br>*\n",
    "\n",
    "*Tip: check the following links for a discussion on regular expressions. Also consult the methods available for string manipulation.*\n",
    "\n",
    "https://docs.python.org/3/library/re.html\n",
    "\n",
    "https://stackoverflow.com/questions/1276764/stripping-everything-but-alphanumeric-chars-from-a-string-in-python"
   ]
  },
  {
   "cell_type": "code",
   "execution_count": 20,
   "metadata": {
    "ExecuteTime": {
     "end_time": "2024-10-02T11:24:14.704790Z",
     "start_time": "2024-10-02T11:24:14.699305Z"
    }
   },
   "outputs": [
    {
     "name": "stdout",
     "output_type": "stream",
     "text": [
      "['alice', 'was', 'beginning', 'to', 'get', 'very', 'tired', 'of', 'sitting', 'by', 'her', 'sister', 'on', 'the', 'bank', 'and', 'of', 'having', 'nothing', 'to', 'do', 'once', 'or', 'twice', 'she', 'had', 'peeped', 'into', 'the', 'book', 'her', 'sister', 'was', 'reading', 'but', 'it', 'had', 'no', 'pictures', 'or', 'conversations', 'in', 'it', 'and', 'what', 'is', 'the', 'use', 'of', 'a', 'book', 'thought', 'alice', 'without', 'pictures', 'or', 'conversation']\n"
     ]
    }
   ],
   "source": [
    "# Import the regular expression library -> import re\n",
    "\n",
    "# List in which each element is a word from the file Alice\n",
    "wAlice = re.findall(pattern=r'\\b\\w+\\b', string=Alice.lower()) \n",
    "# pattern: \\b\\w+\\b: matches any word character (alphanumeric & underscore) between word boundaries\n",
    "# string: Normalize words by making all letters lower case\n",
    "print(wAlice)"
   ]
  },
  {
   "cell_type": "markdown",
   "metadata": {},
   "source": [
    "##### Using the list *wAlice* answer the following questions:<br>\n",
    "**10**: How many words are in the file Alice.txt? <br>"
   ]
  },
  {
   "cell_type": "code",
   "execution_count": 21,
   "metadata": {
    "ExecuteTime": {
     "end_time": "2024-10-02T11:24:15.950297Z",
     "start_time": "2024-10-02T11:24:15.945066Z"
    }
   },
   "outputs": [
    {
     "name": "stdout",
     "output_type": "stream",
     "text": [
      "The number of words in the file Alice.txt is 57\n"
     ]
    }
   ],
   "source": [
    "# Count the number of words in the file Alice.txt\n",
    "word_count = len(wAlice)\n",
    "\n",
    "print(\"The number of words in the file Alice.txt is\", word_count)"
   ]
  },
  {
   "cell_type": "markdown",
   "metadata": {},
   "source": [
    "**11**: What is the longest and smallest word in the text file?\n",
    "\n",
    "*Note: Length in this case is measured in terms of the number of characters.*"
   ]
  },
  {
   "cell_type": "code",
   "execution_count": 22,
   "metadata": {
    "ExecuteTime": {
     "end_time": "2024-10-02T11:24:17.048693Z",
     "start_time": "2024-10-02T11:24:17.043184Z"
    }
   },
   "outputs": [
    {
     "name": "stdout",
     "output_type": "stream",
     "text": [
      "The longest word in the text file is: \"conversations\" with 13 characters.\n",
      "The smallest word in the text file is: \"a\" with 1 characters.\n"
     ]
    }
   ],
   "source": [
    "# Longest and smallest word in the text file\n",
    "longest_word = max(wAlice, key=len)\n",
    "smallest_word = min(wAlice, key=len)\n",
    "\n",
    "print(\"The longest word in the text file is:\", '\"'+longest_word+'\"', \"with\", len(longest_word), \"characters.\")\n",
    "print(\"The smallest word in the text file is:\", '\"'+smallest_word+'\"', \"with\", len(smallest_word), \"characters.\")"
   ]
  },
  {
   "cell_type": "markdown",
   "metadata": {},
   "source": [
    "**12**: Delete all the repeated words from *wAlice*. "
   ]
  },
  {
   "cell_type": "code",
   "execution_count": 23,
   "metadata": {
    "ExecuteTime": {
     "end_time": "2024-10-02T11:24:18.157445Z",
     "start_time": "2024-10-02T11:24:18.151469Z"
    }
   },
   "outputs": [
    {
     "name": "stdout",
     "output_type": "stream",
     "text": [
      "['tired', 'reading', 'or', 'having', 'alice', 'to', 'but', 'by', 'no', 'what', 'very', 'peeped', 'into', 'sister', 'do', 'book', 'she', 'nothing', 'conversation', 'without', 'twice', 'is', 'of', 'use', 'on', 'was', 'had', 'it', 'pictures', 'thought', 'the', 'her', 'sitting', 'get', 'and', 'a', 'conversations', 'beginning', 'once', 'in', 'bank']\n"
     ]
    }
   ],
   "source": [
    "# Delete all the repeated words from wAlice\n",
    "wAlice = list(set(wAlice))\n",
    "print(wAlice)"
   ]
  },
  {
   "cell_type": "markdown",
   "metadata": {},
   "source": [
    "**12.1**:How many different words does the text contain?"
   ]
  },
  {
   "cell_type": "code",
   "execution_count": 24,
   "metadata": {
    "ExecuteTime": {
     "end_time": "2024-10-02T11:24:19.267134Z",
     "start_time": "2024-10-02T11:24:19.261983Z"
    }
   },
   "outputs": [
    {
     "name": "stdout",
     "output_type": "stream",
     "text": [
      "The text file 'Alice.txt' contains 41 different words.\n"
     ]
    }
   ],
   "source": [
    "print(\"The text file 'Alice.txt' contains\", len(wAlice), \"different words.\")"
   ]
  },
  {
   "cell_type": "markdown",
   "metadata": {},
   "source": [
    "## Exercise II - Of Countries I Love\n",
    "\n",
    "Consider the list countries in the cell below. <br>\n",
    "It consists of a list of the 3-digit ISO codes of a set of countries of interest.\n",
    "\n",
    "**Note**: If you find the below list of tuples to be erroneous, correct it accordingly and comment on your correction."
   ]
  },
  {
   "cell_type": "code",
   "execution_count": 25,
   "metadata": {
    "ExecuteTime": {
     "end_time": "2024-10-02T11:24:20.321580Z",
     "start_time": "2024-10-02T11:24:20.317514Z"
    }
   },
   "outputs": [],
   "source": [
    "countries = [\n",
    "    ('PRT','Portugal','Europe'),\n",
    "    ('ISR','Israel','Asia'),                   # ISL -> ISR (ISO code for Israel)\n",
    "    ('COL','Colombia','South America'),\n",
    "    ('NEV','Nevada','North America'),          # Not correct for country just being a state in the USA\n",
    "    ('JPN','Japan','Asia'),\n",
    "    ('RUS','Russia','well... which part?'),    # We chose to leave it like this since Russia belongs to two continents\n",
    "    ('DEN','Denmark','Europe'),\n",
    "    ('NOR','Norway','Europe')\n",
    "]"
   ]
  },
  {
   "cell_type": "markdown",
   "metadata": {},
   "source": [
    "**Now consider the file *cdata.csv* that you should download.** <br>\n",
    "\n",
    "The file contains several information about countries, and is organized as follows:\n",
    "1. Column 1 is the 3-digit **ISO Code**\n",
    "2. Column 2 is the **Full Name** of the country\n",
    "3. Column 3 is the **Continent** of the country\n",
    "4. Column 4 is the **Population Size** in 2010\n",
    "5. Column 5 is the **GDP per capita** in 2010"
   ]
  },
  {
   "cell_type": "markdown",
   "metadata": {},
   "source": [
    "**13**: Using the Library CSV from Python STL, load the file *cdata.csv* into an object called *raw*. "
   ]
  },
  {
   "cell_type": "code",
   "execution_count": 26,
   "metadata": {
    "ExecuteTime": {
     "end_time": "2024-10-02T11:24:22.385893Z",
     "start_time": "2024-10-02T11:24:22.362377Z"
    }
   },
   "outputs": [
    {
     "data": {
      "text/plain": [
       "[['iso', 'countryname', 'continent', 'population(mil)', 'gdp'],\n",
       " ['ago', 'Angola', 'Africa', '23.369131088256836', '5988.534997149481'],\n",
       " ['bdi', 'Burundi', 'Africa', '8.766929626464844', '731.4232803265862'],\n",
       " ['ben', 'Benin', 'Africa', '9.199258804321289', '1919.9969479963038'],\n",
       " ['bfa', 'Burkina Faso', 'Africa', '15.605216979980469', '1327.2165314775982'],\n",
       " ['bwa', 'Botswana', 'Africa', '2.0148661136627197', '12256.14159052444'],\n",
       " ['caf',\n",
       "  'Central African Republic',\n",
       "  'Africa',\n",
       "  '4.4485249519348145',\n",
       "  '865.4421867263901'],\n",
       " ['cmr', 'Cameroon', 'Africa', '19.970495223999023', '2684.972890247272'],\n",
       " ['cod',\n",
       "  'Democratic Republic of the Congo',\n",
       "  'Africa',\n",
       "  '64.52326202392578',\n",
       "  '634.9713963013496'],\n",
       " ['cog',\n",
       "  'Republic of the Congo',\n",
       "  'Africa',\n",
       "  '4.386693000793457',\n",
       "  '4979.990496069269'],\n",
       " ['com', 'Comoros', 'Africa', '0.6896920204162598', '2292.997969425929'],\n",
       " ['cpv', 'Cape Verde', 'Africa', '0.5023840069770813', '5644.821253339075'],\n",
       " ['dji', 'Djibouti', 'Africa', '0.8511459827423096', '2124.4420625972525'],\n",
       " ['dza', 'Algeria', 'Africa', '36.117637634277344', '12590.224223813591'],\n",
       " ['egy', 'Egypt', 'Africa', '84.10760498046875', '9148.839753298033'],\n",
       " ['eth', 'Ethiopia', 'Africa', '87.70266723632812', '1100.1831875876223'],\n",
       " ['gab', 'Gabon', 'Africa', '1.6402100324630737', '11961.168226448879'],\n",
       " ['gha', 'Ghana', 'Africa', '24.512104034423828', '3931.2918319728856'],\n",
       " ['gin', 'Guinea', 'Africa', '10.794170379638672', '1742.7346742167783'],\n",
       " ['gmb', 'Gambia', 'Africa', '1.692149043083191', '2681.8586168502143'],\n",
       " ['gnb',\n",
       "  'Guinea-Bissau',\n",
       "  'Africa',\n",
       "  '1.5558799505233765',\n",
       "  '1387.2497310879905'],\n",
       " ['gnq',\n",
       "  'Equatorial Guinea',\n",
       "  'Africa',\n",
       "  '0.9511039853096008',\n",
       "  '31416.887137501908'],\n",
       " ['ken', 'Kenya', 'Africa', '41.35015106201172', '2484.0349094725366'],\n",
       " ['lbr', 'Liberia', 'Africa', '3.948124885559082', '786.6702306741524'],\n",
       " ['lso', 'Lesotho', 'Africa', '2.040550947189331', '2432.7976546880823'],\n",
       " ['mar', 'Morocco', 'Africa', '32.409637451171875', '6421.937677907418'],\n",
       " ['mdg', 'Madagascar', 'Africa', '21.151639938354492', '1459.9156124535612'],\n",
       " ['mli', 'Mali', 'Africa', '15.075084686279297', '1873.2809618195865'],\n",
       " ['moz', 'Mozambique', 'Africa', '24.221405029296875', '969.2307622526259'],\n",
       " ['mrt', 'Mauritania', 'Africa', '3.6095430850982666', '3082.647028528842'],\n",
       " ['mus', 'Mauritius', 'Africa', '1.2479549646377563', '15178.325920597827'],\n",
       " ['mwi', 'Malawi', 'Africa', '15.167095184326172', '972.0456815116237'],\n",
       " ['nam', 'Namibia', 'Africa', '2.1731700897216797', '7689.171239820006'],\n",
       " ['ner', 'Niger', 'Africa', '16.42557716369629', '845.8693682212395'],\n",
       " ['nga', 'Nigeria', 'Africa', '158.57826232910156', '5186.304307542348'],\n",
       " ['rwa', 'Rwanda', 'Africa', '10.246842384338379', '1379.6993252327009'],\n",
       " ['sdn', 'Sudan', 'Africa', '34.385963439941406', '3608.7856176907358'],\n",
       " ['sen', 'Senegal', 'Africa', '12.916229248046875', '2741.121456198507'],\n",
       " ['sle', 'Sierra Leone', 'Africa', '6.4587202072143555', '1161.8796942144647'],\n",
       " ['swz', 'Swaziland', 'Africa', '1.2028429508209229', '7042.524359035093'],\n",
       " ['syc', 'Seychelles', 'Africa', '0.0914049968123436', '17960.353075613308'],\n",
       " ['tcd', 'Chad', 'Africa', '11.887202262878418', '1880.3748762799714'],\n",
       " ['tgo', 'Togo', 'Africa', '6.5029520988464355', '1222.8150529133295'],\n",
       " ['tun', 'Tunisia', 'Africa', '10.639930725097656', '10647.834980284626'],\n",
       " ['tza', 'Tanzania', 'Africa', '44.82893753051758', '1979.1718644815185'],\n",
       " ['uga', 'Uganda', 'Africa', '33.91513442993164', '1723.5943355766267'],\n",
       " ['zaf', 'South Africa', 'Africa', '51.58466339111328', '11388.640515995063'],\n",
       " ['zmb', 'Zambia', 'Africa', '13.850032806396484', '2870.8872656342314'],\n",
       " ['zwe', 'Zimbabwe', 'Africa', '14.08631706237793', '1479.0305839163732'],\n",
       " ['are',\n",
       "  'United Arab Emirates',\n",
       "  'Asia',\n",
       "  '8.270684242248535',\n",
       "  '59707.412565389604'],\n",
       " ['arm', 'Armenia', 'Asia', '2.8773109912872314', '8222.945234202914'],\n",
       " ['aze', 'Azerbaijan', 'Asia', '9.03245735168457', '12947.102198682365'],\n",
       " ['bgd', 'Bangladesh', 'Asia', '152.14910888671875', '2411.1020691099325'],\n",
       " ['bhr', 'Bahrain', 'Asia', '1.2408620119094849', '37045.81310919623'],\n",
       " ['brn', 'Brunei', 'Asia', '0.3886620104312897', '67320.89957245934'],\n",
       " ['btn', 'Bhutan', 'Asia', '0.7276409864425659', '7235.18974818538'],\n",
       " ['chn', 'China', 'Asia', '1359.755126953125', '9337.290772677254'],\n",
       " ['cyp', 'Cyprus', 'Asia', '0.829446017742157', '28046.373877741087'],\n",
       " ['geo', 'Georgia', 'Asia', '4.231660842895508', '7966.602756952667'],\n",
       " ['hkg', 'Hong Kong', 'Asia', '7.02522087097168', '41687.946418899235'],\n",
       " ['ind', 'India', 'Asia', '1230.980712890625', '4357.0597360582315'],\n",
       " ['irn', 'Iran', 'Asia', '74.56751251220703', '17328.457882894658'],\n",
       " ['irq', 'Iraq', 'Asia', '30.7627010345459', '9344.543768350652'],\n",
       " ['isr', 'Israel', 'Asia', '7.42595911026001', '28638.9037385305'],\n",
       " ['jor', 'Jordan', 'Asia', '7.182390213012695', '9351.387283068141'],\n",
       " ['jpn', 'Japan', 'Asia', '128.5518798828125', '36595.63364058582'],\n",
       " ['kaz', 'Kazakhstan', 'Asia', '16.398975372314453', '17908.83993251286'],\n",
       " ['kgz', 'Kyrgyzstan', 'Asia', '5.422337055206299', '3382.4639059259293'],\n",
       " ['khm', 'Cambodia', 'Asia', '14.30873966217041', '2330.127207632253'],\n",
       " ['kor', 'South Korea', 'Asia', '49.5528564453125', '31589.705161145695'],\n",
       " ['kwt', 'Kuwait', 'Asia', '2.9980831146240234', '67029.51680017101'],\n",
       " ['lao', 'Laos', 'Asia', '6.246273994445801', '4316.969858587265'],\n",
       " ['lbn', 'Lebanon', 'Asia', '4.337141036987305', '18025.24893894264'],\n",
       " ['lka', 'Sri Lanka', 'Asia', '20.198352813720703', '8390.429701766443'],\n",
       " ['mac', 'Macau', 'Asia', '0.536969006061554', '91982.39517540816'],\n",
       " ['mdv', 'Maldives', 'Asia', '0.36451101303100586', '12140.803390739566'],\n",
       " ['mmr', 'Burma', 'Asia', '50.1558952331543', '3422.241340266976'],\n",
       " ['mng', 'Mongolia', 'Asia', '2.7126500606536865', '7670.714034382584'],\n",
       " ['mys', 'Malaysia', 'Asia', '28.112289428710938', '17913.164410782432'],\n",
       " ['npl', 'Nepal', 'Asia', '27.023136138916016', '1996.1961554516242'],\n",
       " ['omn', 'Oman', 'Asia', '3.0414600372314453', '40472.674942509126'],\n",
       " ['pak', 'Pakistan', 'Asia', '170.5601806640625', '4171.416562353057'],\n",
       " ['phl', 'Philippines', 'Asia', '93.72662353515625', '5391.233965240031'],\n",
       " ['qat', 'Qatar', 'Asia', '1.7796759605407715', '123128.40152283433'],\n",
       " ['sau', 'Saudi Arabia', 'Asia', '27.425676345825195', '42331.65885721999'],\n",
       " ['sgp', 'Singapore', 'Asia', '5.074252128601074', '58618.43503468222'],\n",
       " ['syr', 'Syria', 'Asia', '21.01883316040039', '5700.329438992399'],\n",
       " ['tha', 'Thailand', 'Asia', '67.20880889892578', '12496.244186726299'],\n",
       " ['tjk', 'Tajikistan', 'Asia', '7.641630172729492', '2784.5145587763627'],\n",
       " ['tkm', 'Turkmenistan', 'Asia', '5.087210178375244', '16061.429412691556'],\n",
       " ['tur', 'Turkey', 'Asia', '72.32691192626953', '17930.678781392427'],\n",
       " ['twn', 'Taiwan', 'Asia', '23.140947341918945', '37188.89452901009'],\n",
       " ['uzb', 'Uzbekistan', 'Asia', '28.606294631958008', '6574.51672506692'],\n",
       " ['vnm', 'Vietnam', 'Asia', '88.4725112915039', '4428.42140209062'],\n",
       " ['yem', 'Yemen', 'Asia', '23.606779098510742', '4553.557258443674'],\n",
       " ['alb', 'Albania', 'Europe', '2.9405250549316406', '9544.73991912729'],\n",
       " ['aut', 'Austria', 'Europe', '8.40994930267334', '40489.80635849457'],\n",
       " ['bel', 'Belgium', 'Europe', '10.938738822937012', '38177.94724875522'],\n",
       " ['bgr', 'Bulgaria', 'Europe', '7.404590129852295', '14906.784964031736'],\n",
       " ['bih',\n",
       "  'Bosnia and Herzegovina',\n",
       "  'Europe',\n",
       "  '3.7220840454101562',\n",
       "  '9049.364732987471'],\n",
       " ['blr', 'Belarus', 'Europe', '9.473071098327637', '16457.02937904922'],\n",
       " ['che', 'Switzerland', 'Europe', '7.831971168518066', '55688.020214268225'],\n",
       " ['cze',\n",
       "  'Czech Republic',\n",
       "  'Europe',\n",
       "  '10.536286354064941',\n",
       "  '26129.56935189834'],\n",
       " ['deu', 'Germany', 'Europe', '80.89478302001953', '40627.23054942445'],\n",
       " ['dnk', 'Denmark', 'Europe', '5.554843902587891', '43416.22338615916'],\n",
       " ['esp', 'Spain', 'Europe', '46.788631439208984', '31610.980157042286'],\n",
       " ['est', 'Estonia', 'Europe', '1.3321019411087036', '20265.572596704937'],\n",
       " ['fin', 'Finland', 'Europe', '5.365781784057617', '38394.06158150017'],\n",
       " ['fra', 'France', 'Europe', '65.14578247070312', '35786.16161450548'],\n",
       " ['gbr', 'United Kingdom', 'Europe', '63.30684280395508', '34810.28120173958'],\n",
       " ['grc', 'Greece', 'Europe', '11.446004867553711', '25815.80076797162'],\n",
       " ['hrv', 'Croatia', 'Europe', '4.328153133392334', '19305.008088868373'],\n",
       " ['hun', 'Hungary', 'Europe', '9.927840232849121', '20477.79856764035'],\n",
       " ['irl', 'Ireland', 'Europe', '4.626927852630615', '47823.50815113634'],\n",
       " ['isl', 'Iceland', 'Europe', '0.3203279972076416', '37729.01607603124'],\n",
       " ['ita', 'Italy', 'Europe', '59.72980880737305', '34727.67268834705'],\n",
       " ['ltu', 'Lithuania', 'Europe', '3.123802900314331', '18475.371145517096'],\n",
       " ['lux', 'Luxembourg', 'Europe', '0.5078889727592468', '57882.81020537233'],\n",
       " ['lva', 'Latvia', 'Europe', '2.1188480854034424', '16943.688322829523'],\n",
       " ['mda', 'Moldova', 'Europe', '4.0844807624816895', '4173.634753274572'],\n",
       " ['mkd', 'Macedonia', 'Europe', '2.0707390308380127', '11265.643175619889'],\n",
       " ['mlt', 'Malta', 'Europe', '0.41611000895500183', '22983.44992639125'],\n",
       " ['mne', 'Montenegro', 'Europe', '0.6242849826812744', '14960.94855221103'],\n",
       " ['nld', 'Netherlands', 'Europe', '16.68291664123535', '44004.146024770846'],\n",
       " ['nor', 'Norway', 'Europe', '4.885878086090088', '73262.68174170727'],\n",
       " ['pol', 'Poland', 'Europe', '38.323402404785156', '21006.027309294514'],\n",
       " ['prt', 'Portugal', 'Europe', '10.652320861816406', '25788.2739652247'],\n",
       " ['rou', 'Romania', 'Europe', '20.44034767150879', '16775.609043478133'],\n",
       " ['rus', 'Russia', 'Asia', '143.15386962890625', '21754.067899615977'],\n",
       " ['srb', 'Serbia', 'Europe', '7.291436195373535', '12453.482551916944'],\n",
       " ['svk', 'Slovakia', 'Europe', '5.404294013977051', '23061.12099058148'],\n",
       " ['svn', 'Slovenia', 'Europe', '2.045167922973633', '25831.33128718208'],\n",
       " ['swe', 'Sweden', 'Europe', '9.390168190002441', '40421.906436576974'],\n",
       " ['ukr', 'Ukraine', 'Europe', '45.79249954223633', '8713.259627419637'],\n",
       " ['abw', 'Aruba', 'NorthAmerica', '0.10166899859905243', '37059.34143869512'],\n",
       " ['aia',\n",
       "  'Anguilla',\n",
       "  'NorthAmerica',\n",
       "  '0.013768999837338924',\n",
       "  '21098.057152999143'],\n",
       " ['atg',\n",
       "  'Antigua and Barbuda',\n",
       "  'NorthAmerica',\n",
       "  '0.09466099739074707',\n",
       "  '17162.16102781353'],\n",
       " ['bhs',\n",
       "  'Bahamas',\n",
       "  'NorthAmerica',\n",
       "  '0.36083200573921204',\n",
       "  '29504.581346144332'],\n",
       " ['blz', 'Belize', 'NorthAmerica', '0.3216080069541931', '7145.952547655193'],\n",
       " ['bmu',\n",
       "  'Bermuda',\n",
       "  'NorthAmerica',\n",
       "  '0.06395599991083145',\n",
       "  '51447.147481910884'],\n",
       " ['brb',\n",
       "  'Barbados',\n",
       "  'NorthAmerica',\n",
       "  '0.27956900000572205',\n",
       "  '13995.612896540895'],\n",
       " ['can', 'Canada', 'NorthAmerica', '34.16866683959961', '40269.03526728651'],\n",
       " ['cri',\n",
       "  'Costa Rica',\n",
       "  'NorthAmerica',\n",
       "  '4.5452799797058105',\n",
       "  '12106.99191566891'],\n",
       " ['cuw',\n",
       "  'CuraÃ§ao',\n",
       "  'NorthAmerica',\n",
       "  '0.14760799705982208',\n",
       "  '24337.816177887613'],\n",
       " ['cym',\n",
       "  'Cayman Islands',\n",
       "  'NorthAmerica',\n",
       "  '0.05550700053572655',\n",
       "  '36670.678481483985'],\n",
       " ['dma',\n",
       "  'Dominica',\n",
       "  'NorthAmerica',\n",
       "  '0.07143999636173248',\n",
       "  '9101.993729581038'],\n",
       " ['dom',\n",
       "  'Dominican Republic',\n",
       "  'NorthAmerica',\n",
       "  '9.897985458374023',\n",
       "  '11500.13134401987'],\n",
       " ['grd', 'Grenada', 'NorthAmerica', '0.1046769991517067', '9791.291133092265'],\n",
       " ['gtm',\n",
       "  'Guatemala',\n",
       "  'NorthAmerica',\n",
       "  '14.630416870117188',\n",
       "  '6359.262684615136'],\n",
       " ['hnd',\n",
       "  'Honduras',\n",
       "  'NorthAmerica',\n",
       "  '8.194778442382812',\n",
       "  '3789.9102248753848'],\n",
       " ['hti', 'Haiti', 'NorthAmerica', '9.999616622924805', '1650.2697128700804'],\n",
       " ['jam', 'Jamaica', 'NorthAmerica', '2.8172099590301514', '6675.176956450172'],\n",
       " ['kna',\n",
       "  'Saint Kitts and Nevis',\n",
       "  'NorthAmerica',\n",
       "  '0.05144499987363815',\n",
       "  '17837.349758162076'],\n",
       " ['lca',\n",
       "  'Saint Lucia',\n",
       "  'NorthAmerica',\n",
       "  '0.17258000373840332',\n",
       "  '9178.266990673521'],\n",
       " ['mex', 'Mexico', 'NorthAmerica', '117.31893920898438', '14507.011923865603'],\n",
       " ['msr',\n",
       "  'Montserrat',\n",
       "  'NorthAmerica',\n",
       "  '0.00494399992749095',\n",
       "  '15385.002991478228'],\n",
       " ['nic',\n",
       "  'Nicaragua',\n",
       "  'NorthAmerica',\n",
       "  '5.737722873687744',\n",
       "  '3992.7619078961748'],\n",
       " ['pan', 'Panama', 'NorthAmerica', '3.6432220935821533', '15055.237591848218'],\n",
       " ['slv',\n",
       "  'El Salvador',\n",
       "  'NorthAmerica',\n",
       "  '6.164626121520996',\n",
       "  '6096.958357099287'],\n",
       " ['tca',\n",
       "  'Turks and Caicos Islands',\n",
       "  'NorthAmerica',\n",
       "  '0.030993999913334846',\n",
       "  '7230.966074605446'],\n",
       " ['tto',\n",
       "  'Trinidad and Tobago',\n",
       "  'NorthAmerica',\n",
       "  '1.3280999660491943',\n",
       "  '27510.236190041924'],\n",
       " ['usa',\n",
       "  'United States',\n",
       "  'NorthAmerica',\n",
       "  '308.6413879394531',\n",
       "  '49500.62628346238'],\n",
       " ['vct',\n",
       "  'Saint Vincent and the Grenadines',\n",
       "  'NorthAmerica',\n",
       "  '0.10931500047445297',\n",
       "  '8095.21923068351'],\n",
       " ['vgb',\n",
       "  'British Virgin Islands',\n",
       "  'NorthAmerica',\n",
       "  '0.027224000543355942',\n",
       "  '21183.279165646647'],\n",
       " ['aus', 'Australia', 'Oceania', '22.12006378173828', '44854.90004866657'],\n",
       " ['fji', 'Fiji', 'Oceania', '0.8599500060081482', '6902.0687720944225'],\n",
       " ['nzl', 'New Zealand', 'Oceania', '4.370061874389648', '30867.05437525178'],\n",
       " ['arg',\n",
       "  'Argentina',\n",
       "  'SouthAmerica',\n",
       "  '41.2238883972168',\n",
       "  '15841.658208158999'],\n",
       " ['bol', 'Bolivia', 'SouthAmerica', '9.918242454528809', '4806.608983377068'],\n",
       " ['bra', 'Brazil', 'SouthAmerica', '196.7962646484375', '13541.462561602328'],\n",
       " ['chl', 'Chile', 'SouthAmerica', '16.99335479736328', '18092.94007371081']]"
      ]
     },
     "execution_count": 26,
     "metadata": {},
     "output_type": "execute_result"
    }
   ],
   "source": [
    "# Load the file cdata.csv into an object called raw\n",
    "with open('cdata.csv', 'r') as file:\n",
    "    raw = list(csv.reader(file, delimiter=','))\n",
    "    \n",
    "raw"
   ]
  },
  {
   "cell_type": "markdown",
   "metadata": {},
   "source": [
    "**13.1**: Create a dictionary called *cData* in which the key corresponds to the 3-digit ISO Code and the value is a tuple with the information contained in the 2nd to the 5th of column of the cdata file."
   ]
  },
  {
   "cell_type": "code",
   "execution_count": 27,
   "metadata": {
    "ExecuteTime": {
     "end_time": "2024-10-02T11:24:23.637591Z",
     "start_time": "2024-10-02T11:24:23.620720Z"
    }
   },
   "outputs": [
    {
     "data": {
      "text/plain": [
       "{'ago': ('Angola', 'Africa', 23.369131088256836, 5988.534997149481),\n",
       " 'bdi': ('Burundi', 'Africa', 8.766929626464844, 731.4232803265862),\n",
       " 'ben': ('Benin', 'Africa', 9.199258804321289, 1919.9969479963038),\n",
       " 'bfa': ('Burkina Faso', 'Africa', 15.605216979980469, 1327.2165314775982),\n",
       " 'bwa': ('Botswana', 'Africa', 2.0148661136627197, 12256.14159052444),\n",
       " 'caf': ('Central African Republic',\n",
       "  'Africa',\n",
       "  4.4485249519348145,\n",
       "  865.4421867263901),\n",
       " 'cmr': ('Cameroon', 'Africa', 19.970495223999023, 2684.972890247272),\n",
       " 'cod': ('Democratic Republic of the Congo',\n",
       "  'Africa',\n",
       "  64.52326202392578,\n",
       "  634.9713963013496),\n",
       " 'cog': ('Republic of the Congo',\n",
       "  'Africa',\n",
       "  4.386693000793457,\n",
       "  4979.990496069269),\n",
       " 'com': ('Comoros', 'Africa', 0.6896920204162598, 2292.997969425929),\n",
       " 'cpv': ('Cape Verde', 'Africa', 0.5023840069770813, 5644.821253339075),\n",
       " 'dji': ('Djibouti', 'Africa', 0.8511459827423096, 2124.4420625972525),\n",
       " 'dza': ('Algeria', 'Africa', 36.117637634277344, 12590.224223813591),\n",
       " 'egy': ('Egypt', 'Africa', 84.10760498046875, 9148.839753298033),\n",
       " 'eth': ('Ethiopia', 'Africa', 87.70266723632812, 1100.1831875876223),\n",
       " 'gab': ('Gabon', 'Africa', 1.6402100324630737, 11961.168226448879),\n",
       " 'gha': ('Ghana', 'Africa', 24.512104034423828, 3931.2918319728856),\n",
       " 'gin': ('Guinea', 'Africa', 10.794170379638672, 1742.7346742167783),\n",
       " 'gmb': ('Gambia', 'Africa', 1.692149043083191, 2681.8586168502143),\n",
       " 'gnb': ('Guinea-Bissau', 'Africa', 1.5558799505233765, 1387.2497310879905),\n",
       " 'gnq': ('Equatorial Guinea',\n",
       "  'Africa',\n",
       "  0.9511039853096008,\n",
       "  31416.887137501908),\n",
       " 'ken': ('Kenya', 'Africa', 41.35015106201172, 2484.0349094725366),\n",
       " 'lbr': ('Liberia', 'Africa', 3.948124885559082, 786.6702306741524),\n",
       " 'lso': ('Lesotho', 'Africa', 2.040550947189331, 2432.7976546880823),\n",
       " 'mar': ('Morocco', 'Africa', 32.409637451171875, 6421.937677907418),\n",
       " 'mdg': ('Madagascar', 'Africa', 21.151639938354492, 1459.9156124535612),\n",
       " 'mli': ('Mali', 'Africa', 15.075084686279297, 1873.2809618195865),\n",
       " 'moz': ('Mozambique', 'Africa', 24.221405029296875, 969.2307622526259),\n",
       " 'mrt': ('Mauritania', 'Africa', 3.6095430850982666, 3082.647028528842),\n",
       " 'mus': ('Mauritius', 'Africa', 1.2479549646377563, 15178.325920597827),\n",
       " 'mwi': ('Malawi', 'Africa', 15.167095184326172, 972.0456815116237),\n",
       " 'nam': ('Namibia', 'Africa', 2.1731700897216797, 7689.171239820006),\n",
       " 'ner': ('Niger', 'Africa', 16.42557716369629, 845.8693682212395),\n",
       " 'nga': ('Nigeria', 'Africa', 158.57826232910156, 5186.304307542348),\n",
       " 'rwa': ('Rwanda', 'Africa', 10.246842384338379, 1379.6993252327009),\n",
       " 'sdn': ('Sudan', 'Africa', 34.385963439941406, 3608.7856176907358),\n",
       " 'sen': ('Senegal', 'Africa', 12.916229248046875, 2741.121456198507),\n",
       " 'sle': ('Sierra Leone', 'Africa', 6.4587202072143555, 1161.8796942144647),\n",
       " 'swz': ('Swaziland', 'Africa', 1.2028429508209229, 7042.524359035093),\n",
       " 'syc': ('Seychelles', 'Africa', 0.0914049968123436, 17960.353075613308),\n",
       " 'tcd': ('Chad', 'Africa', 11.887202262878418, 1880.3748762799714),\n",
       " 'tgo': ('Togo', 'Africa', 6.5029520988464355, 1222.8150529133295),\n",
       " 'tun': ('Tunisia', 'Africa', 10.639930725097656, 10647.834980284626),\n",
       " 'tza': ('Tanzania', 'Africa', 44.82893753051758, 1979.1718644815185),\n",
       " 'uga': ('Uganda', 'Africa', 33.91513442993164, 1723.5943355766267),\n",
       " 'zaf': ('South Africa', 'Africa', 51.58466339111328, 11388.640515995063),\n",
       " 'zmb': ('Zambia', 'Africa', 13.850032806396484, 2870.8872656342314),\n",
       " 'zwe': ('Zimbabwe', 'Africa', 14.08631706237793, 1479.0305839163732),\n",
       " 'are': ('United Arab Emirates',\n",
       "  'Asia',\n",
       "  8.270684242248535,\n",
       "  59707.412565389604),\n",
       " 'arm': ('Armenia', 'Asia', 2.8773109912872314, 8222.945234202914),\n",
       " 'aze': ('Azerbaijan', 'Asia', 9.03245735168457, 12947.102198682365),\n",
       " 'bgd': ('Bangladesh', 'Asia', 152.14910888671875, 2411.1020691099325),\n",
       " 'bhr': ('Bahrain', 'Asia', 1.2408620119094849, 37045.81310919623),\n",
       " 'brn': ('Brunei', 'Asia', 0.3886620104312897, 67320.89957245934),\n",
       " 'btn': ('Bhutan', 'Asia', 0.7276409864425659, 7235.18974818538),\n",
       " 'chn': ('China', 'Asia', 1359.755126953125, 9337.290772677254),\n",
       " 'cyp': ('Cyprus', 'Asia', 0.829446017742157, 28046.373877741087),\n",
       " 'geo': ('Georgia', 'Asia', 4.231660842895508, 7966.602756952667),\n",
       " 'hkg': ('Hong Kong', 'Asia', 7.02522087097168, 41687.946418899235),\n",
       " 'ind': ('India', 'Asia', 1230.980712890625, 4357.0597360582315),\n",
       " 'irn': ('Iran', 'Asia', 74.56751251220703, 17328.457882894658),\n",
       " 'irq': ('Iraq', 'Asia', 30.7627010345459, 9344.543768350652),\n",
       " 'isr': ('Israel', 'Asia', 7.42595911026001, 28638.9037385305),\n",
       " 'jor': ('Jordan', 'Asia', 7.182390213012695, 9351.387283068141),\n",
       " 'jpn': ('Japan', 'Asia', 128.5518798828125, 36595.63364058582),\n",
       " 'kaz': ('Kazakhstan', 'Asia', 16.398975372314453, 17908.83993251286),\n",
       " 'kgz': ('Kyrgyzstan', 'Asia', 5.422337055206299, 3382.4639059259293),\n",
       " 'khm': ('Cambodia', 'Asia', 14.30873966217041, 2330.127207632253),\n",
       " 'kor': ('South Korea', 'Asia', 49.5528564453125, 31589.705161145695),\n",
       " 'kwt': ('Kuwait', 'Asia', 2.9980831146240234, 67029.51680017101),\n",
       " 'lao': ('Laos', 'Asia', 6.246273994445801, 4316.969858587265),\n",
       " 'lbn': ('Lebanon', 'Asia', 4.337141036987305, 18025.24893894264),\n",
       " 'lka': ('Sri Lanka', 'Asia', 20.198352813720703, 8390.429701766443),\n",
       " 'mac': ('Macau', 'Asia', 0.536969006061554, 91982.39517540816),\n",
       " 'mdv': ('Maldives', 'Asia', 0.36451101303100586, 12140.803390739566),\n",
       " 'mmr': ('Burma', 'Asia', 50.1558952331543, 3422.241340266976),\n",
       " 'mng': ('Mongolia', 'Asia', 2.7126500606536865, 7670.714034382584),\n",
       " 'mys': ('Malaysia', 'Asia', 28.112289428710938, 17913.164410782432),\n",
       " 'npl': ('Nepal', 'Asia', 27.023136138916016, 1996.1961554516242),\n",
       " 'omn': ('Oman', 'Asia', 3.0414600372314453, 40472.674942509126),\n",
       " 'pak': ('Pakistan', 'Asia', 170.5601806640625, 4171.416562353057),\n",
       " 'phl': ('Philippines', 'Asia', 93.72662353515625, 5391.233965240031),\n",
       " 'qat': ('Qatar', 'Asia', 1.7796759605407715, 123128.40152283433),\n",
       " 'sau': ('Saudi Arabia', 'Asia', 27.425676345825195, 42331.65885721999),\n",
       " 'sgp': ('Singapore', 'Asia', 5.074252128601074, 58618.43503468222),\n",
       " 'syr': ('Syria', 'Asia', 21.01883316040039, 5700.329438992399),\n",
       " 'tha': ('Thailand', 'Asia', 67.20880889892578, 12496.244186726299),\n",
       " 'tjk': ('Tajikistan', 'Asia', 7.641630172729492, 2784.5145587763627),\n",
       " 'tkm': ('Turkmenistan', 'Asia', 5.087210178375244, 16061.429412691556),\n",
       " 'tur': ('Turkey', 'Asia', 72.32691192626953, 17930.678781392427),\n",
       " 'twn': ('Taiwan', 'Asia', 23.140947341918945, 37188.89452901009),\n",
       " 'uzb': ('Uzbekistan', 'Asia', 28.606294631958008, 6574.51672506692),\n",
       " 'vnm': ('Vietnam', 'Asia', 88.4725112915039, 4428.42140209062),\n",
       " 'yem': ('Yemen', 'Asia', 23.606779098510742, 4553.557258443674),\n",
       " 'alb': ('Albania', 'Europe', 2.9405250549316406, 9544.73991912729),\n",
       " 'aut': ('Austria', 'Europe', 8.40994930267334, 40489.80635849457),\n",
       " 'bel': ('Belgium', 'Europe', 10.938738822937012, 38177.94724875522),\n",
       " 'bgr': ('Bulgaria', 'Europe', 7.404590129852295, 14906.784964031736),\n",
       " 'bih': ('Bosnia and Herzegovina',\n",
       "  'Europe',\n",
       "  3.7220840454101562,\n",
       "  9049.364732987471),\n",
       " 'blr': ('Belarus', 'Europe', 9.473071098327637, 16457.02937904922),\n",
       " 'che': ('Switzerland', 'Europe', 7.831971168518066, 55688.020214268225),\n",
       " 'cze': ('Czech Republic', 'Europe', 10.536286354064941, 26129.56935189834),\n",
       " 'deu': ('Germany', 'Europe', 80.89478302001953, 40627.23054942445),\n",
       " 'dnk': ('Denmark', 'Europe', 5.554843902587891, 43416.22338615916),\n",
       " 'esp': ('Spain', 'Europe', 46.788631439208984, 31610.980157042286),\n",
       " 'est': ('Estonia', 'Europe', 1.3321019411087036, 20265.572596704937),\n",
       " 'fin': ('Finland', 'Europe', 5.365781784057617, 38394.06158150017),\n",
       " 'fra': ('France', 'Europe', 65.14578247070312, 35786.16161450548),\n",
       " 'gbr': ('United Kingdom', 'Europe', 63.30684280395508, 34810.28120173958),\n",
       " 'grc': ('Greece', 'Europe', 11.446004867553711, 25815.80076797162),\n",
       " 'hrv': ('Croatia', 'Europe', 4.328153133392334, 19305.008088868373),\n",
       " 'hun': ('Hungary', 'Europe', 9.927840232849121, 20477.79856764035),\n",
       " 'irl': ('Ireland', 'Europe', 4.626927852630615, 47823.50815113634),\n",
       " 'isl': ('Iceland', 'Europe', 0.3203279972076416, 37729.01607603124),\n",
       " 'ita': ('Italy', 'Europe', 59.72980880737305, 34727.67268834705),\n",
       " 'ltu': ('Lithuania', 'Europe', 3.123802900314331, 18475.371145517096),\n",
       " 'lux': ('Luxembourg', 'Europe', 0.5078889727592468, 57882.81020537233),\n",
       " 'lva': ('Latvia', 'Europe', 2.1188480854034424, 16943.688322829523),\n",
       " 'mda': ('Moldova', 'Europe', 4.0844807624816895, 4173.634753274572),\n",
       " 'mkd': ('Macedonia', 'Europe', 2.0707390308380127, 11265.643175619889),\n",
       " 'mlt': ('Malta', 'Europe', 0.41611000895500183, 22983.44992639125),\n",
       " 'mne': ('Montenegro', 'Europe', 0.6242849826812744, 14960.94855221103),\n",
       " 'nld': ('Netherlands', 'Europe', 16.68291664123535, 44004.146024770846),\n",
       " 'nor': ('Norway', 'Europe', 4.885878086090088, 73262.68174170727),\n",
       " 'pol': ('Poland', 'Europe', 38.323402404785156, 21006.027309294514),\n",
       " 'prt': ('Portugal', 'Europe', 10.652320861816406, 25788.2739652247),\n",
       " 'rou': ('Romania', 'Europe', 20.44034767150879, 16775.609043478133),\n",
       " 'rus': ('Russia', 'Asia', 143.15386962890625, 21754.067899615977),\n",
       " 'srb': ('Serbia', 'Europe', 7.291436195373535, 12453.482551916944),\n",
       " 'svk': ('Slovakia', 'Europe', 5.404294013977051, 23061.12099058148),\n",
       " 'svn': ('Slovenia', 'Europe', 2.045167922973633, 25831.33128718208),\n",
       " 'swe': ('Sweden', 'Europe', 9.390168190002441, 40421.906436576974),\n",
       " 'ukr': ('Ukraine', 'Europe', 45.79249954223633, 8713.259627419637),\n",
       " 'abw': ('Aruba', 'NorthAmerica', 0.10166899859905243, 37059.34143869512),\n",
       " 'aia': ('Anguilla', 'NorthAmerica', 0.013768999837338924, 21098.057152999143),\n",
       " 'atg': ('Antigua and Barbuda',\n",
       "  'NorthAmerica',\n",
       "  0.09466099739074707,\n",
       "  17162.16102781353),\n",
       " 'bhs': ('Bahamas', 'NorthAmerica', 0.36083200573921204, 29504.581346144332),\n",
       " 'blz': ('Belize', 'NorthAmerica', 0.3216080069541931, 7145.952547655193),\n",
       " 'bmu': ('Bermuda', 'NorthAmerica', 0.06395599991083145, 51447.147481910884),\n",
       " 'brb': ('Barbados', 'NorthAmerica', 0.27956900000572205, 13995.612896540895),\n",
       " 'can': ('Canada', 'NorthAmerica', 34.16866683959961, 40269.03526728651),\n",
       " 'cri': ('Costa Rica', 'NorthAmerica', 4.5452799797058105, 12106.99191566891),\n",
       " 'cuw': ('CuraÃ§ao', 'NorthAmerica', 0.14760799705982208, 24337.816177887613),\n",
       " 'cym': ('Cayman Islands',\n",
       "  'NorthAmerica',\n",
       "  0.05550700053572655,\n",
       "  36670.678481483985),\n",
       " 'dma': ('Dominica', 'NorthAmerica', 0.07143999636173248, 9101.993729581038),\n",
       " 'dom': ('Dominican Republic',\n",
       "  'NorthAmerica',\n",
       "  9.897985458374023,\n",
       "  11500.13134401987),\n",
       " 'grd': ('Grenada', 'NorthAmerica', 0.1046769991517067, 9791.291133092265),\n",
       " 'gtm': ('Guatemala', 'NorthAmerica', 14.630416870117188, 6359.262684615136),\n",
       " 'hnd': ('Honduras', 'NorthAmerica', 8.194778442382812, 3789.9102248753848),\n",
       " 'hti': ('Haiti', 'NorthAmerica', 9.999616622924805, 1650.2697128700804),\n",
       " 'jam': ('Jamaica', 'NorthAmerica', 2.8172099590301514, 6675.176956450172),\n",
       " 'kna': ('Saint Kitts and Nevis',\n",
       "  'NorthAmerica',\n",
       "  0.05144499987363815,\n",
       "  17837.349758162076),\n",
       " 'lca': ('Saint Lucia',\n",
       "  'NorthAmerica',\n",
       "  0.17258000373840332,\n",
       "  9178.266990673521),\n",
       " 'mex': ('Mexico', 'NorthAmerica', 117.31893920898438, 14507.011923865603),\n",
       " 'msr': ('Montserrat',\n",
       "  'NorthAmerica',\n",
       "  0.00494399992749095,\n",
       "  15385.002991478228),\n",
       " 'nic': ('Nicaragua', 'NorthAmerica', 5.737722873687744, 3992.7619078961748),\n",
       " 'pan': ('Panama', 'NorthAmerica', 3.6432220935821533, 15055.237591848218),\n",
       " 'slv': ('El Salvador', 'NorthAmerica', 6.164626121520996, 6096.958357099287),\n",
       " 'tca': ('Turks and Caicos Islands',\n",
       "  'NorthAmerica',\n",
       "  0.030993999913334846,\n",
       "  7230.966074605446),\n",
       " 'tto': ('Trinidad and Tobago',\n",
       "  'NorthAmerica',\n",
       "  1.3280999660491943,\n",
       "  27510.236190041924),\n",
       " 'usa': ('United States',\n",
       "  'NorthAmerica',\n",
       "  308.6413879394531,\n",
       "  49500.62628346238),\n",
       " 'vct': ('Saint Vincent and the Grenadines',\n",
       "  'NorthAmerica',\n",
       "  0.10931500047445297,\n",
       "  8095.21923068351),\n",
       " 'vgb': ('British Virgin Islands',\n",
       "  'NorthAmerica',\n",
       "  0.027224000543355942,\n",
       "  21183.279165646647),\n",
       " 'aus': ('Australia', 'Oceania', 22.12006378173828, 44854.90004866657),\n",
       " 'fji': ('Fiji', 'Oceania', 0.8599500060081482, 6902.0687720944225),\n",
       " 'nzl': ('New Zealand', 'Oceania', 4.370061874389648, 30867.05437525178),\n",
       " 'arg': ('Argentina', 'SouthAmerica', 41.2238883972168, 15841.658208158999),\n",
       " 'bol': ('Bolivia', 'SouthAmerica', 9.918242454528809, 4806.608983377068),\n",
       " 'bra': ('Brazil', 'SouthAmerica', 196.7962646484375, 13541.462561602328),\n",
       " 'chl': ('Chile', 'SouthAmerica', 16.99335479736328, 18092.94007371081)}"
      ]
     },
     "execution_count": 27,
     "metadata": {},
     "output_type": "execute_result"
    }
   ],
   "source": [
    "# Create a dictionary called cData\n",
    "cData = {}\n",
    "\n",
    "# Iterate through the raw data to create the cData dictionary\n",
    "for row in raw[1:]: # Skip the header row with column names\n",
    "    cData[row[0]] = (row[1], row[2], float(row[3]), float(row[4]))\n",
    "    \n",
    "cData"
   ]
  },
  {
   "cell_type": "markdown",
   "metadata": {},
   "source": [
    "**14**: Using *cData*, identify what is the most common Continent among the nations in the list *countries*."
   ]
  },
  {
   "cell_type": "code",
   "execution_count": 28,
   "metadata": {
    "ExecuteTime": {
     "end_time": "2024-10-02T11:24:24.837295Z",
     "start_time": "2024-10-02T11:24:24.829204Z"
    }
   },
   "outputs": [
    {
     "name": "stdout",
     "output_type": "stream",
     "text": [
      "{'Europe': 3, 'Asia': 3}\n",
      "\n",
      "The most common continent among the nations in the list countries is: Europe and Asia\n"
     ]
    }
   ],
   "source": [
    "# Initialize a dictionary to store the count of each continent\n",
    "continent_count = {}\n",
    "\n",
    "# Iterate through the list of countries\n",
    "for country in countries:\n",
    "    \n",
    "    # Iterate through the cData dictionary\n",
    "    for key, value in cData.items():\n",
    "        \n",
    "        # Check if the country is in the cData dictionary using the name of the country\n",
    "        if country[1].lower() == cData[key][0].lower():\n",
    "            \n",
    "            # Get the continent of the country from the cData dictionary using the ISO code\n",
    "            continent = value[1]\n",
    "            \n",
    "            # If the continent is already in the dictionary, increment the count\n",
    "            if continent in continent_count:\n",
    "                continent_count[continent] += 1\n",
    "                \n",
    "            # If the continent is not in the dictionary, add it with a count of 1\n",
    "            else:\n",
    "                continent_count[continent] = 1\n",
    "                \n",
    "# Print the dictionary with the count of each continent\n",
    "print(continent_count)\n",
    "\n",
    "# Get the most common continent among the nations in the list countries\n",
    "most_common_count = max(continent_count.values())\n",
    "most_common_continents = [key for key, value in continent_count.items() if value == most_common_count]\n",
    "\n",
    "print(\"\\nThe most common continent among the nations in the list countries is:\", most_common_continents[0], 'and', most_common_continents[1])"
   ]
  },
  {
   "cell_type": "markdown",
   "metadata": {},
   "source": [
    "**15**: Using *cData*, identify what is the most populated nation in the list *countries*."
   ]
  },
  {
   "cell_type": "code",
   "execution_count": 29,
   "metadata": {
    "ExecuteTime": {
     "end_time": "2024-10-02T11:24:26.710954Z",
     "start_time": "2024-10-02T11:24:26.701404Z"
    }
   },
   "outputs": [
    {
     "name": "stdout",
     "output_type": "stream",
     "text": [
      "{'Portugal': 10.652320861816406, 'Israel': 7.42595911026001, 'Japan': 128.5518798828125, 'Russia': 143.15386962890625, 'Denmark': 5.554843902587891, 'Norway': 4.885878086090088}\n",
      "\n",
      "The most populated nation in the list countries is: Russia\n"
     ]
    }
   ],
   "source": [
    "# Initialize a dictionary to store the population size of each country\n",
    "population_size = {}\n",
    "\n",
    "# Iterate through the list of countries\n",
    "for country in countries:\n",
    "    \n",
    "    # Iterate through the cData dictionary\n",
    "    for key, value in cData.items():\n",
    "        \n",
    "        # Check if the country is in the cData dictionary\n",
    "        if country[1].lower() == cData[key][0].lower():\n",
    "            \n",
    "            # Get the population size of the country from the cData dictionary using the ISO code\n",
    "            population = value[2]\n",
    "            \n",
    "            # Store the population size of each country\n",
    "            population_size[country[1]] = population\n",
    "            \n",
    "# Print the dictionary with the population size of each country\n",
    "print(population_size)\n",
    "\n",
    "# Get the most populated nation in the list countries\n",
    "most_populated_country = max(population_size, key=population_size.get)\n",
    "\n",
    "print(\"\\nThe most populated nation in the list countries is:\", most_populated_country)"
   ]
  },
  {
   "cell_type": "markdown",
   "metadata": {},
   "source": [
    "**16**: Compare the average GDP per capita of the nations in the list *countries* with the average GDP of the countries in cdata file. What can you conclude?"
   ]
  },
  {
   "cell_type": "code",
   "execution_count": 30,
   "metadata": {
    "ExecuteTime": {
     "end_time": "2024-10-02T11:24:28.761672Z",
     "start_time": "2024-10-02T11:24:28.749397Z"
    }
   },
   "outputs": [
    {
     "name": "stdout",
     "output_type": "stream",
     "text": [
      "The average GDP per capita of the nations in the list countries is: 18014.655 \n",
      "\n",
      "GPD per capita of Portugal is 25788.27\n",
      "The GPD in Portugal is greater than the average. \n",
      "\n",
      "GPD per capita of Israel is 28638.9\n",
      "The GPD in Israel is greater than the average. \n",
      "\n",
      "GPD per capita of Japan is 36595.63\n",
      "The GPD in Japan is greater than the average. \n",
      "\n",
      "GPD per capita of Russia is 21754.07\n",
      "The GPD in Russia is greater than the average. \n",
      "\n",
      "GPD per capita of Denmark is 43416.22\n",
      "The GPD in Denmark is greater than the average. \n",
      "\n",
      "GPD per capita of Norway is 73262.68\n",
      "The GPD in Norway is greater than the average. \n",
      "\n"
     ]
    }
   ],
   "source": [
    "# Calculate the average GDP per capita of the nations in the list countries\n",
    "# Consider cData[key][0] as the country name\n",
    "#          cData[key][3] as the GDP per capita\n",
    "\n",
    "average_gdp_cData = []\n",
    "\n",
    "# Iterate through the list of countries in the cData dictionary\n",
    "for key, value in cData.items():\n",
    "    \n",
    "    # Get the GDP per capita of the country from the cData dictionary using the ISO code\n",
    "    gdp_per_capita = value[3]\n",
    "    \n",
    "    # Add the GDP per capita of each country to the list\n",
    "    average_gdp_cData.append(gdp_per_capita)\n",
    "                       \n",
    "# Calculate the average GDP per capita of the nations in the list countries\n",
    "average_gdp_cData_value = sum(average_gdp_cData) / len(average_gdp_cData)\n",
    "\n",
    "print(\"The average GDP per capita of the nations in the list countries is:\", round(average_gdp_cData_value,3), \"\\n\")\n",
    "\n",
    "# =============================================================================\n",
    "# Compare the average GDP per capita of the nations in the list countries with the average GDP of the countries in cdata file\n",
    "\n",
    "# Iterate through the list of countries in the list 'countries' and the cData dictionary\n",
    "for country in countries:\n",
    "    \n",
    "    # Iterate through the cData dictionary\n",
    "    for key, value in cData.items():\n",
    "\n",
    "        # Check if the country is in the cData dictionary\n",
    "        if country[1].lower() == cData[key][0].lower():\n",
    "            \n",
    "            # Print the country and its GDP per capita\n",
    "            print(\"GPD per capita of\", country[1], \"is\", round(float(cData[key][3]), 2))\n",
    "            \n",
    "            # Compare the GDP per capita of the country with the average GDP per capita\n",
    "            if round(float(cData[key][3]), 2) > average_gdp_cData_value:\n",
    "                print(\"The GPD in\", country[1], \"is greater than the average.\",\"\\n\")\n",
    "            else:\n",
    "                print(\"The GPD in\", country[1], \"is lower than the average.\",\"\\n\")"
   ]
  },
  {
   "cell_type": "markdown",
   "metadata": {},
   "source": [
    "## Conclusion of Exercise II - Question 16 \n",
    "\n",
    "> The **average GDP per capita** of the nations in the list **`countries`** are all greater than the average GDP of the countries in the **`cdata`** file. \n",
    "\n",
    "> So, we can conclude that the nations in the list **`countries`** are developed countries compared to the countries in the **`cdata`** file. \n",
    "\n",
    "- This fact is also supported by the fact that the nations in the list **`countries`** are from Europe, developed Asia, and America, which are known to have higher GDP per capita compared to other continents. \n",
    "- On the other hand, the **`cdata`** file contains countries from all continents, including developing countries from Africa and Asia, which have lower GDP per capita compared to developed countries.\n",
    "\n",
    "<br><br>\n",
    "\n",
    "**Note:** **Colombia** is a country in South America, and **Nevada** is a state in the USA and both are not in **`cData`** file.\n",
    "\n",
    "----"
   ]
  },
  {
   "cell_type": "markdown",
   "metadata": {},
   "source": [
    "# <span style=\"color:brown\"> Part 3 - Functions hurt nobody </span>\n",
    "\n",
    "## Exercise I - I hate math\n",
    "\n",
    "##### Consider the following equation:\n",
    "\n",
    "\\begin{equation}\n",
    "    y = 6x^2 + 3x + 2 + cos(x)\n",
    "\\end{equation}\n",
    "\n",
    "**17**: Write a function called *f* that takes one argument, x, and returns y according to the equation above. *Note: You should use the module math to solve this exercise.*"
   ]
  },
  {
   "cell_type": "code",
   "execution_count": 31,
   "metadata": {
    "ExecuteTime": {
     "end_time": "2024-10-02T11:24:30.996804Z",
     "start_time": "2024-10-02T11:24:30.991135Z"
    }
   },
   "outputs": [],
   "source": [
    "# Import the math module to use the cos function -> import math\n",
    "\n",
    "# Function that takes one argument, x, and returns y according to the equation\n",
    "def f(x):\n",
    "    # If x is not a number, return None\n",
    "    if not isinstance(x, (int, float)):\n",
    "        return ValueError(\"x should be a number.\")\n",
    "    \n",
    "    # Calculate y according to the equation\n",
    "    y = 6 * x ** 2 + 3 * x + 2 + math.cos(x)\n",
    "    return y"
   ]
  },
  {
   "cell_type": "markdown",
   "metadata": {},
   "source": [
    "**17.1**: Call the function for x = 2 and print the answer."
   ]
  },
  {
   "cell_type": "code",
   "execution_count": 32,
   "metadata": {
    "ExecuteTime": {
     "end_time": "2024-10-02T11:24:33.291244Z",
     "start_time": "2024-10-02T11:24:33.285198Z"
    }
   },
   "outputs": [
    {
     "data": {
      "text/plain": [
       "31.583853163452858"
      ]
     },
     "execution_count": 32,
     "metadata": {},
     "output_type": "execute_result"
    }
   ],
   "source": [
    "# Call the function for x = 2 and print the answer\n",
    "f(2)"
   ]
  },
  {
   "cell_type": "markdown",
   "metadata": {},
   "source": [
    "##### Consider the following sequence of numbers:\n",
    "\n",
    "\\begin{equation}\n",
    "    x_0 = 0;  \\\\\n",
    "    x_{n} = x_{n-1} - n; ~~~ \\textit{ if} ~~~ x_{n-1}-n > 0 ~~~ \\textit{ and is not already in the sequence}\\\\\n",
    "    x_{n} = x_{n-1} + n; ~~~ \\textit{ otherwise} ~~~ ~~~ ~~~ ~~~ ~~ ~~~ ~~~ ~~~ ~~~ ~~~ ~ ~~~ ~~~ ~~~ ~~~ ~~~ ~~~ ~ ~~~ ~~~ ~~~~ ~~~ ~~~ ~~~ ~ \\\\\n",
    "\\end{equation}\n",
    "\n",
    "**17.2**: Write a function that returns the nth digit of the above defined sequence. <br>\n",
    "\n",
    "*Note: the above sequence is also known as the Recamán's sequence, and it was invented by Bernardo Recamán Santos (Bogotá, Colombia)*"
   ]
  },
  {
   "cell_type": "code",
   "execution_count": 33,
   "metadata": {
    "ExecuteTime": {
     "end_time": "2024-10-02T11:24:34.206593Z",
     "start_time": "2024-10-02T11:24:34.196402Z"
    }
   },
   "outputs": [
    {
     "data": {
      "text/plain": [
       "[0, 1, 3, 6, 2, 7, 13, 20, 12, 21, 11, 22, 10]"
      ]
     },
     "execution_count": 33,
     "metadata": {},
     "output_type": "execute_result"
    }
   ],
   "source": [
    "# Function that returns the nth digit of the Recamán's sequence\n",
    "def recaman_sequence(n: int):\n",
    "    \"\"\"\n",
    "    Function that returns the nth digit of the Recamán's sequence.\n",
    "        \n",
    "    :param n: int: The index of the Recamán's sequence to compute. Must be a non-negative integer.\n",
    "    :return: int: The nth digit of the Recamán's sequence\n",
    "    \"\"\"\n",
    "        \n",
    "    # If n < 0, return None\n",
    "    if n < 0:\n",
    "        return ValueError(\"n should be a non-negative integer.\")\n",
    "    \n",
    "    # First case when n = 0\n",
    "    x = [0]\n",
    "    \n",
    "    # Calculate the nth digit of the Recamán's sequence\n",
    "    for i in range(1, n + 1): # Iterate from 1 to n (inclusive)\n",
    "        \n",
    "        # If x[i - 1] - i > 0 and x[i - 1] - i not in x, then x[i] = x[i - 1] - i\n",
    "        if x[i - 1] - i > 0 and x[i - 1] - i not in x:\n",
    "            x.append(x[i - 1] - i)\n",
    "            \n",
    "        # Otherwise, x[i] = x[i - 1] + i\n",
    "        else:\n",
    "            x.append(x[i - 1] + i)\n",
    "            \n",
    "    # Return the nth digit of the Recamán's sequence\n",
    "    return x[n]\n",
    "\n",
    "# Recamán's sequence: 0, 1, 3, 6, 2, 7, 13, 20, 12, 21, 11, 22, 10, ...\n",
    "# Test the function from n = 0 to n = 12\n",
    "list(map(recaman_sequence, range(13)))"
   ]
  },
  {
   "cell_type": "markdown",
   "metadata": {},
   "source": [
    "**17.3** Write a function named isPrime that takes an integer as input and outputs True if the number is prime and False if the number is not prime. "
   ]
  },
  {
   "cell_type": "code",
   "execution_count": 34,
   "metadata": {
    "ExecuteTime": {
     "end_time": "2024-10-02T11:24:35.742523Z",
     "start_time": "2024-10-02T11:24:35.736318Z"
    }
   },
   "outputs": [],
   "source": [
    "# Function that takes an integer as input and outputs True if the number is prime and False if the number\n",
    "def isPrime(n: int) -> ValueError | bool:\n",
    "    \"\"\"\n",
    "    Function that takes an integer as input and outputs True if the number is prime and False if the number is not prime.   \n",
    "    \n",
    "    :param n: int: The number to check if it is prime\n",
    "    :return: bool: True if the number is prime, False if the number is not prime\n",
    "    \"\"\" \n",
    "\n",
    "    # If n is less than 0, return ValueError\n",
    "    if n < 0:\n",
    "        return ValueError(\"n should be a non-negative integer.\")\n",
    "    \n",
    "    # If n is less than 2, return False\n",
    "    if n < 2:\n",
    "        return False\n",
    "    \n",
    "    # Check if n is prime by iterating from 2 to the square root of n (inclusive)\n",
    "    for i in range(2, int(n ** 0.5) + 1):\n",
    "        if n % i == 0:\n",
    "            return False\n",
    "        \n",
    "    return True"
   ]
  },
  {
   "cell_type": "markdown",
   "metadata": {},
   "source": [
    "**17.4** Test your function against some examples to show that it works as expected."
   ]
  },
  {
   "cell_type": "code",
   "execution_count": 35,
   "metadata": {
    "ExecuteTime": {
     "end_time": "2024-10-02T11:24:38.358028Z",
     "start_time": "2024-10-02T11:24:38.352333Z"
    }
   },
   "outputs": [
    {
     "name": "stdout",
     "output_type": "stream",
     "text": [
      "The number 7 is prime: True\n",
      "The number 10 is prime: False\n",
      "The number 17 is prime: True\n"
     ]
    }
   ],
   "source": [
    "# Test the function for n = 7\n",
    "print('The number 7 is prime:', isPrime(7))\n",
    "\n",
    "# Test the function for n = 10\n",
    "print('The number 10 is prime:', isPrime(10))\n",
    "\n",
    "# Test the function for n = 17\n",
    "print('The number 17 is prime:', isPrime(17))"
   ]
  },
  {
   "cell_type": "code",
   "execution_count": 36,
   "metadata": {
    "ExecuteTime": {
     "end_time": "2024-10-02T11:24:38.988052Z",
     "start_time": "2024-10-02T11:24:38.984122Z"
    }
   },
   "outputs": [
    {
     "name": "stdout",
     "output_type": "stream",
     "text": [
      "Prime numbers in list X: [-100, -99, -98, -94, -92, -88, -86, -85, -83, -81, -76, -75, -74, -68, -67, -61, -60, -54, -51, -49, -48, -46, -38, -37, -36, -34, -32, -29, -27, -25, -20, -16, -10, -8, -7, -6, -3, -1, 2, 3, 5, 7, 31, 41, 47, 59, 61, 71, 89]\n"
     ]
    }
   ],
   "source": [
    "# With the function isPrime, we can now identify which numbers from the list X from exercise 1.1 are prime\n",
    "prime_numbers = list(filter(isPrime, X))\n",
    "print(\"Prime numbers in list X:\", sorted(set(prime_numbers)))"
   ]
  },
  {
   "cell_type": "markdown",
   "metadata": {},
   "source": [
    "## Exercise II - Monty Hall Problem\n"
   ]
  },
  {
   "cell_type": "markdown",
   "metadata": {},
   "source": [
    "**18**: The Monty Hall Problem is a probability puzzle loosely based on the American television game show \"Let's Make a Deal\" and named after its original host, Monty Hall. The puzzle can be stated as follows\n",
    "\n",
    "> Suppose you're on a game show, and you're given the choice of three doors: Behind one door is a car; behind the others, goats. You pick a door, say No. 1, and the host, who knows what's behind the doors, opens another door, say No. 3, which has a goat. He then says to you, \"Do you want to pick door No. 2?\" Is it to your advantage to switch your choice? <br>\n",
    "\n",
    "+info: https://en.wikipedia.org/wiki/Monty_Hall_problem\n",
    "\n",
    "While intuitively your guess might be that the chances of winning the car is 1/3 independently of the choice to switch doors or not. Howewver, the odds of winning if you switch doors are 2/3 and greater than if you decide not to switch. While there are theoretical solutions to this problem that allow us to estimate the correct odds of winning in each scenario -- switching or not doors -- an alternative way to proof such outcome is through computer simulations. That is the goal of this exercise, to write the necessary components to simulate the Monty Hall problem and validate the theoretical results through simulations.\n",
    "\n",
    "In this exercise, start by implementing a function that simulates one instance of the Monty Hall problem. \n",
    "In that sense, write a function called MontyHall that accepts **one argument**:\n",
    "- A boolean (True/False, or 1/0) that specifies if the player switches doors or not (after the host has opened his door, which contains a goat).\n",
    "The function should return True if the player wins the car or False if not.\n",
    "\n",
    "Naturally, for the function to reproduce the contest it needs to consider and perform some actions, such as:\n",
    "- Set up the game, that is, create the necessary variables to store the information about three doors and what they have behind, as well as an indicator to track the choice of the player.\n",
    "- Given the initial choice of the player, simulate the opening of one of the two remaining doors that contains a goat.\n",
    "- Given the last two doors left, simulate if the player wants to switch or not his/her choice given their strategy (defined by the input boolean argument of the function).\n",
    "- Output the result, if the contestant correctly guesses which door hides the car or if not.\n",
    "\n",
    "The function MontyHall should simulate one instance of the contest given the choice of the player (to switch or not).\n",
    "\n",
    "**The goal is to understand, statistically, which action leads to the highest probability of winning.** <br>\n",
    "*Note: You should use the library random to solve this exercise.*"
   ]
  },
  {
   "cell_type": "code",
   "execution_count": 37,
   "metadata": {
    "ExecuteTime": {
     "end_time": "2024-10-02T11:24:40.866731Z",
     "start_time": "2024-10-02T11:24:40.859088Z"
    }
   },
   "outputs": [
    {
     "name": "stdout",
     "output_type": "stream",
     "text": [
      "Player wins the car if the player switches the door: False\n",
      "Player wins the car if the player does not switch the door: False\n"
     ]
    }
   ],
   "source": [
    "# Function that simulates one instance of the Monty Hall problem\n",
    "def MontyHall(switch: bool) -> bool:\n",
    "    \"\"\"\n",
    "    Function that simulates one instance of the Monty Hall problem.\n",
    "    \n",
    "    :param switch: bool: Specifies if the player switches doors or not\n",
    "    :return: bool: True if the player wins the car, False if not\n",
    "    \"\"\" \n",
    "    \n",
    "    # Set up the game\n",
    "    doors = ['goat', 'goat', 'car']\n",
    "    \n",
    "    # Shuffle the doors randomly\n",
    "    # Source: https://docs.python.org/3/library/random.html#random.shuffle\n",
    "    random.shuffle(doors)\n",
    "    \n",
    "    # Player's initial choice\n",
    "    player_choice = random.randint(0, 2)\n",
    "    \n",
    "    # Host opens one of the two remaining doors that contains a goat\n",
    "    for i in range(3):\n",
    "        if i != player_choice and doors[i] == 'goat':\n",
    "            host_choice = i\n",
    "            break\n",
    "    \n",
    "    # Player's final choice\n",
    "    if switch:\n",
    "        for i in range(3):\n",
    "            if i != player_choice and i != host_choice:\n",
    "                player_choice = i\n",
    "                break\n",
    "    \n",
    "    # Return True if the player wins the car or False if not\n",
    "    return doors[player_choice] == 'car'\n",
    "\n",
    "# Test the function for the player switching the door\n",
    "print(\"Player wins the car if the player switches the door:\", MontyHall(True))\n",
    "\n",
    "# Test the function for the player not switching the door\n",
    "print(\"Player wins the car if the player does not switch the door:\", MontyHall(False))"
   ]
  },
  {
   "cell_type": "markdown",
   "metadata": {},
   "source": [
    "**18.1** Now that you have a function that simulates an instance of the Monty Hall problem, implement an experiment where you repeat many times (thousands of times) for each of the two possible scenarios: player switching the door, and player not switcing the door. Keep track of the results and estimate the frequencies of wins for each scenario and discuss if the results are inline with the theoretical odds."
   ]
  },
  {
   "cell_type": "code",
   "execution_count": 38,
   "metadata": {
    "ExecuteTime": {
     "end_time": "2024-10-02T11:24:42.071668Z",
     "start_time": "2024-10-02T11:24:42.013198Z"
    }
   },
   "outputs": [
    {
     "name": "stdout",
     "output_type": "stream",
     "text": [
      "\n",
      "Theoretical odds of winning if the player switches the door: 2/3\n",
      "Theoretical odds of winning if the player does not switch the door: 1/3 \n",
      "\n",
      "Frequency of wins if the player switches the door (Experimental Results): 0.6706\n",
      "Frequency of wins if the player does not switch the door (Experimental Results): 0.3381\n"
     ]
    }
   ],
   "source": [
    "# For reproducibility set the seed\n",
    "random.seed(12)\n",
    "\n",
    "# Initialize variables to store the number of wins for each scenario\n",
    "switch_wins = 0\n",
    "no_switch_wins = 0\n",
    "\n",
    "# Number of experiments\n",
    "n_experiments = 10000\n",
    "\n",
    "# Perform the experiments for each scenario\n",
    "for i in range(n_experiments):\n",
    "    \n",
    "    # Player wins the car if the player switches the door\n",
    "    if MontyHall(True):\n",
    "        switch_wins += 1\n",
    "        \n",
    "    # Player wins the car if the player does not switch the door\n",
    "    if MontyHall(False):\n",
    "        no_switch_wins += 1\n",
    "        \n",
    "# Calculate the frequencies of wins for each scenario\n",
    "switch_win_frequency = switch_wins / n_experiments\n",
    "no_switch_win_frequency = no_switch_wins / n_experiments\n",
    "\n",
    "# Theoretical odds of 'Monty Hall Problem'\n",
    "print(\"\\nTheoretical odds of winning if the player switches the door: 2/3\")\n",
    "print(\"Theoretical odds of winning if the player does not switch the door: 1/3 \\n\")\n",
    "\n",
    "# Experimental results\n",
    "print(\"Frequency of wins if the player switches the door (Experimental Results):\", switch_win_frequency)\n",
    "print(\"Frequency of wins if the player does not switch the door (Experimental Results):\", no_switch_win_frequency)"
   ]
  },
  {
   "cell_type": "code",
   "execution_count": 39,
   "metadata": {
    "ExecuteTime": {
     "end_time": "2024-10-02T11:24:44.054615Z",
     "start_time": "2024-10-02T11:24:42.707978Z"
    }
   },
   "outputs": [
    {
     "data": {
      "image/png": "[encoded data removed]",
      "text/plain": [
       "<Figure size 1000x400 with 1 Axes>"
      ]
     },
     "metadata": {},
     "output_type": "display_data"
    }
   ],
   "source": [
    "# [EXTRA] Plot the line of all experiments\n",
    "import matplotlib.pyplot as plt\n",
    "\n",
    "# Initialize variables to store the number of wins for each scenario\n",
    "switch_wins = 0\n",
    "no_switch_wins = 0\n",
    "\n",
    "# Number of experiments\n",
    "n_experiments = 10000\n",
    "\n",
    "# Perform the experiments\n",
    "switch_wins_list = []\n",
    "no_switch_wins_list = []\n",
    "\n",
    "for i in range(n_experiments):\n",
    "    \n",
    "    # Player wins the car if the player switches the door\n",
    "    if MontyHall(True):\n",
    "        switch_wins += 1\n",
    "    switch_wins_list.append(switch_wins)\n",
    "    \n",
    "    # Player wins the car if the player does not switch the door\n",
    "    if MontyHall(False):\n",
    "        no_switch_wins += 1\n",
    "    no_switch_wins_list.append(no_switch_wins)\n",
    "    \n",
    "# Plot the line of all experiments\n",
    "plt.figure(figsize=(10, 4))\n",
    "plt.plot(range(n_experiments), switch_wins_list, label=\"Player switches the door\", color='darkgreen')\n",
    "plt.plot(range(n_experiments), no_switch_wins_list, label=\"Player does not switch the door\", color='steelblue')\n",
    "plt.xlabel(\"\\nNumber of Experiments\", fontsize=12)\n",
    "plt.ylabel(\"Number of Wins\\n\", fontsize=12)\n",
    "plt.title(\"Monty Hall Problem\\n\", fontsize=16, fontweight='bold')\n",
    "plt.legend()\n",
    "plt.show()"
   ]
  },
  {
   "cell_type": "code",
   "execution_count": 40,
   "metadata": {
    "ExecuteTime": {
     "end_time": "2024-10-02T11:24:44.402578Z",
     "start_time": "2024-10-02T11:24:44.119079Z"
    }
   },
   "outputs": [
    {
     "data": {
      "image/png": "[encoded data removed]",
      "text/plain": [
       "<Figure size 1000x400 with 1 Axes>"
      ]
     },
     "metadata": {},
     "output_type": "display_data"
    }
   ],
   "source": [
    "# [EXTRA] Plot the proportion of wins over the experiments\n",
    "# Initialize variables to store the number of wins for each scenario\n",
    "switch_wins = 0\n",
    "no_switch_wins = 0\n",
    "\n",
    "# Number of experiments\n",
    "n_experiments = 10000\n",
    "\n",
    "# Lists to store the proportion of wins\n",
    "switch_wins_ratio = []\n",
    "no_switch_wins_ratio = []\n",
    "\n",
    "# Simulate the Monty Hall problem experiments\n",
    "for i in range(1, n_experiments + 1):  # Start at 1 to avoid division by zero\n",
    "    \n",
    "    # Player wins the car if the player switches the door\n",
    "    if MontyHall(True):\n",
    "        switch_wins += 1\n",
    "    \n",
    "    # Player wins the car if the player does not switch the door\n",
    "    if MontyHall(False):\n",
    "        no_switch_wins += 1\n",
    "    \n",
    "    # Calculate the running proportion of wins\n",
    "    switch_wins_ratio.append(switch_wins / i)  # Proportion of wins when switching\n",
    "    no_switch_wins_ratio.append(no_switch_wins / i)  # Proportion of wins when not switching\n",
    "\n",
    "# Plot the proportion of wins over the experiments\n",
    "plt.figure(figsize=(10, 4))\n",
    "plt.plot(range(1, n_experiments + 1), switch_wins_ratio, label=\"Switching the door\", color='darkgreen')\n",
    "plt.plot(range(1, n_experiments + 1), no_switch_wins_ratio, label=\"Not switching the door\", color='steelblue')\n",
    "plt.axhline(y=2/3, color='darkgreen', linestyle='--', label='Theoretical Prob (Switch)', alpha=0.5)\n",
    "plt.axhline(y=1/3, color='steelblue', linestyle='--', label='Theoretical Prob (No Switch)', alpha=0.5)\n",
    "plt.ylim(0,1)\n",
    "plt.xlabel(\"\\nNumber of Experiments\", fontsize=12)\n",
    "plt.ylabel(\"Proportion of Wins\\n\", fontsize=12)\n",
    "plt.title(\"Monty Hall Problem - Proportion of Wins vs. Experiments\\n\", fontsize=16, fontweight='bold')\n",
    "plt.legend()\n",
    "plt.show()"
   ]
  },
  {
   "cell_type": "markdown",
   "metadata": {},
   "source": [
    "## Exercise III\n",
    "\n",
    "**19**: Consider the list *A*, declared below. <br>\n",
    "Use the function map() to change the values of A by adding 1 to each value if it is even and subtracting 1 from it otherwise.\n",
    "\n",
    "**Note**: Carefully consider the values of list A and adapt your code accordingly to deal with number that are represented as strings."
   ]
  },
  {
   "cell_type": "code",
   "execution_count": 41,
   "metadata": {
    "ExecuteTime": {
     "end_time": "2024-10-02T11:24:45.785858Z",
     "start_time": "2024-10-02T11:24:45.773886Z"
    }
   },
   "outputs": [],
   "source": [
    "A = [460,3347,3044,490,699,\"1258\",1804,973,2223,3416,\"2879\",1058,2915,2422,351,\"1543\",1020,208,643,\"795\",3337,\"2585\",471,2623,1077]"
   ]
  },
  {
   "cell_type": "code",
   "execution_count": 42,
   "metadata": {
    "ExecuteTime": {
     "end_time": "2024-10-02T11:24:46.263481Z",
     "start_time": "2024-10-02T11:24:46.259133Z"
    }
   },
   "outputs": [
    {
     "name": "stdout",
     "output_type": "stream",
     "text": [
      "[461, 3346, 3045, 491, 698, 1259, 1805, 972, 2222, 3417, 2878, 1059, 2914, 2423, 350, 1542, 1021, 209, 642, 794, 3336, 2584, 470, 2622, 1076]\n"
     ]
    }
   ],
   "source": [
    "# Use the function map() to change the values of A\n",
    "A = list(map(lambda x: int(x) + 1 if int(x) % 2 == 0 else int(x) - 1, A))\n",
    "print(A)"
   ]
  },
  {
   "cell_type": "markdown",
   "metadata": {},
   "source": [
    "**20**: Create a list B with the same size of A, where each element is True if the associated value in list A is greater than 700, else is False."
   ]
  },
  {
   "cell_type": "code",
   "execution_count": 43,
   "metadata": {
    "ExecuteTime": {
     "end_time": "2024-10-02T11:24:47.541255Z",
     "start_time": "2024-10-02T11:24:47.535271Z"
    }
   },
   "outputs": [
    {
     "name": "stdout",
     "output_type": "stream",
     "text": [
      "[False, True, True, False, False, True, True, True, True, True, True, True, True, True, False, True, True, False, False, True, True, True, False, True, True]\n"
     ]
    }
   ],
   "source": [
    "B = list(map(lambda x: True if x > 700 else False, A))\n",
    "print(B)"
   ]
  },
  {
   "cell_type": "code",
   "execution_count": 44,
   "metadata": {
    "ExecuteTime": {
     "end_time": "2024-10-02T11:24:47.952554Z",
     "start_time": "2024-10-02T11:24:47.946381Z"
    }
   },
   "outputs": [
    {
     "data": {
      "text/plain": [
       "18"
      ]
     },
     "execution_count": 44,
     "metadata": {},
     "output_type": "execute_result"
    }
   ],
   "source": [
    "# -------------------- Check the number of True values in list B --------------------\n",
    "# Count the number of values in list A that are greater than 700\n",
    "len(list(filter(lambda x: x > 700, A)))"
   ]
  },
  {
   "cell_type": "code",
   "execution_count": 45,
   "metadata": {
    "ExecuteTime": {
     "end_time": "2024-10-02T11:24:48.430728Z",
     "start_time": "2024-10-02T11:24:48.424848Z"
    }
   },
   "outputs": [
    {
     "data": {
      "text/plain": [
       "18"
      ]
     },
     "execution_count": 45,
     "metadata": {},
     "output_type": "execute_result"
    }
   ],
   "source": [
    "# Count the number of True values in list B\n",
    "len(list(filter(lambda x: x == True, B)))"
   ]
  },
  {
   "cell_type": "markdown",
   "metadata": {},
   "source": [
    "**21**: Create a list L that contains the Logarithm of base 10 of each value in A. <br>\n",
    "\n",
    "*Note: You should use the module math to solve this exercise.*"
   ]
  },
  {
   "cell_type": "code",
   "execution_count": 46,
   "metadata": {
    "ExecuteTime": {
     "end_time": "2024-10-02T11:24:49.567772Z",
     "start_time": "2024-10-02T11:24:49.562868Z"
    }
   },
   "outputs": [
    {
     "name": "stdout",
     "output_type": "stream",
     "text": [
      "[2.663700925389648, 3.5245259366263757, 3.4835872969688944, 2.6910814921229687, 2.843855422623161, 3.1000257301078626, 3.256477206241677, 2.9876662649262746, 3.346744054604849, 3.5336449787987627, 3.4590907896005865, 3.024895960107485, 3.4644895474339714, 3.384353414137506, 2.5440680443502757, 3.188084373714938, 3.0090257420869104, 2.3201462861110542, 2.807535028068853, 2.8998205024270964, 3.523226041965701, 3.4122925093230463, 2.6720978579357175, 3.4186326873540653, 3.0318122713303706]\n"
     ]
    }
   ],
   "source": [
    "L = list(map(lambda x: math.log10(x), A))\n",
    "print(L)"
   ]
  },
  {
   "cell_type": "markdown",
   "metadata": {},
   "source": [
    "**22**: How many numbers in A are greater than 1000? <br>\n",
    "\n",
    "*Note: You should use the function filter().*"
   ]
  },
  {
   "cell_type": "code",
   "execution_count": 47,
   "metadata": {
    "ExecuteTime": {
     "end_time": "2024-10-02T11:24:50.637460Z",
     "start_time": "2024-10-02T11:24:50.632210Z"
    }
   },
   "outputs": [
    {
     "name": "stdout",
     "output_type": "stream",
     "text": [
      "There are 16 numbers in A that are greater than 1000.\n"
     ]
    }
   ],
   "source": [
    "print(\"There are\", len(list(filter(lambda x: x > 1000, A))), \"numbers in A that are greater than 1000.\")"
   ]
  },
  {
   "cell_type": "markdown",
   "metadata": {},
   "source": [
    "**23** Use the function isPrime, that you declared in 17.3, to identify which numbers from A are prime. Note that depending on your implementation of isPrime this task can take more or less time. Use filter to achieve this task."
   ]
  },
  {
   "cell_type": "code",
   "execution_count": 48,
   "metadata": {
    "ExecuteTime": {
     "end_time": "2024-10-02T11:24:51.544934Z",
     "start_time": "2024-10-02T11:24:51.539667Z"
    }
   },
   "outputs": [
    {
     "name": "stdout",
     "output_type": "stream",
     "text": [
      "Prime numbers in list A: [461, 491, 1021, 1259, 2423]\n"
     ]
    }
   ],
   "source": [
    "# Identify which numbers from A are prime using the function isPrime created in exercise 17.3\n",
    "prime_numbers_A = list(filter(isPrime, A))\n",
    "print(\"Prime numbers in list A:\", sorted(set(prime_numbers_A)))"
   ]
  },
  {
   "cell_type": "markdown",
   "metadata": {},
   "source": [
    "### Congratulations, it is done!"
   ]
  }
 ],
 "metadata": {
  "kernelspec": {
   "display_name": "Python 3 (ipykernel)",
   "language": "python",
   "name": "python3"
  },
  "language_info": {
   "codemirror_mode": {
    "name": "ipython",
    "version": 3
   },
   "file_extension": ".py",
   "mimetype": "text/x-python",
   "name": "python",
   "nbconvert_exporter": "python",
   "pygments_lexer": "ipython3",
   "version": "3.11.9"
  }
 },
 "nbformat": 4,
 "nbformat_minor": 4
}
