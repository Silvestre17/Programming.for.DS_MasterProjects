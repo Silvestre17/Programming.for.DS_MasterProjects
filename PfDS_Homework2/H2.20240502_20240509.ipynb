{
 "cells": [
  {
   "cell_type": "markdown",
   "metadata": {
    "deletable": true,
    "editable": true,
    "frozen": false
   },
   "source": [
    "# Programming for Data Science 2024\n",
    "## Homework Assigment Two\n",
    "Homework activities aim at testing not only your ability to put into practice the concepts you have learned during the Lectures and Labs, but also your ability to explore the Python documentation as a resource. Above all, it is an opportunity for you to challenge yourself and practice. If you are having difficulties with the assignment reach out for support using moodle's Discussion Forum."
   ]
  },
  {
   "cell_type": "markdown",
   "metadata": {
    "deletable": true,
    "editable": true,
    "frozen": false
   },
   "source": [
    "### Description\n",
    "\n",
    "This homework assignment will test your capacity to **load and manipulate data with Pandas**. \n",
    "    \n",
    "The goal is to develop intuition on filtering, arranging, and merging data, which will be useful for the next homework assignment.<br/>\n",
    "Fill the empty cells with your code and deliver a copy of this notebook to Moodle. <br/>\n",
    "    \n",
    "Your submission will be graded according to the following guidelines:\n",
    "1. **Execution** (does your program does what is asked from the exercise?\n",
    "2. **Objectivity** (are you using the adequate libraries? are you using a library ... )\n",
    "3. **Readability** of your code (including comments, variables naming, supporting text, etc ...)\n",
    "\n",
    "**Comment your code properly**, which includes naming your variables in a meaningful manner. **Badly documented code will be penalized.**\n",
    "\n",
    "This assignment is to be done in pairs, and remember that you can't have the same pair from the previous and subsequent assignments.\n",
    "\n",
    "**Students that are caught cheating will obtain a score of 0 points.** <br>\n",
    "\n",
    "Homework 2 is worth 25% of your final grade.    \n",
    "\n",
    "The submission package should correspond to a .zip archive (.rar files are not accepted) with the following files:\n",
    "1. Jupyter Notebook with the output of all the cells;\n",
    "2. HTML print of your Jupyter Notebook (in Jupyter go to File -> Download as -> HTML);\n",
    "3. All text or .csv files that are exported as part of the exercises. **Please don't upload the files downloaded/imported as part of the exercises.**\n",
    "\n",
    "**Please change the name of the notebook to \"H2.\\<student_1_id\\>_\\<student_2_id\\>.ipynb\", replacing \\<student_id\\> by your student_id.** <br>\n",
    "\n",
    "Submission is done through the respective Moodle activity, and only one of the group members should submit the files. <br>\n",
    "The deadline is the **19th of October at 12:00**. <br>\n",
    "A penalty of 1 point per day late will be applied to late deliveries. <br>\n",
    "**In this notebook, you are allowed to use Pandas and Numpy.**"
   ]
  },
  {
   "cell_type": "code",
   "execution_count": 3,
   "metadata": {
    "ExecuteTime": {
     "end_time": "2024-10-17T15:17:31.003478Z",
     "start_time": "2024-10-17T15:17:29.793375Z"
    },
    "deletable": true,
    "editable": true,
    "execution": {
     "iopub.execute_input": "2024-10-17T20:28:06.087299Z",
     "iopub.status.busy": "2024-10-17T20:28:06.087299Z",
     "iopub.status.idle": "2024-10-17T20:28:06.098881Z",
     "shell.execute_reply": "2024-10-17T20:28:06.098881Z",
     "shell.execute_reply.started": "2024-10-17T20:28:06.087299Z"
    },
    "frozen": false
   },
   "outputs": [],
   "source": [
    "import numpy as np\n",
    "import scipy\n",
    "import pandas as pd\n",
    "\n",
    "# Disable FutureWarnings\n",
    "import warnings\n",
    "warnings.simplefilter(action='ignore', category=FutureWarning)"
   ]
  },
  {
   "cell_type": "markdown",
   "metadata": {
    "deletable": true,
    "editable": true,
    "frozen": false
   },
   "source": [
    "# <span style=\"color:brown\"> Start Here </span> \n",
    "\n",
    "[Please Complete the following form with your details]\n",
    "\n",
    "**Student Name -**  André Filipe Gomes Silvestre <br>\n",
    "**Student id -** 20240502 <br>\n",
    "**Contact e-mail -** 20240502@novaims.unl.pt <br>\n",
    "\n",
    "\n",
    "**Student Name -** Filipa Pereira <br>\n",
    "**Student id -** 20240509 <br>\n",
    "**Contact e-mail -** 20240509@novaims.unl.pt <br>"
   ]
  },
  {
   "cell_type": "markdown",
   "metadata": {
    "deletable": true,
    "editable": true,
    "frozen": false
   },
   "source": [
    "# <span style=\"color:brown\"> Part 1 - Get the Data </span>"
   ]
  },
  {
   "cell_type": "markdown",
   "metadata": {
    "deletable": true,
    "editable": true,
    "frozen": false
   },
   "source": [
    "## Download and Load the World Development Indicators Dataset\n",
    "\n",
    "We will work with the **World Development Indicators dataset**, which should be downloaded from the world bank data catalog.<br/>\n",
    "Hence, the first step is to unzip the data given on Moodle, you can do this by running the cell below. <br/>"
   ]
  },
  {
   "cell_type": "code",
   "execution_count": 7,
   "metadata": {
    "ExecuteTime": {
     "end_time": "2024-10-17T15:17:31.632708Z",
     "start_time": "2024-10-17T15:17:31.008484Z"
    },
    "deletable": true,
    "editable": true,
    "execution": {
     "iopub.execute_input": "2024-10-17T20:28:06.131435Z",
     "iopub.status.busy": "2024-10-17T20:28:06.130436Z",
     "iopub.status.idle": "2024-10-17T20:28:06.802801Z",
     "shell.execute_reply": "2024-10-17T20:28:06.802801Z",
     "shell.execute_reply.started": "2024-10-17T20:28:06.131435Z"
    },
    "frozen": false
   },
   "outputs": [],
   "source": [
    "import zipfile, io\n",
    "\n",
    "z = zipfile.ZipFile(\"WDI_csv.zip\")\n",
    "z.extractall()\n",
    "\n",
    "del z"
   ]
  },
  {
   "cell_type": "markdown",
   "metadata": {
    "deletable": true,
    "editable": true,
    "frozen": false
   },
   "source": [
    "*The above code downloads a zip archive to the working folder, which by default is the the location of this notebook in your computer. <br/>\n",
    "Secondly, and since the document downloaded is a zip archive, it extracts the documents from the archive. <br/> \n",
    "The contents include multiple .csv files, however we will be working only with the document 'WDICSV.csv'. <br/>*\n",
    "\n",
    "**1.** In the cell bellow, use Pandas to open the file \"WDICSV.csv\" and **save** it to a variable called **wdi**.<br/>"
   ]
  },
  {
   "cell_type": "code",
   "execution_count": 9,
   "metadata": {
    "ExecuteTime": {
     "end_time": "2024-10-17T15:17:33.202250Z",
     "start_time": "2024-10-17T15:17:31.639385Z"
    },
    "deletable": true,
    "editable": true,
    "execution": {
     "iopub.execute_input": "2024-10-17T20:28:06.816875Z",
     "iopub.status.busy": "2024-10-17T20:28:06.815873Z",
     "iopub.status.idle": "2024-10-17T20:28:08.444273Z",
     "shell.execute_reply": "2024-10-17T20:28:08.444273Z",
     "shell.execute_reply.started": "2024-10-17T20:28:06.815873Z"
    },
    "frozen": false
   },
   "outputs": [],
   "source": [
    "# Load the data\n",
    "wdi = pd.read_csv(\"WDICSV.csv\")"
   ]
  },
  {
   "cell_type": "markdown",
   "metadata": {
    "deletable": true,
    "editable": true,
    "frozen": false
   },
   "source": [
    "**2.** Check the top of the dataframe to ensure it was loaded correctly."
   ]
  },
  {
   "cell_type": "code",
   "execution_count": 11,
   "metadata": {
    "ExecuteTime": {
     "end_time": "2024-10-17T15:17:33.313029Z",
     "start_time": "2024-10-17T15:17:33.295725Z"
    },
    "deletable": true,
    "editable": true,
    "execution": {
     "iopub.execute_input": "2024-10-17T20:28:08.465727Z",
     "iopub.status.busy": "2024-10-17T20:28:08.465727Z",
     "iopub.status.idle": "2024-10-17T20:28:08.488774Z",
     "shell.execute_reply": "2024-10-17T20:28:08.488774Z",
     "shell.execute_reply.started": "2024-10-17T20:28:08.465727Z"
    },
    "frozen": false
   },
   "outputs": [
    {
     "data": {
      "text/html": [
       "<div>\n",
       "<style scoped>\n",
       "    .dataframe tbody tr th:only-of-type {\n",
       "        vertical-align: middle;\n",
       "    }\n",
       "\n",
       "    .dataframe tbody tr th {\n",
       "        vertical-align: top;\n",
       "    }\n",
       "\n",
       "    .dataframe thead th {\n",
       "        text-align: right;\n",
       "    }\n",
       "</style>\n",
       "<table border=\"1\" class=\"dataframe\">\n",
       "  <thead>\n",
       "    <tr style=\"text-align: right;\">\n",
       "      <th></th>\n",
       "      <th>Country Name</th>\n",
       "      <th>Country Code</th>\n",
       "      <th>Indicator Name</th>\n",
       "      <th>Indicator Code</th>\n",
       "      <th>1960</th>\n",
       "      <th>1961</th>\n",
       "      <th>1962</th>\n",
       "      <th>1963</th>\n",
       "      <th>1964</th>\n",
       "      <th>1965</th>\n",
       "      <th>...</th>\n",
       "      <th>2014</th>\n",
       "      <th>2015</th>\n",
       "      <th>2016</th>\n",
       "      <th>2017</th>\n",
       "      <th>2018</th>\n",
       "      <th>2019</th>\n",
       "      <th>2020</th>\n",
       "      <th>2021</th>\n",
       "      <th>2022</th>\n",
       "      <th>2023</th>\n",
       "    </tr>\n",
       "  </thead>\n",
       "  <tbody>\n",
       "    <tr>\n",
       "      <th>0</th>\n",
       "      <td>Africa Eastern and Southern</td>\n",
       "      <td>AFE</td>\n",
       "      <td>Access to clean fuels and technologies for coo...</td>\n",
       "      <td>EG.CFT.ACCS.ZS</td>\n",
       "      <td>NaN</td>\n",
       "      <td>NaN</td>\n",
       "      <td>NaN</td>\n",
       "      <td>NaN</td>\n",
       "      <td>NaN</td>\n",
       "      <td>NaN</td>\n",
       "      <td>...</td>\n",
       "      <td>17.401410</td>\n",
       "      <td>17.911234</td>\n",
       "      <td>18.463874</td>\n",
       "      <td>18.924037</td>\n",
       "      <td>19.437054</td>\n",
       "      <td>20.026254</td>\n",
       "      <td>20.647969</td>\n",
       "      <td>21.165877</td>\n",
       "      <td>21.863139</td>\n",
       "      <td>NaN</td>\n",
       "    </tr>\n",
       "    <tr>\n",
       "      <th>1</th>\n",
       "      <td>Africa Eastern and Southern</td>\n",
       "      <td>AFE</td>\n",
       "      <td>Access to clean fuels and technologies for coo...</td>\n",
       "      <td>EG.CFT.ACCS.RU.ZS</td>\n",
       "      <td>NaN</td>\n",
       "      <td>NaN</td>\n",
       "      <td>NaN</td>\n",
       "      <td>NaN</td>\n",
       "      <td>NaN</td>\n",
       "      <td>NaN</td>\n",
       "      <td>...</td>\n",
       "      <td>6.728819</td>\n",
       "      <td>7.005877</td>\n",
       "      <td>7.308571</td>\n",
       "      <td>7.547226</td>\n",
       "      <td>7.875917</td>\n",
       "      <td>8.243018</td>\n",
       "      <td>8.545483</td>\n",
       "      <td>8.906711</td>\n",
       "      <td>9.261320</td>\n",
       "      <td>NaN</td>\n",
       "    </tr>\n",
       "    <tr>\n",
       "      <th>2</th>\n",
       "      <td>Africa Eastern and Southern</td>\n",
       "      <td>AFE</td>\n",
       "      <td>Access to clean fuels and technologies for coo...</td>\n",
       "      <td>EG.CFT.ACCS.UR.ZS</td>\n",
       "      <td>NaN</td>\n",
       "      <td>NaN</td>\n",
       "      <td>NaN</td>\n",
       "      <td>NaN</td>\n",
       "      <td>NaN</td>\n",
       "      <td>NaN</td>\n",
       "      <td>...</td>\n",
       "      <td>38.080931</td>\n",
       "      <td>38.422282</td>\n",
       "      <td>38.722108</td>\n",
       "      <td>38.993157</td>\n",
       "      <td>39.337872</td>\n",
       "      <td>39.695279</td>\n",
       "      <td>40.137847</td>\n",
       "      <td>40.522209</td>\n",
       "      <td>41.011132</td>\n",
       "      <td>NaN</td>\n",
       "    </tr>\n",
       "    <tr>\n",
       "      <th>3</th>\n",
       "      <td>Africa Eastern and Southern</td>\n",
       "      <td>AFE</td>\n",
       "      <td>Access to electricity (% of population)</td>\n",
       "      <td>EG.ELC.ACCS.ZS</td>\n",
       "      <td>NaN</td>\n",
       "      <td>NaN</td>\n",
       "      <td>NaN</td>\n",
       "      <td>NaN</td>\n",
       "      <td>NaN</td>\n",
       "      <td>NaN</td>\n",
       "      <td>...</td>\n",
       "      <td>31.860474</td>\n",
       "      <td>33.903800</td>\n",
       "      <td>38.854624</td>\n",
       "      <td>40.199898</td>\n",
       "      <td>43.017148</td>\n",
       "      <td>44.381259</td>\n",
       "      <td>46.264875</td>\n",
       "      <td>48.100862</td>\n",
       "      <td>48.711995</td>\n",
       "      <td>NaN</td>\n",
       "    </tr>\n",
       "    <tr>\n",
       "      <th>4</th>\n",
       "      <td>Africa Eastern and Southern</td>\n",
       "      <td>AFE</td>\n",
       "      <td>Access to electricity, rural (% of rural popul...</td>\n",
       "      <td>EG.ELC.ACCS.RU.ZS</td>\n",
       "      <td>NaN</td>\n",
       "      <td>NaN</td>\n",
       "      <td>NaN</td>\n",
       "      <td>NaN</td>\n",
       "      <td>NaN</td>\n",
       "      <td>NaN</td>\n",
       "      <td>...</td>\n",
       "      <td>17.619475</td>\n",
       "      <td>16.500171</td>\n",
       "      <td>24.605861</td>\n",
       "      <td>25.396929</td>\n",
       "      <td>27.037528</td>\n",
       "      <td>29.137914</td>\n",
       "      <td>31.001049</td>\n",
       "      <td>32.777910</td>\n",
       "      <td>33.747907</td>\n",
       "      <td>NaN</td>\n",
       "    </tr>\n",
       "  </tbody>\n",
       "</table>\n",
       "<p>5 rows × 68 columns</p>\n",
       "</div>"
      ],
      "text/plain": [
       "                  Country Name Country Code  \\\n",
       "0  Africa Eastern and Southern          AFE   \n",
       "1  Africa Eastern and Southern          AFE   \n",
       "2  Africa Eastern and Southern          AFE   \n",
       "3  Africa Eastern and Southern          AFE   \n",
       "4  Africa Eastern and Southern          AFE   \n",
       "\n",
       "                                      Indicator Name     Indicator Code  1960  \\\n",
       "0  Access to clean fuels and technologies for coo...     EG.CFT.ACCS.ZS   NaN   \n",
       "1  Access to clean fuels and technologies for coo...  EG.CFT.ACCS.RU.ZS   NaN   \n",
       "2  Access to clean fuels and technologies for coo...  EG.CFT.ACCS.UR.ZS   NaN   \n",
       "3            Access to electricity (% of population)     EG.ELC.ACCS.ZS   NaN   \n",
       "4  Access to electricity, rural (% of rural popul...  EG.ELC.ACCS.RU.ZS   NaN   \n",
       "\n",
       "   1961  1962  1963  1964  1965  ...       2014       2015       2016  \\\n",
       "0   NaN   NaN   NaN   NaN   NaN  ...  17.401410  17.911234  18.463874   \n",
       "1   NaN   NaN   NaN   NaN   NaN  ...   6.728819   7.005877   7.308571   \n",
       "2   NaN   NaN   NaN   NaN   NaN  ...  38.080931  38.422282  38.722108   \n",
       "3   NaN   NaN   NaN   NaN   NaN  ...  31.860474  33.903800  38.854624   \n",
       "4   NaN   NaN   NaN   NaN   NaN  ...  17.619475  16.500171  24.605861   \n",
       "\n",
       "        2017       2018       2019       2020       2021       2022  2023  \n",
       "0  18.924037  19.437054  20.026254  20.647969  21.165877  21.863139   NaN  \n",
       "1   7.547226   7.875917   8.243018   8.545483   8.906711   9.261320   NaN  \n",
       "2  38.993157  39.337872  39.695279  40.137847  40.522209  41.011132   NaN  \n",
       "3  40.199898  43.017148  44.381259  46.264875  48.100862  48.711995   NaN  \n",
       "4  25.396929  27.037528  29.137914  31.001049  32.777910  33.747907   NaN  \n",
       "\n",
       "[5 rows x 68 columns]"
      ]
     },
     "execution_count": 11,
     "metadata": {},
     "output_type": "execute_result"
    }
   ],
   "source": [
    "# Check 5 first rows\n",
    "wdi.head()"
   ]
  },
  {
   "cell_type": "markdown",
   "metadata": {
    "deletable": true,
    "editable": true,
    "frozen": false
   },
   "source": [
    "## Download and Load the Penn World Table V9.0\n",
    "\n",
    "We will additionally use data from the pwt v9.0 tables. <br/> \n",
    "\n",
    "**Run the following cell to download the dataset**."
   ]
  },
  {
   "cell_type": "code",
   "execution_count": 13,
   "metadata": {
    "ExecuteTime": {
     "end_time": "2024-10-17T15:17:36.726217Z",
     "start_time": "2024-10-17T15:17:33.371986Z"
    },
    "deletable": true,
    "editable": true,
    "execution": {
     "iopub.execute_input": "2024-10-17T20:28:08.503329Z",
     "iopub.status.busy": "2024-10-17T20:28:08.503329Z",
     "iopub.status.idle": "2024-10-17T20:28:12.102313Z",
     "shell.execute_reply": "2024-10-17T20:28:12.102313Z",
     "shell.execute_reply.started": "2024-10-17T20:28:08.503329Z"
    },
    "frozen": false
   },
   "outputs": [
    {
     "data": {
      "text/plain": [
       "('pwt90.xlsx', <http.client.HTTPMessage at 0x236a7b76bd0>)"
      ]
     },
     "execution_count": 13,
     "metadata": {},
     "output_type": "execute_result"
    }
   ],
   "source": [
    "import urllib\n",
    "urllib.request.urlretrieve(\"https://www.rug.nl/ggdc/docs/pwt90.xlsx\", \"pwt90.xlsx\")"
   ]
  },
  {
   "cell_type": "markdown",
   "metadata": {
    "deletable": true,
    "editable": true,
    "frozen": false
   },
   "source": [
    "**3.** In the following cell, open and read the file 'pwt90.xlsx' and **save** it into variable **pwt**. <br/>"
   ]
  },
  {
   "cell_type": "code",
   "execution_count": 15,
   "metadata": {
    "ExecuteTime": {
     "end_time": "2024-10-17T15:17:41.964223Z",
     "start_time": "2024-10-17T15:17:37.215001Z"
    },
    "deletable": true,
    "editable": true,
    "execution": {
     "iopub.execute_input": "2024-10-17T20:28:12.120437Z",
     "iopub.status.busy": "2024-10-17T20:28:12.119437Z",
     "iopub.status.idle": "2024-10-17T20:28:16.849673Z",
     "shell.execute_reply": "2024-10-17T20:28:16.849673Z",
     "shell.execute_reply.started": "2024-10-17T20:28:12.120437Z"
    },
    "frozen": false
   },
   "outputs": [],
   "source": [
    "# Load the data\n",
    "# After opening the file, we verify that the sheetname with data we want to load is 'Data'\n",
    "pwt = pd.read_excel(\"pwt90.xlsx\", sheet_name = \"Data\")"
   ]
  },
  {
   "cell_type": "markdown",
   "metadata": {
    "deletable": true,
    "editable": true,
    "frozen": false
   },
   "source": [
    "**4.** Check the top of the dataframe to ensure it was loaded correctly."
   ]
  },
  {
   "cell_type": "code",
   "execution_count": 17,
   "metadata": {
    "ExecuteTime": {
     "end_time": "2024-10-17T15:17:42.031423Z",
     "start_time": "2024-10-17T15:17:42.018185Z"
    },
    "deletable": true,
    "editable": true,
    "execution": {
     "iopub.execute_input": "2024-10-17T20:28:16.871464Z",
     "iopub.status.busy": "2024-10-17T20:28:16.871464Z",
     "iopub.status.idle": "2024-10-17T20:28:16.885213Z",
     "shell.execute_reply": "2024-10-17T20:28:16.885213Z",
     "shell.execute_reply.started": "2024-10-17T20:28:16.871464Z"
    },
    "frozen": false
   },
   "outputs": [
    {
     "data": {
      "text/html": [
       "<div>\n",
       "<style scoped>\n",
       "    .dataframe tbody tr th:only-of-type {\n",
       "        vertical-align: middle;\n",
       "    }\n",
       "\n",
       "    .dataframe tbody tr th {\n",
       "        vertical-align: top;\n",
       "    }\n",
       "\n",
       "    .dataframe thead th {\n",
       "        text-align: right;\n",
       "    }\n",
       "</style>\n",
       "<table border=\"1\" class=\"dataframe\">\n",
       "  <thead>\n",
       "    <tr style=\"text-align: right;\">\n",
       "      <th></th>\n",
       "      <th>countrycode</th>\n",
       "      <th>country</th>\n",
       "      <th>currency_unit</th>\n",
       "      <th>year</th>\n",
       "      <th>rgdpe</th>\n",
       "      <th>rgdpo</th>\n",
       "      <th>pop</th>\n",
       "      <th>emp</th>\n",
       "      <th>avh</th>\n",
       "      <th>hc</th>\n",
       "      <th>...</th>\n",
       "      <th>csh_g</th>\n",
       "      <th>csh_x</th>\n",
       "      <th>csh_m</th>\n",
       "      <th>csh_r</th>\n",
       "      <th>pl_c</th>\n",
       "      <th>pl_i</th>\n",
       "      <th>pl_g</th>\n",
       "      <th>pl_x</th>\n",
       "      <th>pl_m</th>\n",
       "      <th>pl_k</th>\n",
       "    </tr>\n",
       "  </thead>\n",
       "  <tbody>\n",
       "    <tr>\n",
       "      <th>0</th>\n",
       "      <td>ABW</td>\n",
       "      <td>Aruba</td>\n",
       "      <td>Aruban Guilder</td>\n",
       "      <td>1950</td>\n",
       "      <td>NaN</td>\n",
       "      <td>NaN</td>\n",
       "      <td>NaN</td>\n",
       "      <td>NaN</td>\n",
       "      <td>NaN</td>\n",
       "      <td>NaN</td>\n",
       "      <td>...</td>\n",
       "      <td>NaN</td>\n",
       "      <td>NaN</td>\n",
       "      <td>NaN</td>\n",
       "      <td>NaN</td>\n",
       "      <td>NaN</td>\n",
       "      <td>NaN</td>\n",
       "      <td>NaN</td>\n",
       "      <td>NaN</td>\n",
       "      <td>NaN</td>\n",
       "      <td>NaN</td>\n",
       "    </tr>\n",
       "    <tr>\n",
       "      <th>1</th>\n",
       "      <td>ABW</td>\n",
       "      <td>Aruba</td>\n",
       "      <td>Aruban Guilder</td>\n",
       "      <td>1951</td>\n",
       "      <td>NaN</td>\n",
       "      <td>NaN</td>\n",
       "      <td>NaN</td>\n",
       "      <td>NaN</td>\n",
       "      <td>NaN</td>\n",
       "      <td>NaN</td>\n",
       "      <td>...</td>\n",
       "      <td>NaN</td>\n",
       "      <td>NaN</td>\n",
       "      <td>NaN</td>\n",
       "      <td>NaN</td>\n",
       "      <td>NaN</td>\n",
       "      <td>NaN</td>\n",
       "      <td>NaN</td>\n",
       "      <td>NaN</td>\n",
       "      <td>NaN</td>\n",
       "      <td>NaN</td>\n",
       "    </tr>\n",
       "    <tr>\n",
       "      <th>2</th>\n",
       "      <td>ABW</td>\n",
       "      <td>Aruba</td>\n",
       "      <td>Aruban Guilder</td>\n",
       "      <td>1952</td>\n",
       "      <td>NaN</td>\n",
       "      <td>NaN</td>\n",
       "      <td>NaN</td>\n",
       "      <td>NaN</td>\n",
       "      <td>NaN</td>\n",
       "      <td>NaN</td>\n",
       "      <td>...</td>\n",
       "      <td>NaN</td>\n",
       "      <td>NaN</td>\n",
       "      <td>NaN</td>\n",
       "      <td>NaN</td>\n",
       "      <td>NaN</td>\n",
       "      <td>NaN</td>\n",
       "      <td>NaN</td>\n",
       "      <td>NaN</td>\n",
       "      <td>NaN</td>\n",
       "      <td>NaN</td>\n",
       "    </tr>\n",
       "    <tr>\n",
       "      <th>3</th>\n",
       "      <td>ABW</td>\n",
       "      <td>Aruba</td>\n",
       "      <td>Aruban Guilder</td>\n",
       "      <td>1953</td>\n",
       "      <td>NaN</td>\n",
       "      <td>NaN</td>\n",
       "      <td>NaN</td>\n",
       "      <td>NaN</td>\n",
       "      <td>NaN</td>\n",
       "      <td>NaN</td>\n",
       "      <td>...</td>\n",
       "      <td>NaN</td>\n",
       "      <td>NaN</td>\n",
       "      <td>NaN</td>\n",
       "      <td>NaN</td>\n",
       "      <td>NaN</td>\n",
       "      <td>NaN</td>\n",
       "      <td>NaN</td>\n",
       "      <td>NaN</td>\n",
       "      <td>NaN</td>\n",
       "      <td>NaN</td>\n",
       "    </tr>\n",
       "    <tr>\n",
       "      <th>4</th>\n",
       "      <td>ABW</td>\n",
       "      <td>Aruba</td>\n",
       "      <td>Aruban Guilder</td>\n",
       "      <td>1954</td>\n",
       "      <td>NaN</td>\n",
       "      <td>NaN</td>\n",
       "      <td>NaN</td>\n",
       "      <td>NaN</td>\n",
       "      <td>NaN</td>\n",
       "      <td>NaN</td>\n",
       "      <td>...</td>\n",
       "      <td>NaN</td>\n",
       "      <td>NaN</td>\n",
       "      <td>NaN</td>\n",
       "      <td>NaN</td>\n",
       "      <td>NaN</td>\n",
       "      <td>NaN</td>\n",
       "      <td>NaN</td>\n",
       "      <td>NaN</td>\n",
       "      <td>NaN</td>\n",
       "      <td>NaN</td>\n",
       "    </tr>\n",
       "  </tbody>\n",
       "</table>\n",
       "<p>5 rows × 47 columns</p>\n",
       "</div>"
      ],
      "text/plain": [
       "  countrycode country   currency_unit  year  rgdpe  rgdpo  pop  emp  avh  hc  \\\n",
       "0         ABW   Aruba  Aruban Guilder  1950    NaN    NaN  NaN  NaN  NaN NaN   \n",
       "1         ABW   Aruba  Aruban Guilder  1951    NaN    NaN  NaN  NaN  NaN NaN   \n",
       "2         ABW   Aruba  Aruban Guilder  1952    NaN    NaN  NaN  NaN  NaN NaN   \n",
       "3         ABW   Aruba  Aruban Guilder  1953    NaN    NaN  NaN  NaN  NaN NaN   \n",
       "4         ABW   Aruba  Aruban Guilder  1954    NaN    NaN  NaN  NaN  NaN NaN   \n",
       "\n",
       "   ...  csh_g  csh_x  csh_m  csh_r  pl_c  pl_i  pl_g  pl_x  pl_m  pl_k  \n",
       "0  ...    NaN    NaN    NaN    NaN   NaN   NaN   NaN   NaN   NaN   NaN  \n",
       "1  ...    NaN    NaN    NaN    NaN   NaN   NaN   NaN   NaN   NaN   NaN  \n",
       "2  ...    NaN    NaN    NaN    NaN   NaN   NaN   NaN   NaN   NaN   NaN  \n",
       "3  ...    NaN    NaN    NaN    NaN   NaN   NaN   NaN   NaN   NaN   NaN  \n",
       "4  ...    NaN    NaN    NaN    NaN   NaN   NaN   NaN   NaN   NaN   NaN  \n",
       "\n",
       "[5 rows x 47 columns]"
      ]
     },
     "execution_count": 17,
     "metadata": {},
     "output_type": "execute_result"
    }
   ],
   "source": [
    "# Check 5 first rows\n",
    "pwt.head()"
   ]
  },
  {
   "cell_type": "markdown",
   "metadata": {
    "deletable": true,
    "editable": true,
    "frozen": false
   },
   "source": [
    "# <span style=\"color:brown\"> Part 2 - Data Processing </span>"
   ]
  },
  {
   "cell_type": "markdown",
   "metadata": {
    "deletable": true,
    "editable": true,
    "frozen": false
   },
   "source": [
    "## Data Wrangling\n",
    "\n",
    "Now that we have loaded our data we are ready to start playing with it. <br/>\n",
    "\n",
    "**5.** Start by printing all the column values in the cell bellow."
   ]
  },
  {
   "cell_type": "code",
   "execution_count": 20,
   "metadata": {
    "ExecuteTime": {
     "end_time": "2024-10-17T15:17:42.295510Z",
     "start_time": "2024-10-17T15:17:42.202288Z"
    },
    "deletable": true,
    "editable": true,
    "execution": {
     "iopub.execute_input": "2024-10-17T20:28:16.913675Z",
     "iopub.status.busy": "2024-10-17T20:28:16.913675Z",
     "iopub.status.idle": "2024-10-17T20:28:17.008198Z",
     "shell.execute_reply": "2024-10-17T20:28:17.008198Z",
     "shell.execute_reply.started": "2024-10-17T20:28:16.913675Z"
    },
    "frozen": false
   },
   "outputs": [
    {
     "name": "stdout",
     "output_type": "stream",
     "text": [
      "<class 'pandas.core.frame.DataFrame'>\n",
      "RangeIndex: 395808 entries, 0 to 395807\n",
      "Data columns (total 68 columns):\n",
      " #   Column          Non-Null Count   Dtype  \n",
      "---  ------          --------------   -----  \n",
      " 0   Country Name    395808 non-null  object \n",
      " 1   Country Code    395808 non-null  object \n",
      " 2   Indicator Name  395808 non-null  object \n",
      " 3   Indicator Code  395808 non-null  object \n",
      " 4   1960            38945 non-null   float64\n",
      " 5   1961            43899 non-null   float64\n",
      " 6   1962            45200 non-null   float64\n",
      " 7   1963            46136 non-null   float64\n",
      " 8   1964            46697 non-null   float64\n",
      " 9   1965            48849 non-null   float64\n",
      " 10  1966            48847 non-null   float64\n",
      " 11  1967            49528 non-null   float64\n",
      " 12  1968            50145 non-null   float64\n",
      " 13  1969            50920 non-null   float64\n",
      " 14  1970            68509 non-null   float64\n",
      " 15  1971            75447 non-null   float64\n",
      " 16  1972            76218 non-null   float64\n",
      " 17  1973            76749 non-null   float64\n",
      " 18  1974            78290 non-null   float64\n",
      " 19  1975            82055 non-null   float64\n",
      " 20  1976            84225 non-null   float64\n",
      " 21  1977            86934 non-null   float64\n",
      " 22  1978            87678 non-null   float64\n",
      " 23  1979            88652 non-null   float64\n",
      " 24  1980            93107 non-null   float64\n",
      " 25  1981            94977 non-null   float64\n",
      " 26  1982            95360 non-null   float64\n",
      " 27  1983            96307 non-null   float64\n",
      " 28  1984            96948 non-null   float64\n",
      " 29  1985            98289 non-null   float64\n",
      " 30  1986            99020 non-null   float64\n",
      " 31  1987            99275 non-null   float64\n",
      " 32  1988            99344 non-null   float64\n",
      " 33  1989            101161 non-null  float64\n",
      " 34  1990            124994 non-null  float64\n",
      " 35  1991            135406 non-null  float64\n",
      " 36  1992            138785 non-null  float64\n",
      " 37  1993            141341 non-null  float64\n",
      " 38  1994            143459 non-null  float64\n",
      " 39  1995            151553 non-null  float64\n",
      " 40  1996            158919 non-null  float64\n",
      " 41  1997            152359 non-null  float64\n",
      " 42  1998            161791 non-null  float64\n",
      " 43  1999            161047 non-null  float64\n",
      " 44  2000            195315 non-null  float64\n",
      " 45  2001            182594 non-null  float64\n",
      " 46  2002            192385 non-null  float64\n",
      " 47  2003            195072 non-null  float64\n",
      " 48  2004            199422 non-null  float64\n",
      " 49  2005            212565 non-null  float64\n",
      " 50  2006            213619 non-null  float64\n",
      " 51  2007            215961 non-null  float64\n",
      " 52  2008            216295 non-null  float64\n",
      " 53  2009            218079 non-null  float64\n",
      " 54  2010            228204 non-null  float64\n",
      " 55  2011            224826 non-null  float64\n",
      " 56  2012            226192 non-null  float64\n",
      " 57  2013            224068 non-null  float64\n",
      " 58  2014            230889 non-null  float64\n",
      " 59  2015            231046 non-null  float64\n",
      " 60  2016            226966 non-null  float64\n",
      " 61  2017            224417 non-null  float64\n",
      " 62  2018            223363 non-null  float64\n",
      " 63  2019            218704 non-null  float64\n",
      " 64  2020            200698 non-null  float64\n",
      " 65  2021            182596 non-null  float64\n",
      " 66  2022            150900 non-null  float64\n",
      " 67  2023            75714 non-null   float64\n",
      "dtypes: float64(64), object(4)\n",
      "memory usage: 205.3+ MB\n"
     ]
    }
   ],
   "source": [
    "# Check the columns values in the 'wdi' DataFrame\n",
    "wdi.info()  # not only returns the columns names but also the number of non-null values in each column and the data type of each column"
   ]
  },
  {
   "cell_type": "code",
   "execution_count": 21,
   "metadata": {
    "ExecuteTime": {
     "end_time": "2024-10-17T15:17:42.477380Z",
     "start_time": "2024-10-17T15:17:42.472407Z"
    },
    "deletable": true,
    "editable": true,
    "execution": {
     "iopub.execute_input": "2024-10-17T20:28:17.009206Z",
     "iopub.status.busy": "2024-10-17T20:28:17.009206Z",
     "iopub.status.idle": "2024-10-17T20:28:17.014125Z",
     "shell.execute_reply": "2024-10-17T20:28:17.014125Z",
     "shell.execute_reply.started": "2024-10-17T20:28:17.009206Z"
    },
    "frozen": false
   },
   "outputs": [
    {
     "data": {
      "text/plain": [
       "Index(['Country Name', 'Country Code', 'Indicator Name', 'Indicator Code',\n",
       "       '1960', '1961', '1962', '1963', '1964', '1965', '1966', '1967', '1968',\n",
       "       '1969', '1970', '1971', '1972', '1973', '1974', '1975', '1976', '1977',\n",
       "       '1978', '1979', '1980', '1981', '1982', '1983', '1984', '1985', '1986',\n",
       "       '1987', '1988', '1989', '1990', '1991', '1992', '1993', '1994', '1995',\n",
       "       '1996', '1997', '1998', '1999', '2000', '2001', '2002', '2003', '2004',\n",
       "       '2005', '2006', '2007', '2008', '2009', '2010', '2011', '2012', '2013',\n",
       "       '2014', '2015', '2016', '2017', '2018', '2019', '2020', '2021', '2022',\n",
       "       '2023'],\n",
       "      dtype='object')"
      ]
     },
     "execution_count": 21,
     "metadata": {},
     "output_type": "execute_result"
    }
   ],
   "source": [
    "# Check the columns values [Alternative: Just to check the columns names]\n",
    "wdi.columns"
   ]
  },
  {
   "cell_type": "code",
   "execution_count": 22,
   "metadata": {
    "ExecuteTime": {
     "end_time": "2024-10-17T15:17:42.625744Z",
     "start_time": "2024-10-17T15:17:42.621418Z"
    },
    "execution": {
     "iopub.execute_input": "2024-10-17T20:28:17.015134Z",
     "iopub.status.busy": "2024-10-17T20:28:17.015134Z",
     "iopub.status.idle": "2024-10-17T20:28:17.019995Z",
     "shell.execute_reply": "2024-10-17T20:28:17.019995Z",
     "shell.execute_reply.started": "2024-10-17T20:28:17.015134Z"
    }
   },
   "outputs": [
    {
     "data": {
      "text/plain": [
       "Index(['countrycode', 'country', 'currency_unit', 'year', 'rgdpe', 'rgdpo',\n",
       "       'pop', 'emp', 'avh', 'hc', 'ccon', 'cda', 'cgdpe', 'cgdpo', 'ck',\n",
       "       'ctfp', 'cwtfp', 'rgdpna', 'rconna', 'rdana', 'rkna', 'rtfpna',\n",
       "       'rwtfpna', 'labsh', 'delta', 'xr', 'pl_con', 'pl_da', 'pl_gdpo',\n",
       "       'i_cig', 'i_xm', 'i_xr', 'i_outlier', 'cor_exp', 'statcap', 'csh_c',\n",
       "       'csh_i', 'csh_g', 'csh_x', 'csh_m', 'csh_r', 'pl_c', 'pl_i', 'pl_g',\n",
       "       'pl_x', 'pl_m', 'pl_k'],\n",
       "      dtype='object')"
      ]
     },
     "execution_count": 22,
     "metadata": {},
     "output_type": "execute_result"
    }
   ],
   "source": [
    "# Check the columns values in the 'pwt' DataFrame\n",
    "pwt.columns"
   ]
  },
  {
   "cell_type": "markdown",
   "metadata": {
    "deletable": true,
    "editable": true,
    "frozen": false
   },
   "source": [
    "**6.** List the values in the column 'Country Name'.You will get a list with repeated values, **delete all duplicates** to ease your analysis. <br/>\n",
    "\n",
    "*Tip: There is a method in the pandas library that allows to do this easily.*"
   ]
  },
  {
   "cell_type": "code",
   "execution_count": 24,
   "metadata": {
    "ExecuteTime": {
     "end_time": "2024-10-17T15:17:42.745831Z",
     "start_time": "2024-10-17T15:17:42.732774Z"
    },
    "deletable": true,
    "editable": true,
    "execution": {
     "iopub.execute_input": "2024-10-17T20:28:17.035664Z",
     "iopub.status.busy": "2024-10-17T20:28:17.034667Z",
     "iopub.status.idle": "2024-10-17T20:28:17.047697Z",
     "shell.execute_reply": "2024-10-17T20:28:17.047697Z",
     "shell.execute_reply.started": "2024-10-17T20:28:17.035664Z"
    },
    "frozen": false
   },
   "outputs": [
    {
     "data": {
      "text/plain": [
       "0            Africa Eastern and Southern\n",
       "1488          Africa Western and Central\n",
       "2976                          Arab World\n",
       "4464              Caribbean small states\n",
       "5952      Central Europe and the Baltics\n",
       "                       ...              \n",
       "388368             Virgin Islands (U.S.)\n",
       "389856                West Bank and Gaza\n",
       "391344                       Yemen, Rep.\n",
       "392832                            Zambia\n",
       "394320                          Zimbabwe\n",
       "Name: Country Name, Length: 266, dtype: object"
      ]
     },
     "execution_count": 24,
     "metadata": {},
     "output_type": "execute_result"
    }
   ],
   "source": [
    "# Check the values of the column 'Country Name' and delete duplicates\n",
    "wdi['Country Name'].drop_duplicates()\n",
    "\n",
    "# Alternatively we can use the method .unique() to get the unique values of the column 'Country Name'\n",
    "# wdi['Country Name'].unique()"
   ]
  },
  {
   "cell_type": "markdown",
   "metadata": {
    "deletable": true,
    "editable": true,
    "frozen": false
   },
   "source": [
    "You might notice that while the bottom rows represent Countries, the top rows represent aggregates of countries (e.g., world regions). <br/> We are only interested in **working with country-level data**, and as such we need to filter out all the unnecessary rows."
   ]
  },
  {
   "cell_type": "markdown",
   "metadata": {
    "deletable": true,
    "editable": true,
    "frozen": false
   },
   "source": [
    "**7.** Save all the values of column 'Country Name' in a variable called **cnames**. <br/>"
   ]
  },
  {
   "cell_type": "code",
   "execution_count": 27,
   "metadata": {
    "ExecuteTime": {
     "end_time": "2024-10-17T15:17:42.854136Z",
     "start_time": "2024-10-17T15:17:42.850244Z"
    },
    "deletable": true,
    "editable": true,
    "execution": {
     "iopub.execute_input": "2024-10-17T20:28:17.076821Z",
     "iopub.status.busy": "2024-10-17T20:28:17.075818Z",
     "iopub.status.idle": "2024-10-17T20:28:17.079311Z",
     "shell.execute_reply": "2024-10-17T20:28:17.079311Z",
     "shell.execute_reply.started": "2024-10-17T20:28:17.075818Z"
    },
    "frozen": false
   },
   "outputs": [],
   "source": [
    "# Save the values of the column 'Country Name'\n",
    "cnames = wdi['Country Name']"
   ]
  },
  {
   "cell_type": "markdown",
   "metadata": {
    "deletable": true,
    "editable": true,
    "frozen": false
   },
   "source": [
    "**7.1.** Delete all duplicate values.<br>"
   ]
  },
  {
   "cell_type": "code",
   "execution_count": 29,
   "metadata": {
    "ExecuteTime": {
     "end_time": "2024-10-17T15:17:42.922109Z",
     "start_time": "2024-10-17T15:17:42.911666Z"
    },
    "deletable": true,
    "editable": true,
    "execution": {
     "iopub.execute_input": "2024-10-17T20:28:17.094502Z",
     "iopub.status.busy": "2024-10-17T20:28:17.094502Z",
     "iopub.status.idle": "2024-10-17T20:28:17.103890Z",
     "shell.execute_reply": "2024-10-17T20:28:17.103890Z",
     "shell.execute_reply.started": "2024-10-17T20:28:17.094502Z"
    },
    "frozen": false
   },
   "outputs": [],
   "source": [
    "# Delete duplicates\n",
    "cnames = cnames.drop_duplicates()"
   ]
  },
  {
   "cell_type": "markdown",
   "metadata": {
    "deletable": true,
    "editable": true,
    "frozen": false
   },
   "source": [
    "**7.2.** Print the names that do not represent countries."
   ]
  },
  {
   "cell_type": "code",
   "execution_count": 31,
   "metadata": {
    "ExecuteTime": {
     "end_time": "2024-10-17T15:17:43.001215Z",
     "start_time": "2024-10-17T15:17:42.994073Z"
    },
    "execution": {
     "iopub.execute_input": "2024-10-17T20:28:17.119566Z",
     "iopub.status.busy": "2024-10-17T20:28:17.118567Z",
     "iopub.status.idle": "2024-10-17T20:28:17.124888Z",
     "shell.execute_reply": "2024-10-17T20:28:17.124888Z",
     "shell.execute_reply.started": "2024-10-17T20:28:17.119566Z"
    }
   },
   "outputs": [
    {
     "data": {
      "text/plain": [
       "0                           Africa Eastern and Southern\n",
       "1                            Africa Western and Central\n",
       "2                                            Arab World\n",
       "3                                Caribbean small states\n",
       "4                        Central Europe and the Baltics\n",
       "5                            Early-demographic dividend\n",
       "6                                   East Asia & Pacific\n",
       "7           East Asia & Pacific (excluding high income)\n",
       "8            East Asia & Pacific (IDA & IBRD countries)\n",
       "9                                             Euro area\n",
       "10                                Europe & Central Asia\n",
       "11        Europe & Central Asia (excluding high income)\n",
       "12         Europe & Central Asia (IDA & IBRD countries)\n",
       "13                                       European Union\n",
       "14             Fragile and conflict affected situations\n",
       "15               Heavily indebted poor countries (HIPC)\n",
       "16                                          High income\n",
       "17                                            IBRD only\n",
       "18                                     IDA & IBRD total\n",
       "19                                            IDA blend\n",
       "20                                             IDA only\n",
       "21                                            IDA total\n",
       "22                            Late-demographic dividend\n",
       "23                            Latin America & Caribbean\n",
       "24    Latin America & Caribbean (excluding high income)\n",
       "25    Latin America & the Caribbean (IDA & IBRD coun...\n",
       "26         Least developed countries: UN classification\n",
       "27                                  Low & middle income\n",
       "28                                           Low income\n",
       "29                                  Lower middle income\n",
       "30                           Middle East & North Africa\n",
       "31    Middle East & North Africa (excluding high inc...\n",
       "32    Middle East & North Africa (IDA & IBRD countries)\n",
       "33                                        Middle income\n",
       "34                                        North America\n",
       "35                                       Not classified\n",
       "36                                         OECD members\n",
       "37                                   Other small states\n",
       "38                          Pacific island small states\n",
       "39                            Post-demographic dividend\n",
       "40                             Pre-demographic dividend\n",
       "41                                         Small states\n",
       "42                                           South Asia\n",
       "43                              South Asia (IDA & IBRD)\n",
       "44                                   Sub-Saharan Africa\n",
       "45           Sub-Saharan Africa (excluding high income)\n",
       "46            Sub-Saharan Africa (IDA & IBRD countries)\n",
       "47                                  Upper middle income\n",
       "48                                                World\n",
       "Name: Country Name, dtype: object"
      ]
     },
     "execution_count": 31,
     "metadata": {},
     "output_type": "execute_result"
    }
   ],
   "source": [
    "# Firstly we replace the old index\n",
    "cnames= cnames.reset_index(drop=True)\n",
    "\n",
    "# Then we find the index of the last name that doesn't represent a country\n",
    "index = cnames[cnames ==\"World\"].index[0]\n",
    "not_countries= cnames.iloc[:index+1]\n",
    "not_countries"
   ]
  },
  {
   "cell_type": "code",
   "execution_count": 32,
   "metadata": {
    "ExecuteTime": {
     "end_time": "2024-10-17T15:17:43.105443Z",
     "start_time": "2024-10-17T15:17:43.102074Z"
    },
    "deletable": true,
    "editable": true,
    "execution": {
     "iopub.execute_input": "2024-10-17T20:28:17.125895Z",
     "iopub.status.busy": "2024-10-17T20:28:17.125895Z",
     "iopub.status.idle": "2024-10-17T20:28:17.128939Z",
     "shell.execute_reply": "2024-10-17T20:28:17.128939Z",
     "shell.execute_reply.started": "2024-10-17T20:28:17.125895Z"
    },
    "frozen": false
   },
   "outputs": [],
   "source": [
    "# [Alternative]: After analyzing the values, we can see that the first 49 values are not countries but aggregates of countries\n",
    "# cnames[:49]"
   ]
  },
  {
   "cell_type": "markdown",
   "metadata": {
    "deletable": true,
    "editable": true,
    "frozen": false
   },
   "source": [
    "You can take advantage of the structure of the dataset to realize that aggregates (Continents, Regions, etc) are all located on the top of the series 'cnames'. Moreover, since the series is small you can easily validate this assumption manually and then use that information to extract a slice of all the entries that represent non-countries entities.<br/>\n",
    "\n",
    "**8.** In the next cell filter out, from **wdi**, the rows in which 'Country Name' represents an aggregate of countries.<br/>"
   ]
  },
  {
   "cell_type": "code",
   "execution_count": 34,
   "metadata": {
    "ExecuteTime": {
     "end_time": "2024-10-17T15:17:43.283840Z",
     "start_time": "2024-10-17T15:17:43.206770Z"
    },
    "deletable": true,
    "editable": true,
    "execution": {
     "iopub.execute_input": "2024-10-17T20:28:17.145496Z",
     "iopub.status.busy": "2024-10-17T20:28:17.145496Z",
     "iopub.status.idle": "2024-10-17T20:28:17.235157Z",
     "shell.execute_reply": "2024-10-17T20:28:17.235157Z",
     "shell.execute_reply.started": "2024-10-17T20:28:17.145496Z"
    },
    "frozen": false
   },
   "outputs": [],
   "source": [
    "# Filter out the rows that represent aggregates of countries\n",
    "wdi = wdi.loc[wdi['Country Name'].isin(not_countries)== False]  \n",
    "# - wdi['Country Name'].isin(not_countries) -> returns a boolean Series with:\n",
    "#                                                  - 'True' for the rows that values in 'Country Name' are in 'not_countries'\n",
    "#                                                  - 'False' otherwise\n",
    "# In this case we are filtering out the rows that represent aggregates of countries so we want the opposite of the boolean Series\n",
    "# - wdi.loc[... == False] -> returns the rows where 'Country Name' is not in 'not_countries'\n",
    "\n",
    "# [Alternative]\n",
    "# wdi = wdi.loc[wdi['Country Name'].isin(cnames[49:])]"
   ]
  },
  {
   "cell_type": "markdown",
   "metadata": {
    "deletable": true,
    "editable": true,
    "frozen": false
   },
   "source": [
    "**9.** Check that the top of the **wdi** dataframe now only has countries and not aggregates of countries."
   ]
  },
  {
   "cell_type": "code",
   "execution_count": 36,
   "metadata": {
    "ExecuteTime": {
     "end_time": "2024-10-17T15:17:43.351460Z",
     "start_time": "2024-10-17T15:17:43.336368Z"
    },
    "deletable": true,
    "editable": true,
    "execution": {
     "iopub.execute_input": "2024-10-17T20:28:17.253327Z",
     "iopub.status.busy": "2024-10-17T20:28:17.253327Z",
     "iopub.status.idle": "2024-10-17T20:28:17.268913Z",
     "shell.execute_reply": "2024-10-17T20:28:17.268913Z",
     "shell.execute_reply.started": "2024-10-17T20:28:17.253327Z"
    },
    "frozen": false
   },
   "outputs": [
    {
     "data": {
      "text/html": [
       "<div>\n",
       "<style scoped>\n",
       "    .dataframe tbody tr th:only-of-type {\n",
       "        vertical-align: middle;\n",
       "    }\n",
       "\n",
       "    .dataframe tbody tr th {\n",
       "        vertical-align: top;\n",
       "    }\n",
       "\n",
       "    .dataframe thead th {\n",
       "        text-align: right;\n",
       "    }\n",
       "</style>\n",
       "<table border=\"1\" class=\"dataframe\">\n",
       "  <thead>\n",
       "    <tr style=\"text-align: right;\">\n",
       "      <th></th>\n",
       "      <th>Country Name</th>\n",
       "      <th>Country Code</th>\n",
       "      <th>Indicator Name</th>\n",
       "      <th>Indicator Code</th>\n",
       "      <th>1960</th>\n",
       "      <th>1961</th>\n",
       "      <th>1962</th>\n",
       "      <th>1963</th>\n",
       "      <th>1964</th>\n",
       "      <th>1965</th>\n",
       "      <th>...</th>\n",
       "      <th>2014</th>\n",
       "      <th>2015</th>\n",
       "      <th>2016</th>\n",
       "      <th>2017</th>\n",
       "      <th>2018</th>\n",
       "      <th>2019</th>\n",
       "      <th>2020</th>\n",
       "      <th>2021</th>\n",
       "      <th>2022</th>\n",
       "      <th>2023</th>\n",
       "    </tr>\n",
       "  </thead>\n",
       "  <tbody>\n",
       "    <tr>\n",
       "      <th>72912</th>\n",
       "      <td>Afghanistan</td>\n",
       "      <td>AFG</td>\n",
       "      <td>Access to clean fuels and technologies for coo...</td>\n",
       "      <td>EG.CFT.ACCS.ZS</td>\n",
       "      <td>NaN</td>\n",
       "      <td>NaN</td>\n",
       "      <td>NaN</td>\n",
       "      <td>NaN</td>\n",
       "      <td>NaN</td>\n",
       "      <td>NaN</td>\n",
       "      <td>...</td>\n",
       "      <td>26.1</td>\n",
       "      <td>27.6</td>\n",
       "      <td>28.8</td>\n",
       "      <td>30.3</td>\n",
       "      <td>31.4</td>\n",
       "      <td>32.6</td>\n",
       "      <td>33.8</td>\n",
       "      <td>34.9</td>\n",
       "      <td>36.1</td>\n",
       "      <td>NaN</td>\n",
       "    </tr>\n",
       "    <tr>\n",
       "      <th>72913</th>\n",
       "      <td>Afghanistan</td>\n",
       "      <td>AFG</td>\n",
       "      <td>Access to clean fuels and technologies for coo...</td>\n",
       "      <td>EG.CFT.ACCS.RU.ZS</td>\n",
       "      <td>NaN</td>\n",
       "      <td>NaN</td>\n",
       "      <td>NaN</td>\n",
       "      <td>NaN</td>\n",
       "      <td>NaN</td>\n",
       "      <td>NaN</td>\n",
       "      <td>...</td>\n",
       "      <td>10.2</td>\n",
       "      <td>11.4</td>\n",
       "      <td>12.6</td>\n",
       "      <td>13.5</td>\n",
       "      <td>14.5</td>\n",
       "      <td>15.6</td>\n",
       "      <td>16.4</td>\n",
       "      <td>17.4</td>\n",
       "      <td>18.5</td>\n",
       "      <td>NaN</td>\n",
       "    </tr>\n",
       "    <tr>\n",
       "      <th>72914</th>\n",
       "      <td>Afghanistan</td>\n",
       "      <td>AFG</td>\n",
       "      <td>Access to clean fuels and technologies for coo...</td>\n",
       "      <td>EG.CFT.ACCS.UR.ZS</td>\n",
       "      <td>NaN</td>\n",
       "      <td>NaN</td>\n",
       "      <td>NaN</td>\n",
       "      <td>NaN</td>\n",
       "      <td>NaN</td>\n",
       "      <td>NaN</td>\n",
       "      <td>...</td>\n",
       "      <td>78.0</td>\n",
       "      <td>79.5</td>\n",
       "      <td>80.5</td>\n",
       "      <td>81.6</td>\n",
       "      <td>82.6</td>\n",
       "      <td>83.2</td>\n",
       "      <td>83.8</td>\n",
       "      <td>84.5</td>\n",
       "      <td>85.0</td>\n",
       "      <td>NaN</td>\n",
       "    </tr>\n",
       "    <tr>\n",
       "      <th>72915</th>\n",
       "      <td>Afghanistan</td>\n",
       "      <td>AFG</td>\n",
       "      <td>Access to electricity (% of population)</td>\n",
       "      <td>EG.ELC.ACCS.ZS</td>\n",
       "      <td>NaN</td>\n",
       "      <td>NaN</td>\n",
       "      <td>NaN</td>\n",
       "      <td>NaN</td>\n",
       "      <td>NaN</td>\n",
       "      <td>NaN</td>\n",
       "      <td>...</td>\n",
       "      <td>89.5</td>\n",
       "      <td>71.5</td>\n",
       "      <td>97.7</td>\n",
       "      <td>97.7</td>\n",
       "      <td>93.4</td>\n",
       "      <td>97.7</td>\n",
       "      <td>97.7</td>\n",
       "      <td>97.7</td>\n",
       "      <td>85.3</td>\n",
       "      <td>NaN</td>\n",
       "    </tr>\n",
       "    <tr>\n",
       "      <th>72916</th>\n",
       "      <td>Afghanistan</td>\n",
       "      <td>AFG</td>\n",
       "      <td>Access to electricity, rural (% of rural popul...</td>\n",
       "      <td>EG.ELC.ACCS.RU.ZS</td>\n",
       "      <td>NaN</td>\n",
       "      <td>NaN</td>\n",
       "      <td>NaN</td>\n",
       "      <td>NaN</td>\n",
       "      <td>NaN</td>\n",
       "      <td>NaN</td>\n",
       "      <td>...</td>\n",
       "      <td>86.5</td>\n",
       "      <td>64.6</td>\n",
       "      <td>97.1</td>\n",
       "      <td>97.1</td>\n",
       "      <td>91.6</td>\n",
       "      <td>97.1</td>\n",
       "      <td>97.1</td>\n",
       "      <td>97.1</td>\n",
       "      <td>81.7</td>\n",
       "      <td>NaN</td>\n",
       "    </tr>\n",
       "  </tbody>\n",
       "</table>\n",
       "<p>5 rows × 68 columns</p>\n",
       "</div>"
      ],
      "text/plain": [
       "      Country Name Country Code  \\\n",
       "72912  Afghanistan          AFG   \n",
       "72913  Afghanistan          AFG   \n",
       "72914  Afghanistan          AFG   \n",
       "72915  Afghanistan          AFG   \n",
       "72916  Afghanistan          AFG   \n",
       "\n",
       "                                          Indicator Name     Indicator Code  \\\n",
       "72912  Access to clean fuels and technologies for coo...     EG.CFT.ACCS.ZS   \n",
       "72913  Access to clean fuels and technologies for coo...  EG.CFT.ACCS.RU.ZS   \n",
       "72914  Access to clean fuels and technologies for coo...  EG.CFT.ACCS.UR.ZS   \n",
       "72915            Access to electricity (% of population)     EG.ELC.ACCS.ZS   \n",
       "72916  Access to electricity, rural (% of rural popul...  EG.ELC.ACCS.RU.ZS   \n",
       "\n",
       "       1960  1961  1962  1963  1964  1965  ...  2014  2015  2016  2017  2018  \\\n",
       "72912   NaN   NaN   NaN   NaN   NaN   NaN  ...  26.1  27.6  28.8  30.3  31.4   \n",
       "72913   NaN   NaN   NaN   NaN   NaN   NaN  ...  10.2  11.4  12.6  13.5  14.5   \n",
       "72914   NaN   NaN   NaN   NaN   NaN   NaN  ...  78.0  79.5  80.5  81.6  82.6   \n",
       "72915   NaN   NaN   NaN   NaN   NaN   NaN  ...  89.5  71.5  97.7  97.7  93.4   \n",
       "72916   NaN   NaN   NaN   NaN   NaN   NaN  ...  86.5  64.6  97.1  97.1  91.6   \n",
       "\n",
       "       2019  2020  2021  2022  2023  \n",
       "72912  32.6  33.8  34.9  36.1   NaN  \n",
       "72913  15.6  16.4  17.4  18.5   NaN  \n",
       "72914  83.2  83.8  84.5  85.0   NaN  \n",
       "72915  97.7  97.7  97.7  85.3   NaN  \n",
       "72916  97.1  97.1  97.1  81.7   NaN  \n",
       "\n",
       "[5 rows x 68 columns]"
      ]
     },
     "execution_count": 36,
     "metadata": {},
     "output_type": "execute_result"
    }
   ],
   "source": [
    "# Check 5 first rows\n",
    "wdi.head()"
   ]
  },
  {
   "cell_type": "markdown",
   "metadata": {
    "deletable": true,
    "editable": true,
    "frozen": false
   },
   "source": [
    "**10.** Reset the indexes of **wdi**. Perform this operation in-place."
   ]
  },
  {
   "cell_type": "code",
   "execution_count": 38,
   "metadata": {
    "ExecuteTime": {
     "end_time": "2024-10-17T15:17:43.458652Z",
     "start_time": "2024-10-17T15:17:43.455336Z"
    },
    "execution": {
     "iopub.execute_input": "2024-10-17T20:28:17.285059Z",
     "iopub.status.busy": "2024-10-17T20:28:17.284060Z",
     "iopub.status.idle": "2024-10-17T20:28:17.287880Z",
     "shell.execute_reply": "2024-10-17T20:28:17.287880Z",
     "shell.execute_reply.started": "2024-10-17T20:28:17.285059Z"
    }
   },
   "outputs": [],
   "source": [
    "# Reset the indexes\n",
    "wdi.reset_index(drop = True,     # Drop the old index if it is saved as a column\n",
    "                inplace = True)  # Perform the operation in-place"
   ]
  },
  {
   "cell_type": "markdown",
   "metadata": {},
   "source": [
    "**11.** Show that the indexes have been reseted."
   ]
  },
  {
   "cell_type": "code",
   "execution_count": 40,
   "metadata": {
    "ExecuteTime": {
     "end_time": "2024-10-17T15:17:43.542512Z",
     "start_time": "2024-10-17T15:17:43.527029Z"
    },
    "deletable": true,
    "editable": true,
    "execution": {
     "iopub.execute_input": "2024-10-17T20:28:17.308657Z",
     "iopub.status.busy": "2024-10-17T20:28:17.308657Z",
     "iopub.status.idle": "2024-10-17T20:28:17.323132Z",
     "shell.execute_reply": "2024-10-17T20:28:17.323132Z",
     "shell.execute_reply.started": "2024-10-17T20:28:17.308657Z"
    },
    "frozen": false
   },
   "outputs": [
    {
     "data": {
      "text/html": [
       "<div>\n",
       "<style scoped>\n",
       "    .dataframe tbody tr th:only-of-type {\n",
       "        vertical-align: middle;\n",
       "    }\n",
       "\n",
       "    .dataframe tbody tr th {\n",
       "        vertical-align: top;\n",
       "    }\n",
       "\n",
       "    .dataframe thead th {\n",
       "        text-align: right;\n",
       "    }\n",
       "</style>\n",
       "<table border=\"1\" class=\"dataframe\">\n",
       "  <thead>\n",
       "    <tr style=\"text-align: right;\">\n",
       "      <th></th>\n",
       "      <th>Country Name</th>\n",
       "      <th>Country Code</th>\n",
       "      <th>Indicator Name</th>\n",
       "      <th>Indicator Code</th>\n",
       "      <th>1960</th>\n",
       "      <th>1961</th>\n",
       "      <th>1962</th>\n",
       "      <th>1963</th>\n",
       "      <th>1964</th>\n",
       "      <th>1965</th>\n",
       "      <th>...</th>\n",
       "      <th>2014</th>\n",
       "      <th>2015</th>\n",
       "      <th>2016</th>\n",
       "      <th>2017</th>\n",
       "      <th>2018</th>\n",
       "      <th>2019</th>\n",
       "      <th>2020</th>\n",
       "      <th>2021</th>\n",
       "      <th>2022</th>\n",
       "      <th>2023</th>\n",
       "    </tr>\n",
       "  </thead>\n",
       "  <tbody>\n",
       "    <tr>\n",
       "      <th>0</th>\n",
       "      <td>Afghanistan</td>\n",
       "      <td>AFG</td>\n",
       "      <td>Access to clean fuels and technologies for coo...</td>\n",
       "      <td>EG.CFT.ACCS.ZS</td>\n",
       "      <td>NaN</td>\n",
       "      <td>NaN</td>\n",
       "      <td>NaN</td>\n",
       "      <td>NaN</td>\n",
       "      <td>NaN</td>\n",
       "      <td>NaN</td>\n",
       "      <td>...</td>\n",
       "      <td>26.1</td>\n",
       "      <td>27.6</td>\n",
       "      <td>28.8</td>\n",
       "      <td>30.3</td>\n",
       "      <td>31.4</td>\n",
       "      <td>32.6</td>\n",
       "      <td>33.8</td>\n",
       "      <td>34.9</td>\n",
       "      <td>36.1</td>\n",
       "      <td>NaN</td>\n",
       "    </tr>\n",
       "    <tr>\n",
       "      <th>1</th>\n",
       "      <td>Afghanistan</td>\n",
       "      <td>AFG</td>\n",
       "      <td>Access to clean fuels and technologies for coo...</td>\n",
       "      <td>EG.CFT.ACCS.RU.ZS</td>\n",
       "      <td>NaN</td>\n",
       "      <td>NaN</td>\n",
       "      <td>NaN</td>\n",
       "      <td>NaN</td>\n",
       "      <td>NaN</td>\n",
       "      <td>NaN</td>\n",
       "      <td>...</td>\n",
       "      <td>10.2</td>\n",
       "      <td>11.4</td>\n",
       "      <td>12.6</td>\n",
       "      <td>13.5</td>\n",
       "      <td>14.5</td>\n",
       "      <td>15.6</td>\n",
       "      <td>16.4</td>\n",
       "      <td>17.4</td>\n",
       "      <td>18.5</td>\n",
       "      <td>NaN</td>\n",
       "    </tr>\n",
       "    <tr>\n",
       "      <th>2</th>\n",
       "      <td>Afghanistan</td>\n",
       "      <td>AFG</td>\n",
       "      <td>Access to clean fuels and technologies for coo...</td>\n",
       "      <td>EG.CFT.ACCS.UR.ZS</td>\n",
       "      <td>NaN</td>\n",
       "      <td>NaN</td>\n",
       "      <td>NaN</td>\n",
       "      <td>NaN</td>\n",
       "      <td>NaN</td>\n",
       "      <td>NaN</td>\n",
       "      <td>...</td>\n",
       "      <td>78.0</td>\n",
       "      <td>79.5</td>\n",
       "      <td>80.5</td>\n",
       "      <td>81.6</td>\n",
       "      <td>82.6</td>\n",
       "      <td>83.2</td>\n",
       "      <td>83.8</td>\n",
       "      <td>84.5</td>\n",
       "      <td>85.0</td>\n",
       "      <td>NaN</td>\n",
       "    </tr>\n",
       "    <tr>\n",
       "      <th>3</th>\n",
       "      <td>Afghanistan</td>\n",
       "      <td>AFG</td>\n",
       "      <td>Access to electricity (% of population)</td>\n",
       "      <td>EG.ELC.ACCS.ZS</td>\n",
       "      <td>NaN</td>\n",
       "      <td>NaN</td>\n",
       "      <td>NaN</td>\n",
       "      <td>NaN</td>\n",
       "      <td>NaN</td>\n",
       "      <td>NaN</td>\n",
       "      <td>...</td>\n",
       "      <td>89.5</td>\n",
       "      <td>71.5</td>\n",
       "      <td>97.7</td>\n",
       "      <td>97.7</td>\n",
       "      <td>93.4</td>\n",
       "      <td>97.7</td>\n",
       "      <td>97.7</td>\n",
       "      <td>97.7</td>\n",
       "      <td>85.3</td>\n",
       "      <td>NaN</td>\n",
       "    </tr>\n",
       "    <tr>\n",
       "      <th>4</th>\n",
       "      <td>Afghanistan</td>\n",
       "      <td>AFG</td>\n",
       "      <td>Access to electricity, rural (% of rural popul...</td>\n",
       "      <td>EG.ELC.ACCS.RU.ZS</td>\n",
       "      <td>NaN</td>\n",
       "      <td>NaN</td>\n",
       "      <td>NaN</td>\n",
       "      <td>NaN</td>\n",
       "      <td>NaN</td>\n",
       "      <td>NaN</td>\n",
       "      <td>...</td>\n",
       "      <td>86.5</td>\n",
       "      <td>64.6</td>\n",
       "      <td>97.1</td>\n",
       "      <td>97.1</td>\n",
       "      <td>91.6</td>\n",
       "      <td>97.1</td>\n",
       "      <td>97.1</td>\n",
       "      <td>97.1</td>\n",
       "      <td>81.7</td>\n",
       "      <td>NaN</td>\n",
       "    </tr>\n",
       "  </tbody>\n",
       "</table>\n",
       "<p>5 rows × 68 columns</p>\n",
       "</div>"
      ],
      "text/plain": [
       "  Country Name Country Code  \\\n",
       "0  Afghanistan          AFG   \n",
       "1  Afghanistan          AFG   \n",
       "2  Afghanistan          AFG   \n",
       "3  Afghanistan          AFG   \n",
       "4  Afghanistan          AFG   \n",
       "\n",
       "                                      Indicator Name     Indicator Code  1960  \\\n",
       "0  Access to clean fuels and technologies for coo...     EG.CFT.ACCS.ZS   NaN   \n",
       "1  Access to clean fuels and technologies for coo...  EG.CFT.ACCS.RU.ZS   NaN   \n",
       "2  Access to clean fuels and technologies for coo...  EG.CFT.ACCS.UR.ZS   NaN   \n",
       "3            Access to electricity (% of population)     EG.ELC.ACCS.ZS   NaN   \n",
       "4  Access to electricity, rural (% of rural popul...  EG.ELC.ACCS.RU.ZS   NaN   \n",
       "\n",
       "   1961  1962  1963  1964  1965  ...  2014  2015  2016  2017  2018  2019  \\\n",
       "0   NaN   NaN   NaN   NaN   NaN  ...  26.1  27.6  28.8  30.3  31.4  32.6   \n",
       "1   NaN   NaN   NaN   NaN   NaN  ...  10.2  11.4  12.6  13.5  14.5  15.6   \n",
       "2   NaN   NaN   NaN   NaN   NaN  ...  78.0  79.5  80.5  81.6  82.6  83.2   \n",
       "3   NaN   NaN   NaN   NaN   NaN  ...  89.5  71.5  97.7  97.7  93.4  97.7   \n",
       "4   NaN   NaN   NaN   NaN   NaN  ...  86.5  64.6  97.1  97.1  91.6  97.1   \n",
       "\n",
       "   2020  2021  2022  2023  \n",
       "0  33.8  34.9  36.1   NaN  \n",
       "1  16.4  17.4  18.5   NaN  \n",
       "2  83.8  84.5  85.0   NaN  \n",
       "3  97.7  97.7  85.3   NaN  \n",
       "4  97.1  97.1  81.7   NaN  \n",
       "\n",
       "[5 rows x 68 columns]"
      ]
     },
     "execution_count": 40,
     "metadata": {},
     "output_type": "execute_result"
    }
   ],
   "source": [
    "# Check 5 first rows\n",
    "wdi.head() # the 'wdi' dataframe now starts at index 0"
   ]
  },
  {
   "cell_type": "markdown",
   "metadata": {
    "deletable": true,
    "editable": true,
    "frozen": false
   },
   "source": [
    "*Note that when reseting the index, pandas appends a new column at the begining of the data frame, which holds the previous index values.*"
   ]
  },
  {
   "cell_type": "markdown",
   "metadata": {
    "deletable": true,
    "editable": true,
    "frozen": false
   },
   "source": [
    "## Indicator Codes and Indicator Names\n",
    "\n",
    "**12.** Select the columns 'Indicator Name' and 'Indicator Code'.Then, delete all the duplicates, and print the top 5 and bottom 5 values. <br/>\n",
    "\n",
    "*Note: You should be able to do everything in a single line of code for the top 5 values and a single line for the bottom 5 values.*"
   ]
  },
  {
   "cell_type": "code",
   "execution_count": 43,
   "metadata": {
    "ExecuteTime": {
     "end_time": "2024-10-17T15:17:43.735654Z",
     "start_time": "2024-10-17T15:17:43.723657Z"
    },
    "deletable": true,
    "editable": true,
    "execution": {
     "iopub.execute_input": "2024-10-17T20:28:17.357857Z",
     "iopub.status.busy": "2024-10-17T20:28:17.356854Z",
     "iopub.status.idle": "2024-10-17T20:28:17.370110Z",
     "shell.execute_reply": "2024-10-17T20:28:17.370110Z",
     "shell.execute_reply.started": "2024-10-17T20:28:17.356854Z"
    },
    "frozen": false
   },
   "outputs": [
    {
     "data": {
      "text/html": [
       "<div>\n",
       "<style scoped>\n",
       "    .dataframe tbody tr th:only-of-type {\n",
       "        vertical-align: middle;\n",
       "    }\n",
       "\n",
       "    .dataframe tbody tr th {\n",
       "        vertical-align: top;\n",
       "    }\n",
       "\n",
       "    .dataframe thead th {\n",
       "        text-align: right;\n",
       "    }\n",
       "</style>\n",
       "<table border=\"1\" class=\"dataframe\">\n",
       "  <thead>\n",
       "    <tr style=\"text-align: right;\">\n",
       "      <th></th>\n",
       "      <th>Indicator Name</th>\n",
       "      <th>Indicator Code</th>\n",
       "    </tr>\n",
       "  </thead>\n",
       "  <tbody>\n",
       "    <tr>\n",
       "      <th>0</th>\n",
       "      <td>Access to clean fuels and technologies for coo...</td>\n",
       "      <td>EG.CFT.ACCS.ZS</td>\n",
       "    </tr>\n",
       "    <tr>\n",
       "      <th>1</th>\n",
       "      <td>Access to clean fuels and technologies for coo...</td>\n",
       "      <td>EG.CFT.ACCS.RU.ZS</td>\n",
       "    </tr>\n",
       "    <tr>\n",
       "      <th>2</th>\n",
       "      <td>Access to clean fuels and technologies for coo...</td>\n",
       "      <td>EG.CFT.ACCS.UR.ZS</td>\n",
       "    </tr>\n",
       "    <tr>\n",
       "      <th>3</th>\n",
       "      <td>Access to electricity (% of population)</td>\n",
       "      <td>EG.ELC.ACCS.ZS</td>\n",
       "    </tr>\n",
       "    <tr>\n",
       "      <th>4</th>\n",
       "      <td>Access to electricity, rural (% of rural popul...</td>\n",
       "      <td>EG.ELC.ACCS.RU.ZS</td>\n",
       "    </tr>\n",
       "    <tr>\n",
       "      <th>...</th>\n",
       "      <td>...</td>\n",
       "      <td>...</td>\n",
       "    </tr>\n",
       "    <tr>\n",
       "      <th>322891</th>\n",
       "      <td>Women who believe a husband is justified in be...</td>\n",
       "      <td>SG.VAW.REFU.ZS</td>\n",
       "    </tr>\n",
       "    <tr>\n",
       "      <th>322892</th>\n",
       "      <td>Women who were first married by age 15 (% of w...</td>\n",
       "      <td>SP.M15.2024.FE.ZS</td>\n",
       "    </tr>\n",
       "    <tr>\n",
       "      <th>322893</th>\n",
       "      <td>Women who were first married by age 18 (% of w...</td>\n",
       "      <td>SP.M18.2024.FE.ZS</td>\n",
       "    </tr>\n",
       "    <tr>\n",
       "      <th>322894</th>\n",
       "      <td>Women's share of population ages 15+ living wi...</td>\n",
       "      <td>SH.DYN.AIDS.FE.ZS</td>\n",
       "    </tr>\n",
       "    <tr>\n",
       "      <th>322895</th>\n",
       "      <td>Young people (ages 15-24) newly infected with HIV</td>\n",
       "      <td>SH.HIV.INCD.YG</td>\n",
       "    </tr>\n",
       "  </tbody>\n",
       "</table>\n",
       "<p>322896 rows × 2 columns</p>\n",
       "</div>"
      ],
      "text/plain": [
       "                                           Indicator Name     Indicator Code\n",
       "0       Access to clean fuels and technologies for coo...     EG.CFT.ACCS.ZS\n",
       "1       Access to clean fuels and technologies for coo...  EG.CFT.ACCS.RU.ZS\n",
       "2       Access to clean fuels and technologies for coo...  EG.CFT.ACCS.UR.ZS\n",
       "3                 Access to electricity (% of population)     EG.ELC.ACCS.ZS\n",
       "4       Access to electricity, rural (% of rural popul...  EG.ELC.ACCS.RU.ZS\n",
       "...                                                   ...                ...\n",
       "322891  Women who believe a husband is justified in be...     SG.VAW.REFU.ZS\n",
       "322892  Women who were first married by age 15 (% of w...  SP.M15.2024.FE.ZS\n",
       "322893  Women who were first married by age 18 (% of w...  SP.M18.2024.FE.ZS\n",
       "322894  Women's share of population ages 15+ living wi...  SH.DYN.AIDS.FE.ZS\n",
       "322895  Young people (ages 15-24) newly infected with HIV     SH.HIV.INCD.YG\n",
       "\n",
       "[322896 rows x 2 columns]"
      ]
     },
     "execution_count": 43,
     "metadata": {},
     "output_type": "execute_result"
    }
   ],
   "source": [
    "# Select the columns 'Indicator Name' and 'Indicator Code'\n",
    "wdi[['Indicator Name', 'Indicator Code']]"
   ]
  },
  {
   "cell_type": "code",
   "execution_count": 44,
   "metadata": {
    "ExecuteTime": {
     "end_time": "2024-10-17T15:17:43.969470Z",
     "start_time": "2024-10-17T15:17:43.885138Z"
    },
    "deletable": true,
    "editable": true,
    "execution": {
     "iopub.execute_input": "2024-10-17T20:28:17.371116Z",
     "iopub.status.busy": "2024-10-17T20:28:17.371116Z",
     "iopub.status.idle": "2024-10-17T20:28:17.451268Z",
     "shell.execute_reply": "2024-10-17T20:28:17.451268Z",
     "shell.execute_reply.started": "2024-10-17T20:28:17.371116Z"
    },
    "frozen": false
   },
   "outputs": [
    {
     "data": {
      "text/html": [
       "<div>\n",
       "<style scoped>\n",
       "    .dataframe tbody tr th:only-of-type {\n",
       "        vertical-align: middle;\n",
       "    }\n",
       "\n",
       "    .dataframe tbody tr th {\n",
       "        vertical-align: top;\n",
       "    }\n",
       "\n",
       "    .dataframe thead th {\n",
       "        text-align: right;\n",
       "    }\n",
       "</style>\n",
       "<table border=\"1\" class=\"dataframe\">\n",
       "  <thead>\n",
       "    <tr style=\"text-align: right;\">\n",
       "      <th></th>\n",
       "      <th>Indicator Name</th>\n",
       "      <th>Indicator Code</th>\n",
       "    </tr>\n",
       "  </thead>\n",
       "  <tbody>\n",
       "    <tr>\n",
       "      <th>0</th>\n",
       "      <td>Access to clean fuels and technologies for coo...</td>\n",
       "      <td>EG.CFT.ACCS.ZS</td>\n",
       "    </tr>\n",
       "    <tr>\n",
       "      <th>1</th>\n",
       "      <td>Access to clean fuels and technologies for coo...</td>\n",
       "      <td>EG.CFT.ACCS.RU.ZS</td>\n",
       "    </tr>\n",
       "    <tr>\n",
       "      <th>2</th>\n",
       "      <td>Access to clean fuels and technologies for coo...</td>\n",
       "      <td>EG.CFT.ACCS.UR.ZS</td>\n",
       "    </tr>\n",
       "    <tr>\n",
       "      <th>3</th>\n",
       "      <td>Access to electricity (% of population)</td>\n",
       "      <td>EG.ELC.ACCS.ZS</td>\n",
       "    </tr>\n",
       "    <tr>\n",
       "      <th>4</th>\n",
       "      <td>Access to electricity, rural (% of rural popul...</td>\n",
       "      <td>EG.ELC.ACCS.RU.ZS</td>\n",
       "    </tr>\n",
       "    <tr>\n",
       "      <th>...</th>\n",
       "      <td>...</td>\n",
       "      <td>...</td>\n",
       "    </tr>\n",
       "    <tr>\n",
       "      <th>1483</th>\n",
       "      <td>Women who believe a husband is justified in be...</td>\n",
       "      <td>SG.VAW.REFU.ZS</td>\n",
       "    </tr>\n",
       "    <tr>\n",
       "      <th>1484</th>\n",
       "      <td>Women who were first married by age 15 (% of w...</td>\n",
       "      <td>SP.M15.2024.FE.ZS</td>\n",
       "    </tr>\n",
       "    <tr>\n",
       "      <th>1485</th>\n",
       "      <td>Women who were first married by age 18 (% of w...</td>\n",
       "      <td>SP.M18.2024.FE.ZS</td>\n",
       "    </tr>\n",
       "    <tr>\n",
       "      <th>1486</th>\n",
       "      <td>Women's share of population ages 15+ living wi...</td>\n",
       "      <td>SH.DYN.AIDS.FE.ZS</td>\n",
       "    </tr>\n",
       "    <tr>\n",
       "      <th>1487</th>\n",
       "      <td>Young people (ages 15-24) newly infected with HIV</td>\n",
       "      <td>SH.HIV.INCD.YG</td>\n",
       "    </tr>\n",
       "  </tbody>\n",
       "</table>\n",
       "<p>1488 rows × 2 columns</p>\n",
       "</div>"
      ],
      "text/plain": [
       "                                         Indicator Name     Indicator Code\n",
       "0     Access to clean fuels and technologies for coo...     EG.CFT.ACCS.ZS\n",
       "1     Access to clean fuels and technologies for coo...  EG.CFT.ACCS.RU.ZS\n",
       "2     Access to clean fuels and technologies for coo...  EG.CFT.ACCS.UR.ZS\n",
       "3               Access to electricity (% of population)     EG.ELC.ACCS.ZS\n",
       "4     Access to electricity, rural (% of rural popul...  EG.ELC.ACCS.RU.ZS\n",
       "...                                                 ...                ...\n",
       "1483  Women who believe a husband is justified in be...     SG.VAW.REFU.ZS\n",
       "1484  Women who were first married by age 15 (% of w...  SP.M15.2024.FE.ZS\n",
       "1485  Women who were first married by age 18 (% of w...  SP.M18.2024.FE.ZS\n",
       "1486  Women's share of population ages 15+ living wi...  SH.DYN.AIDS.FE.ZS\n",
       "1487  Young people (ages 15-24) newly infected with HIV     SH.HIV.INCD.YG\n",
       "\n",
       "[1488 rows x 2 columns]"
      ]
     },
     "execution_count": 44,
     "metadata": {},
     "output_type": "execute_result"
    }
   ],
   "source": [
    "# Delete duplicates\n",
    "wdi[['Indicator Name', 'Indicator Code']].drop_duplicates()"
   ]
  },
  {
   "cell_type": "code",
   "execution_count": 45,
   "metadata": {
    "ExecuteTime": {
     "end_time": "2024-10-17T15:17:44.367898Z",
     "start_time": "2024-10-17T15:17:44.282997Z"
    },
    "deletable": true,
    "editable": true,
    "execution": {
     "iopub.execute_input": "2024-10-17T20:28:17.452274Z",
     "iopub.status.busy": "2024-10-17T20:28:17.452274Z",
     "iopub.status.idle": "2024-10-17T20:28:17.528531Z",
     "shell.execute_reply": "2024-10-17T20:28:17.528531Z",
     "shell.execute_reply.started": "2024-10-17T20:28:17.452274Z"
    },
    "frozen": false
   },
   "outputs": [
    {
     "data": {
      "text/html": [
       "<div>\n",
       "<style scoped>\n",
       "    .dataframe tbody tr th:only-of-type {\n",
       "        vertical-align: middle;\n",
       "    }\n",
       "\n",
       "    .dataframe tbody tr th {\n",
       "        vertical-align: top;\n",
       "    }\n",
       "\n",
       "    .dataframe thead th {\n",
       "        text-align: right;\n",
       "    }\n",
       "</style>\n",
       "<table border=\"1\" class=\"dataframe\">\n",
       "  <thead>\n",
       "    <tr style=\"text-align: right;\">\n",
       "      <th></th>\n",
       "      <th>Indicator Name</th>\n",
       "      <th>Indicator Code</th>\n",
       "    </tr>\n",
       "  </thead>\n",
       "  <tbody>\n",
       "    <tr>\n",
       "      <th>0</th>\n",
       "      <td>Access to clean fuels and technologies for coo...</td>\n",
       "      <td>EG.CFT.ACCS.ZS</td>\n",
       "    </tr>\n",
       "    <tr>\n",
       "      <th>1</th>\n",
       "      <td>Access to clean fuels and technologies for coo...</td>\n",
       "      <td>EG.CFT.ACCS.RU.ZS</td>\n",
       "    </tr>\n",
       "    <tr>\n",
       "      <th>2</th>\n",
       "      <td>Access to clean fuels and technologies for coo...</td>\n",
       "      <td>EG.CFT.ACCS.UR.ZS</td>\n",
       "    </tr>\n",
       "    <tr>\n",
       "      <th>3</th>\n",
       "      <td>Access to electricity (% of population)</td>\n",
       "      <td>EG.ELC.ACCS.ZS</td>\n",
       "    </tr>\n",
       "    <tr>\n",
       "      <th>4</th>\n",
       "      <td>Access to electricity, rural (% of rural popul...</td>\n",
       "      <td>EG.ELC.ACCS.RU.ZS</td>\n",
       "    </tr>\n",
       "  </tbody>\n",
       "</table>\n",
       "</div>"
      ],
      "text/plain": [
       "                                      Indicator Name     Indicator Code\n",
       "0  Access to clean fuels and technologies for coo...     EG.CFT.ACCS.ZS\n",
       "1  Access to clean fuels and technologies for coo...  EG.CFT.ACCS.RU.ZS\n",
       "2  Access to clean fuels and technologies for coo...  EG.CFT.ACCS.UR.ZS\n",
       "3            Access to electricity (% of population)     EG.ELC.ACCS.ZS\n",
       "4  Access to electricity, rural (% of rural popul...  EG.ELC.ACCS.RU.ZS"
      ]
     },
     "execution_count": 45,
     "metadata": {},
     "output_type": "execute_result"
    }
   ],
   "source": [
    "# Print the top 5 values\n",
    "wdi[['Indicator Name', 'Indicator Code']].drop_duplicates().head()"
   ]
  },
  {
   "cell_type": "code",
   "execution_count": 46,
   "metadata": {
    "ExecuteTime": {
     "end_time": "2024-10-17T15:17:44.662735Z",
     "start_time": "2024-10-17T15:17:44.560632Z"
    },
    "deletable": true,
    "editable": true,
    "execution": {
     "iopub.execute_input": "2024-10-17T20:28:17.529540Z",
     "iopub.status.busy": "2024-10-17T20:28:17.529540Z",
     "iopub.status.idle": "2024-10-17T20:28:17.610480Z",
     "shell.execute_reply": "2024-10-17T20:28:17.610480Z",
     "shell.execute_reply.started": "2024-10-17T20:28:17.529540Z"
    },
    "frozen": false
   },
   "outputs": [
    {
     "data": {
      "text/html": [
       "<div>\n",
       "<style scoped>\n",
       "    .dataframe tbody tr th:only-of-type {\n",
       "        vertical-align: middle;\n",
       "    }\n",
       "\n",
       "    .dataframe tbody tr th {\n",
       "        vertical-align: top;\n",
       "    }\n",
       "\n",
       "    .dataframe thead th {\n",
       "        text-align: right;\n",
       "    }\n",
       "</style>\n",
       "<table border=\"1\" class=\"dataframe\">\n",
       "  <thead>\n",
       "    <tr style=\"text-align: right;\">\n",
       "      <th></th>\n",
       "      <th>Indicator Name</th>\n",
       "      <th>Indicator Code</th>\n",
       "    </tr>\n",
       "  </thead>\n",
       "  <tbody>\n",
       "    <tr>\n",
       "      <th>1483</th>\n",
       "      <td>Women who believe a husband is justified in be...</td>\n",
       "      <td>SG.VAW.REFU.ZS</td>\n",
       "    </tr>\n",
       "    <tr>\n",
       "      <th>1484</th>\n",
       "      <td>Women who were first married by age 15 (% of w...</td>\n",
       "      <td>SP.M15.2024.FE.ZS</td>\n",
       "    </tr>\n",
       "    <tr>\n",
       "      <th>1485</th>\n",
       "      <td>Women who were first married by age 18 (% of w...</td>\n",
       "      <td>SP.M18.2024.FE.ZS</td>\n",
       "    </tr>\n",
       "    <tr>\n",
       "      <th>1486</th>\n",
       "      <td>Women's share of population ages 15+ living wi...</td>\n",
       "      <td>SH.DYN.AIDS.FE.ZS</td>\n",
       "    </tr>\n",
       "    <tr>\n",
       "      <th>1487</th>\n",
       "      <td>Young people (ages 15-24) newly infected with HIV</td>\n",
       "      <td>SH.HIV.INCD.YG</td>\n",
       "    </tr>\n",
       "  </tbody>\n",
       "</table>\n",
       "</div>"
      ],
      "text/plain": [
       "                                         Indicator Name     Indicator Code\n",
       "1483  Women who believe a husband is justified in be...     SG.VAW.REFU.ZS\n",
       "1484  Women who were first married by age 15 (% of w...  SP.M15.2024.FE.ZS\n",
       "1485  Women who were first married by age 18 (% of w...  SP.M18.2024.FE.ZS\n",
       "1486  Women's share of population ages 15+ living wi...  SH.DYN.AIDS.FE.ZS\n",
       "1487  Young people (ages 15-24) newly infected with HIV     SH.HIV.INCD.YG"
      ]
     },
     "execution_count": 46,
     "metadata": {},
     "output_type": "execute_result"
    }
   ],
   "source": [
    "# Print the bottom 5 values\n",
    "wdi[['Indicator Name', 'Indicator Code']].drop_duplicates().tail()"
   ]
  },
  {
   "cell_type": "markdown",
   "metadata": {
    "deletable": true,
    "editable": true,
    "frozen": false
   },
   "source": [
    "**13.** Create a new DataFrame named **indicators** made up of the columns 'Indicator Name' and 'Indicator Code'. Then, delete all the duplicated entries. Finally, set the column 'Indicator Code' as the index of **indicators**. \n",
    "\n",
    "*Note: Try to perform all these steps in a single line of code.*"
   ]
  },
  {
   "cell_type": "code",
   "execution_count": 48,
   "metadata": {
    "ExecuteTime": {
     "end_time": "2024-10-17T15:17:44.945812Z",
     "start_time": "2024-10-17T15:17:44.851961Z"
    },
    "deletable": true,
    "editable": true,
    "execution": {
     "iopub.execute_input": "2024-10-17T20:28:17.626564Z",
     "iopub.status.busy": "2024-10-17T20:28:17.626564Z",
     "iopub.status.idle": "2024-10-17T20:28:17.712942Z",
     "shell.execute_reply": "2024-10-17T20:28:17.712942Z",
     "shell.execute_reply.started": "2024-10-17T20:28:17.626564Z"
    },
    "frozen": false
   },
   "outputs": [
    {
     "name": "stdout",
     "output_type": "stream",
     "text": [
      "Type of the variable \"indicators\": <class 'pandas.core.frame.DataFrame'> \n",
      "\n"
     ]
    },
    {
     "data": {
      "text/html": [
       "<div>\n",
       "<style scoped>\n",
       "    .dataframe tbody tr th:only-of-type {\n",
       "        vertical-align: middle;\n",
       "    }\n",
       "\n",
       "    .dataframe tbody tr th {\n",
       "        vertical-align: top;\n",
       "    }\n",
       "\n",
       "    .dataframe thead th {\n",
       "        text-align: right;\n",
       "    }\n",
       "</style>\n",
       "<table border=\"1\" class=\"dataframe\">\n",
       "  <thead>\n",
       "    <tr style=\"text-align: right;\">\n",
       "      <th></th>\n",
       "      <th>Indicator Name</th>\n",
       "    </tr>\n",
       "    <tr>\n",
       "      <th>Indicator Code</th>\n",
       "      <th></th>\n",
       "    </tr>\n",
       "  </thead>\n",
       "  <tbody>\n",
       "    <tr>\n",
       "      <th>EG.CFT.ACCS.ZS</th>\n",
       "      <td>Access to clean fuels and technologies for coo...</td>\n",
       "    </tr>\n",
       "    <tr>\n",
       "      <th>EG.CFT.ACCS.RU.ZS</th>\n",
       "      <td>Access to clean fuels and technologies for coo...</td>\n",
       "    </tr>\n",
       "    <tr>\n",
       "      <th>EG.CFT.ACCS.UR.ZS</th>\n",
       "      <td>Access to clean fuels and technologies for coo...</td>\n",
       "    </tr>\n",
       "    <tr>\n",
       "      <th>EG.ELC.ACCS.ZS</th>\n",
       "      <td>Access to electricity (% of population)</td>\n",
       "    </tr>\n",
       "    <tr>\n",
       "      <th>EG.ELC.ACCS.RU.ZS</th>\n",
       "      <td>Access to electricity, rural (% of rural popul...</td>\n",
       "    </tr>\n",
       "  </tbody>\n",
       "</table>\n",
       "</div>"
      ],
      "text/plain": [
       "                                                      Indicator Name\n",
       "Indicator Code                                                      \n",
       "EG.CFT.ACCS.ZS     Access to clean fuels and technologies for coo...\n",
       "EG.CFT.ACCS.RU.ZS  Access to clean fuels and technologies for coo...\n",
       "EG.CFT.ACCS.UR.ZS  Access to clean fuels and technologies for coo...\n",
       "EG.ELC.ACCS.ZS               Access to electricity (% of population)\n",
       "EG.ELC.ACCS.RU.ZS  Access to electricity, rural (% of rural popul..."
      ]
     },
     "execution_count": 48,
     "metadata": {},
     "output_type": "execute_result"
    }
   ],
   "source": [
    "# Create the DataFrame 'indicators' + Delete duplicates + Set the index to 'Indicator Code'\n",
    "indicators = wdi[['Indicator Name', 'Indicator Code']].drop_duplicates().set_index('Indicator Code')\n",
    "\n",
    "# We are checking the type of the variable indicators and confirming that it is a DataFrame\n",
    "print('Type of the variable \"indicators\":', type(indicators), '\\n')\n",
    "\n",
    "# Check 5 first rows\n",
    "indicators.head()"
   ]
  },
  {
   "cell_type": "markdown",
   "metadata": {
    "deletable": true,
    "editable": true,
    "frozen": false
   },
   "source": [
    "**The 'indicators' DataFrame can operate now as a dictionary. <br/>**\n",
    "By passing an 'Indicator Code' (key) it returns the associated 'Indicator Name' (value).<br/>\n",
    "\n",
    "**14.** Using the **indicators** DataFrame, find the 'Indicator Code' associated with the following observables:\n",
    "1. 'Population', find the 'Indicator Code' of the total population in a country;\n",
    "2. 'GDP', find the GDP measured in current US Dollars;\n",
    "3. 'GINI index'\n",
    "\n",
    "*Hint: You can use the method STRING.str.contains('substring') to check whether a string contains a substring.*"
   ]
  },
  {
   "cell_type": "code",
   "execution_count": 50,
   "metadata": {
    "ExecuteTime": {
     "end_time": "2024-10-17T15:17:45.157023Z",
     "start_time": "2024-10-17T15:17:45.146945Z"
    },
    "deletable": true,
    "editable": true,
    "execution": {
     "iopub.execute_input": "2024-10-17T20:28:17.736097Z",
     "iopub.status.busy": "2024-10-17T20:28:17.735098Z",
     "iopub.status.idle": "2024-10-17T20:28:17.745036Z",
     "shell.execute_reply": "2024-10-17T20:28:17.745036Z",
     "shell.execute_reply.started": "2024-10-17T20:28:17.736097Z"
    },
    "frozen": false
   },
   "outputs": [
    {
     "data": {
      "text/html": [
       "<div>\n",
       "<style scoped>\n",
       "    .dataframe tbody tr th:only-of-type {\n",
       "        vertical-align: middle;\n",
       "    }\n",
       "\n",
       "    .dataframe tbody tr th {\n",
       "        vertical-align: top;\n",
       "    }\n",
       "\n",
       "    .dataframe thead th {\n",
       "        text-align: right;\n",
       "    }\n",
       "</style>\n",
       "<table border=\"1\" class=\"dataframe\">\n",
       "  <thead>\n",
       "    <tr style=\"text-align: right;\">\n",
       "      <th></th>\n",
       "      <th>Indicator Name</th>\n",
       "    </tr>\n",
       "    <tr>\n",
       "      <th>Indicator Code</th>\n",
       "      <th></th>\n",
       "    </tr>\n",
       "  </thead>\n",
       "  <tbody>\n",
       "    <tr>\n",
       "      <th>SP.POP.TOTL</th>\n",
       "      <td>Population, total</td>\n",
       "    </tr>\n",
       "  </tbody>\n",
       "</table>\n",
       "</div>"
      ],
      "text/plain": [
       "                   Indicator Name\n",
       "Indicator Code                   \n",
       "SP.POP.TOTL     Population, total"
      ]
     },
     "execution_count": 50,
     "metadata": {},
     "output_type": "execute_result"
    }
   ],
   "source": [
    "# Find the 'Indicator Code' of the total population in a country\n",
    "indicators[indicators['Indicator Name'].str.contains('Population, total', \n",
    "                                                     case = False)] # case = False to ignore the case of the string (upper or lower)"
   ]
  },
  {
   "cell_type": "markdown",
   "metadata": {
    "deletable": true,
    "editable": true,
    "frozen": false
   },
   "source": [
    "> The **`Indicator Code`** for the total population in a country is **'SP.POP.TOTL'**.<br/>"
   ]
  },
  {
   "cell_type": "code",
   "execution_count": 52,
   "metadata": {
    "ExecuteTime": {
     "end_time": "2024-10-17T15:17:45.390337Z",
     "start_time": "2024-10-17T15:17:45.382586Z"
    },
    "deletable": true,
    "editable": true,
    "execution": {
     "iopub.execute_input": "2024-10-17T20:28:17.762089Z",
     "iopub.status.busy": "2024-10-17T20:28:17.761089Z",
     "iopub.status.idle": "2024-10-17T20:28:17.769610Z",
     "shell.execute_reply": "2024-10-17T20:28:17.769610Z",
     "shell.execute_reply.started": "2024-10-17T20:28:17.762089Z"
    },
    "frozen": false
   },
   "outputs": [
    {
     "data": {
      "text/html": [
       "<div>\n",
       "<style scoped>\n",
       "    .dataframe tbody tr th:only-of-type {\n",
       "        vertical-align: middle;\n",
       "    }\n",
       "\n",
       "    .dataframe tbody tr th {\n",
       "        vertical-align: top;\n",
       "    }\n",
       "\n",
       "    .dataframe thead th {\n",
       "        text-align: right;\n",
       "    }\n",
       "</style>\n",
       "<table border=\"1\" class=\"dataframe\">\n",
       "  <thead>\n",
       "    <tr style=\"text-align: right;\">\n",
       "      <th></th>\n",
       "      <th>Indicator Name</th>\n",
       "    </tr>\n",
       "    <tr>\n",
       "      <th>Indicator Code</th>\n",
       "      <th></th>\n",
       "    </tr>\n",
       "  </thead>\n",
       "  <tbody>\n",
       "    <tr>\n",
       "      <th>NY.GDP.MKTP.CD</th>\n",
       "      <td>GDP (current US$)</td>\n",
       "    </tr>\n",
       "  </tbody>\n",
       "</table>\n",
       "</div>"
      ],
      "text/plain": [
       "                   Indicator Name\n",
       "Indicator Code                   \n",
       "NY.GDP.MKTP.CD  GDP (current US$)"
      ]
     },
     "execution_count": 52,
     "metadata": {},
     "output_type": "execute_result"
    }
   ],
   "source": [
    "# Find the 'Indicator Code' of the GDP measured in current US Dollars\n",
    "indicators[indicators['Indicator Name'].str.contains(\"GDP \\\\(current US\\\\$\\\\)\", case = False)] # The character '\\\\' is used to escape the special character '(', '$' and ')'"
   ]
  },
  {
   "cell_type": "markdown",
   "metadata": {
    "deletable": true,
    "editable": true,
    "frozen": false
   },
   "source": [
    "> The **`Indicator Code`** for the GDP measured in current US Dollars is **'NY.GDP.MKTP.CD'**.<br/>"
   ]
  },
  {
   "cell_type": "code",
   "execution_count": 54,
   "metadata": {
    "ExecuteTime": {
     "end_time": "2024-10-17T15:17:45.593755Z",
     "start_time": "2024-10-17T15:17:45.586755Z"
    },
    "deletable": true,
    "editable": true,
    "execution": {
     "iopub.execute_input": "2024-10-17T20:28:17.786021Z",
     "iopub.status.busy": "2024-10-17T20:28:17.785021Z",
     "iopub.status.idle": "2024-10-17T20:28:17.793092Z",
     "shell.execute_reply": "2024-10-17T20:28:17.793092Z",
     "shell.execute_reply.started": "2024-10-17T20:28:17.786021Z"
    },
    "frozen": false
   },
   "outputs": [
    {
     "data": {
      "text/html": [
       "<div>\n",
       "<style scoped>\n",
       "    .dataframe tbody tr th:only-of-type {\n",
       "        vertical-align: middle;\n",
       "    }\n",
       "\n",
       "    .dataframe tbody tr th {\n",
       "        vertical-align: top;\n",
       "    }\n",
       "\n",
       "    .dataframe thead th {\n",
       "        text-align: right;\n",
       "    }\n",
       "</style>\n",
       "<table border=\"1\" class=\"dataframe\">\n",
       "  <thead>\n",
       "    <tr style=\"text-align: right;\">\n",
       "      <th></th>\n",
       "      <th>Indicator Name</th>\n",
       "    </tr>\n",
       "    <tr>\n",
       "      <th>Indicator Code</th>\n",
       "      <th></th>\n",
       "    </tr>\n",
       "  </thead>\n",
       "  <tbody>\n",
       "    <tr>\n",
       "      <th>SI.POV.GINI</th>\n",
       "      <td>Gini index</td>\n",
       "    </tr>\n",
       "  </tbody>\n",
       "</table>\n",
       "</div>"
      ],
      "text/plain": [
       "               Indicator Name\n",
       "Indicator Code               \n",
       "SI.POV.GINI        Gini index"
      ]
     },
     "execution_count": 54,
     "metadata": {},
     "output_type": "execute_result"
    }
   ],
   "source": [
    "# Find the 'Indicator Code' of the GINI index\n",
    "indicators[indicators['Indicator Name'].str.contains(\"GINI\", case = False)]"
   ]
  },
  {
   "cell_type": "markdown",
   "metadata": {
    "deletable": true,
    "editable": true,
    "frozen": false
   },
   "source": [
    "> The **`Indicator Code`** for the GINI index is **'SI.POV.GINI'**.<br/>"
   ]
  },
  {
   "cell_type": "markdown",
   "metadata": {
    "deletable": true,
    "editable": true,
    "frozen": false
   },
   "source": [
    "## Extracting and Cleaning Data from WDI and PWT\n",
    "\n",
    "**15.** From **wdi** extract the columns 'Indicator Code', 'Country Code', and '2012'.\n",
    "Save the output in variable **wdi_sample**.\n",
    "\n",
    "*Note: You should be able to perfom all operations in a single line of code. <br/>*"
   ]
  },
  {
   "cell_type": "code",
   "execution_count": 57,
   "metadata": {
    "ExecuteTime": {
     "end_time": "2024-10-17T15:17:45.833923Z",
     "start_time": "2024-10-17T15:17:45.817006Z"
    },
    "deletable": true,
    "editable": true,
    "execution": {
     "iopub.execute_input": "2024-10-17T20:28:17.821978Z",
     "iopub.status.busy": "2024-10-17T20:28:17.821978Z",
     "iopub.status.idle": "2024-10-17T20:28:17.839615Z",
     "shell.execute_reply": "2024-10-17T20:28:17.839615Z",
     "shell.execute_reply.started": "2024-10-17T20:28:17.821978Z"
    },
    "frozen": false
   },
   "outputs": [
    {
     "data": {
      "text/html": [
       "<div>\n",
       "<style scoped>\n",
       "    .dataframe tbody tr th:only-of-type {\n",
       "        vertical-align: middle;\n",
       "    }\n",
       "\n",
       "    .dataframe tbody tr th {\n",
       "        vertical-align: top;\n",
       "    }\n",
       "\n",
       "    .dataframe thead th {\n",
       "        text-align: right;\n",
       "    }\n",
       "</style>\n",
       "<table border=\"1\" class=\"dataframe\">\n",
       "  <thead>\n",
       "    <tr style=\"text-align: right;\">\n",
       "      <th></th>\n",
       "      <th>Indicator Code</th>\n",
       "      <th>Country Code</th>\n",
       "      <th>2012</th>\n",
       "    </tr>\n",
       "  </thead>\n",
       "  <tbody>\n",
       "    <tr>\n",
       "      <th>0</th>\n",
       "      <td>EG.CFT.ACCS.ZS</td>\n",
       "      <td>AFG</td>\n",
       "      <td>22.9</td>\n",
       "    </tr>\n",
       "    <tr>\n",
       "      <th>1</th>\n",
       "      <td>EG.CFT.ACCS.RU.ZS</td>\n",
       "      <td>AFG</td>\n",
       "      <td>8.0</td>\n",
       "    </tr>\n",
       "    <tr>\n",
       "      <th>2</th>\n",
       "      <td>EG.CFT.ACCS.UR.ZS</td>\n",
       "      <td>AFG</td>\n",
       "      <td>74.3</td>\n",
       "    </tr>\n",
       "    <tr>\n",
       "      <th>3</th>\n",
       "      <td>EG.ELC.ACCS.ZS</td>\n",
       "      <td>AFG</td>\n",
       "      <td>69.1</td>\n",
       "    </tr>\n",
       "    <tr>\n",
       "      <th>4</th>\n",
       "      <td>EG.ELC.ACCS.RU.ZS</td>\n",
       "      <td>AFG</td>\n",
       "      <td>60.8</td>\n",
       "    </tr>\n",
       "  </tbody>\n",
       "</table>\n",
       "</div>"
      ],
      "text/plain": [
       "      Indicator Code Country Code  2012\n",
       "0     EG.CFT.ACCS.ZS          AFG  22.9\n",
       "1  EG.CFT.ACCS.RU.ZS          AFG   8.0\n",
       "2  EG.CFT.ACCS.UR.ZS          AFG  74.3\n",
       "3     EG.ELC.ACCS.ZS          AFG  69.1\n",
       "4  EG.ELC.ACCS.RU.ZS          AFG  60.8"
      ]
     },
     "execution_count": 57,
     "metadata": {},
     "output_type": "execute_result"
    }
   ],
   "source": [
    "# Extract the columns 'Indicator Code', 'Country Code', and '2012'\n",
    "wdi_sample = wdi[['Indicator Code', 'Country Code', '2012']].copy()\n",
    "\n",
    "# Check 5 first rows\n",
    "wdi_sample.head()"
   ]
  },
  {
   "cell_type": "markdown",
   "metadata": {
    "deletable": true,
    "editable": true,
    "frozen": false
   },
   "source": [
    "**16.** Select from **wdi_sample** the lines associated with the Indicator Codes that you found in question 14., which concern the data of the 'Population total','GDP', and 'GINI index'."
   ]
  },
  {
   "cell_type": "code",
   "execution_count": 59,
   "metadata": {
    "ExecuteTime": {
     "end_time": "2024-10-17T15:17:46.062234Z",
     "start_time": "2024-10-17T15:17:46.041908Z"
    },
    "deletable": true,
    "editable": true,
    "execution": {
     "iopub.execute_input": "2024-10-17T20:28:17.855371Z",
     "iopub.status.busy": "2024-10-17T20:28:17.855371Z",
     "iopub.status.idle": "2024-10-17T20:28:17.875675Z",
     "shell.execute_reply": "2024-10-17T20:28:17.875675Z",
     "shell.execute_reply.started": "2024-10-17T20:28:17.855371Z"
    },
    "frozen": false
   },
   "outputs": [
    {
     "data": {
      "text/html": [
       "<div>\n",
       "<style scoped>\n",
       "    .dataframe tbody tr th:only-of-type {\n",
       "        vertical-align: middle;\n",
       "    }\n",
       "\n",
       "    .dataframe tbody tr th {\n",
       "        vertical-align: top;\n",
       "    }\n",
       "\n",
       "    .dataframe thead th {\n",
       "        text-align: right;\n",
       "    }\n",
       "</style>\n",
       "<table border=\"1\" class=\"dataframe\">\n",
       "  <thead>\n",
       "    <tr style=\"text-align: right;\">\n",
       "      <th></th>\n",
       "      <th>Indicator Code</th>\n",
       "      <th>Country Code</th>\n",
       "      <th>2012</th>\n",
       "    </tr>\n",
       "  </thead>\n",
       "  <tbody>\n",
       "    <tr>\n",
       "      <th>473</th>\n",
       "      <td>NY.GDP.MKTP.CD</td>\n",
       "      <td>AFG</td>\n",
       "      <td>1.990733e+10</td>\n",
       "    </tr>\n",
       "    <tr>\n",
       "      <th>497</th>\n",
       "      <td>SI.POV.GINI</td>\n",
       "      <td>AFG</td>\n",
       "      <td>NaN</td>\n",
       "    </tr>\n",
       "    <tr>\n",
       "      <th>1080</th>\n",
       "      <td>SP.POP.TOTL</td>\n",
       "      <td>AFG</td>\n",
       "      <td>3.046648e+07</td>\n",
       "    </tr>\n",
       "    <tr>\n",
       "      <th>1961</th>\n",
       "      <td>NY.GDP.MKTP.CD</td>\n",
       "      <td>ALB</td>\n",
       "      <td>1.231983e+10</td>\n",
       "    </tr>\n",
       "    <tr>\n",
       "      <th>1985</th>\n",
       "      <td>SI.POV.GINI</td>\n",
       "      <td>ALB</td>\n",
       "      <td>2.900000e+01</td>\n",
       "    </tr>\n",
       "    <tr>\n",
       "      <th>...</th>\n",
       "      <td>...</td>\n",
       "      <td>...</td>\n",
       "      <td>...</td>\n",
       "    </tr>\n",
       "    <tr>\n",
       "      <th>320417</th>\n",
       "      <td>SI.POV.GINI</td>\n",
       "      <td>ZMB</td>\n",
       "      <td>NaN</td>\n",
       "    </tr>\n",
       "    <tr>\n",
       "      <th>321000</th>\n",
       "      <td>SP.POP.TOTL</td>\n",
       "      <td>ZMB</td>\n",
       "      <td>1.474466e+07</td>\n",
       "    </tr>\n",
       "    <tr>\n",
       "      <th>321881</th>\n",
       "      <td>NY.GDP.MKTP.CD</td>\n",
       "      <td>ZWE</td>\n",
       "      <td>1.711485e+10</td>\n",
       "    </tr>\n",
       "    <tr>\n",
       "      <th>321905</th>\n",
       "      <td>SI.POV.GINI</td>\n",
       "      <td>ZWE</td>\n",
       "      <td>NaN</td>\n",
       "    </tr>\n",
       "    <tr>\n",
       "      <th>322488</th>\n",
       "      <td>SP.POP.TOTL</td>\n",
       "      <td>ZWE</td>\n",
       "      <td>1.326533e+07</td>\n",
       "    </tr>\n",
       "  </tbody>\n",
       "</table>\n",
       "<p>651 rows × 3 columns</p>\n",
       "</div>"
      ],
      "text/plain": [
       "        Indicator Code Country Code          2012\n",
       "473     NY.GDP.MKTP.CD          AFG  1.990733e+10\n",
       "497        SI.POV.GINI          AFG           NaN\n",
       "1080       SP.POP.TOTL          AFG  3.046648e+07\n",
       "1961    NY.GDP.MKTP.CD          ALB  1.231983e+10\n",
       "1985       SI.POV.GINI          ALB  2.900000e+01\n",
       "...                ...          ...           ...\n",
       "320417     SI.POV.GINI          ZMB           NaN\n",
       "321000     SP.POP.TOTL          ZMB  1.474466e+07\n",
       "321881  NY.GDP.MKTP.CD          ZWE  1.711485e+10\n",
       "321905     SI.POV.GINI          ZWE           NaN\n",
       "322488     SP.POP.TOTL          ZWE  1.326533e+07\n",
       "\n",
       "[651 rows x 3 columns]"
      ]
     },
     "execution_count": 59,
     "metadata": {},
     "output_type": "execute_result"
    }
   ],
   "source": [
    "# Select the lines associated with the Indicator Codes\n",
    "wdi_sample = wdi_sample[wdi_sample['Indicator Code'].isin(['SP.POP.TOTL', 'NY.GDP.MKTP.CD', 'SI.POV.GINI'])]\n",
    "wdi_sample"
   ]
  },
  {
   "cell_type": "markdown",
   "metadata": {
    "deletable": true,
    "editable": true,
    "frozen": false
   },
   "source": [
    "**17.** Create a pivot table, in which the **values** are column '2012', the **index** is 'Country Code', and the **columns** are the Indicator Codes. <br/>\n",
    "\n",
    "*Hint: Pandas has a very useful method to create pivot tables.*"
   ]
  },
  {
   "cell_type": "code",
   "execution_count": 61,
   "metadata": {
    "ExecuteTime": {
     "end_time": "2024-10-17T15:17:46.305763Z",
     "start_time": "2024-10-17T15:17:46.292254Z"
    },
    "deletable": true,
    "editable": true,
    "execution": {
     "iopub.execute_input": "2024-10-17T20:28:17.891634Z",
     "iopub.status.busy": "2024-10-17T20:28:17.891634Z",
     "iopub.status.idle": "2024-10-17T20:28:17.906333Z",
     "shell.execute_reply": "2024-10-17T20:28:17.906333Z",
     "shell.execute_reply.started": "2024-10-17T20:28:17.891634Z"
    },
    "frozen": false
   },
   "outputs": [
    {
     "data": {
      "text/html": [
       "<div>\n",
       "<style scoped>\n",
       "    .dataframe tbody tr th:only-of-type {\n",
       "        vertical-align: middle;\n",
       "    }\n",
       "\n",
       "    .dataframe tbody tr th {\n",
       "        vertical-align: top;\n",
       "    }\n",
       "\n",
       "    .dataframe thead th {\n",
       "        text-align: right;\n",
       "    }\n",
       "</style>\n",
       "<table border=\"1\" class=\"dataframe\">\n",
       "  <thead>\n",
       "    <tr style=\"text-align: right;\">\n",
       "      <th>Indicator Code</th>\n",
       "      <th>NY.GDP.MKTP.CD</th>\n",
       "      <th>SI.POV.GINI</th>\n",
       "      <th>SP.POP.TOTL</th>\n",
       "    </tr>\n",
       "    <tr>\n",
       "      <th>Country Code</th>\n",
       "      <th></th>\n",
       "      <th></th>\n",
       "      <th></th>\n",
       "    </tr>\n",
       "  </thead>\n",
       "  <tbody>\n",
       "    <tr>\n",
       "      <th>ABW</th>\n",
       "      <td>2.615208e+09</td>\n",
       "      <td>NaN</td>\n",
       "      <td>102112.0</td>\n",
       "    </tr>\n",
       "    <tr>\n",
       "      <th>AFG</th>\n",
       "      <td>1.990733e+10</td>\n",
       "      <td>NaN</td>\n",
       "      <td>30466479.0</td>\n",
       "    </tr>\n",
       "    <tr>\n",
       "      <th>AGO</th>\n",
       "      <td>1.280529e+11</td>\n",
       "      <td>NaN</td>\n",
       "      <td>25188292.0</td>\n",
       "    </tr>\n",
       "    <tr>\n",
       "      <th>ALB</th>\n",
       "      <td>1.231983e+10</td>\n",
       "      <td>29.0</td>\n",
       "      <td>2900401.0</td>\n",
       "    </tr>\n",
       "    <tr>\n",
       "      <th>AND</th>\n",
       "      <td>3.188653e+09</td>\n",
       "      <td>NaN</td>\n",
       "      <td>71013.0</td>\n",
       "    </tr>\n",
       "    <tr>\n",
       "      <th>...</th>\n",
       "      <td>...</td>\n",
       "      <td>...</td>\n",
       "      <td>...</td>\n",
       "    </tr>\n",
       "    <tr>\n",
       "      <th>XKX</th>\n",
       "      <td>6.163484e+09</td>\n",
       "      <td>29.0</td>\n",
       "      <td>1807106.0</td>\n",
       "    </tr>\n",
       "    <tr>\n",
       "      <th>YEM</th>\n",
       "      <td>3.540133e+10</td>\n",
       "      <td>NaN</td>\n",
       "      <td>26223391.0</td>\n",
       "    </tr>\n",
       "    <tr>\n",
       "      <th>ZAF</th>\n",
       "      <td>4.344005e+11</td>\n",
       "      <td>NaN</td>\n",
       "      <td>53145033.0</td>\n",
       "    </tr>\n",
       "    <tr>\n",
       "      <th>ZMB</th>\n",
       "      <td>2.550306e+10</td>\n",
       "      <td>NaN</td>\n",
       "      <td>14744658.0</td>\n",
       "    </tr>\n",
       "    <tr>\n",
       "      <th>ZWE</th>\n",
       "      <td>1.711485e+10</td>\n",
       "      <td>NaN</td>\n",
       "      <td>13265331.0</td>\n",
       "    </tr>\n",
       "  </tbody>\n",
       "</table>\n",
       "<p>217 rows × 3 columns</p>\n",
       "</div>"
      ],
      "text/plain": [
       "Indicator Code  NY.GDP.MKTP.CD  SI.POV.GINI  SP.POP.TOTL\n",
       "Country Code                                            \n",
       "ABW               2.615208e+09          NaN     102112.0\n",
       "AFG               1.990733e+10          NaN   30466479.0\n",
       "AGO               1.280529e+11          NaN   25188292.0\n",
       "ALB               1.231983e+10         29.0    2900401.0\n",
       "AND               3.188653e+09          NaN      71013.0\n",
       "...                        ...          ...          ...\n",
       "XKX               6.163484e+09         29.0    1807106.0\n",
       "YEM               3.540133e+10          NaN   26223391.0\n",
       "ZAF               4.344005e+11          NaN   53145033.0\n",
       "ZMB               2.550306e+10          NaN   14744658.0\n",
       "ZWE               1.711485e+10          NaN   13265331.0\n",
       "\n",
       "[217 rows x 3 columns]"
      ]
     },
     "execution_count": 61,
     "metadata": {},
     "output_type": "execute_result"
    }
   ],
   "source": [
    "# Create the pivot table\n",
    "wdi_sample = wdi_sample.pivot(index = 'Country Code', \n",
    "                              columns = 'Indicator Code',\n",
    "                              values = '2012')\n",
    "wdi_sample"
   ]
  },
  {
   "cell_type": "markdown",
   "metadata": {
    "deletable": true,
    "editable": true,
    "frozen": false
   },
   "source": [
    "**18.** Rename the column names of **wdi_sample** to 'Population', 'GDP', and 'GINI', accordingly."
   ]
  },
  {
   "cell_type": "code",
   "execution_count": 63,
   "metadata": {
    "ExecuteTime": {
     "end_time": "2024-10-17T15:17:46.509417Z",
     "start_time": "2024-10-17T15:17:46.502019Z"
    },
    "deletable": true,
    "editable": true,
    "execution": {
     "iopub.execute_input": "2024-10-17T20:28:17.923755Z",
     "iopub.status.busy": "2024-10-17T20:28:17.922753Z",
     "iopub.status.idle": "2024-10-17T20:28:17.931501Z",
     "shell.execute_reply": "2024-10-17T20:28:17.931501Z",
     "shell.execute_reply.started": "2024-10-17T20:28:17.923755Z"
    },
    "frozen": false
   },
   "outputs": [
    {
     "data": {
      "text/html": [
       "<div>\n",
       "<style scoped>\n",
       "    .dataframe tbody tr th:only-of-type {\n",
       "        vertical-align: middle;\n",
       "    }\n",
       "\n",
       "    .dataframe tbody tr th {\n",
       "        vertical-align: top;\n",
       "    }\n",
       "\n",
       "    .dataframe thead th {\n",
       "        text-align: right;\n",
       "    }\n",
       "</style>\n",
       "<table border=\"1\" class=\"dataframe\">\n",
       "  <thead>\n",
       "    <tr style=\"text-align: right;\">\n",
       "      <th>Indicator Code</th>\n",
       "      <th>GDP</th>\n",
       "      <th>GINI</th>\n",
       "      <th>Population</th>\n",
       "    </tr>\n",
       "    <tr>\n",
       "      <th>Country Code</th>\n",
       "      <th></th>\n",
       "      <th></th>\n",
       "      <th></th>\n",
       "    </tr>\n",
       "  </thead>\n",
       "  <tbody>\n",
       "    <tr>\n",
       "      <th>ABW</th>\n",
       "      <td>2.615208e+09</td>\n",
       "      <td>NaN</td>\n",
       "      <td>102112.0</td>\n",
       "    </tr>\n",
       "    <tr>\n",
       "      <th>AFG</th>\n",
       "      <td>1.990733e+10</td>\n",
       "      <td>NaN</td>\n",
       "      <td>30466479.0</td>\n",
       "    </tr>\n",
       "    <tr>\n",
       "      <th>AGO</th>\n",
       "      <td>1.280529e+11</td>\n",
       "      <td>NaN</td>\n",
       "      <td>25188292.0</td>\n",
       "    </tr>\n",
       "    <tr>\n",
       "      <th>ALB</th>\n",
       "      <td>1.231983e+10</td>\n",
       "      <td>29.0</td>\n",
       "      <td>2900401.0</td>\n",
       "    </tr>\n",
       "    <tr>\n",
       "      <th>AND</th>\n",
       "      <td>3.188653e+09</td>\n",
       "      <td>NaN</td>\n",
       "      <td>71013.0</td>\n",
       "    </tr>\n",
       "  </tbody>\n",
       "</table>\n",
       "</div>"
      ],
      "text/plain": [
       "Indicator Code           GDP  GINI  Population\n",
       "Country Code                                  \n",
       "ABW             2.615208e+09   NaN    102112.0\n",
       "AFG             1.990733e+10   NaN  30466479.0\n",
       "AGO             1.280529e+11   NaN  25188292.0\n",
       "ALB             1.231983e+10  29.0   2900401.0\n",
       "AND             3.188653e+09   NaN     71013.0"
      ]
     },
     "execution_count": 63,
     "metadata": {},
     "output_type": "execute_result"
    }
   ],
   "source": [
    "# Rename the columns\n",
    "wdi_sample.rename(columns = {'SP.POP.TOTL': 'Population',\n",
    "                             'NY.GDP.MKTP.CD': 'GDP',\n",
    "                             'SI.POV.GINI': 'GINI'}, \n",
    "                    inplace = True)\n",
    "\n",
    "# Or simply use the method .columns to rename the columns -> wdi_sample.columns = ['Population', 'GDP', 'GINI']\n",
    "\n",
    "# Check 5 first rows\n",
    "wdi_sample.head()"
   ]
  },
  {
   "cell_type": "markdown",
   "metadata": {
    "deletable": true,
    "editable": true,
    "frozen": false
   },
   "source": [
    "**19.** From **pwt** select only the values of the year 2012. <br/>\n",
    "Then, extract the columns 'countrycode' and 'hc' into a new variable **pwt_sample**. <br/>\n",
    "Rename 'countrycode' to 'Country Code', so that it matches the same column in **wdi_sample**<br/>\n",
    "\n",
    "*Note: in this case 'hc' stands for the Human Capital Index.<br/>*"
   ]
  },
  {
   "cell_type": "code",
   "execution_count": 65,
   "metadata": {
    "ExecuteTime": {
     "end_time": "2024-10-17T15:17:46.849339Z",
     "start_time": "2024-10-17T15:17:46.839538Z"
    },
    "deletable": true,
    "editable": true,
    "execution": {
     "iopub.execute_input": "2024-10-17T20:28:17.948264Z",
     "iopub.status.busy": "2024-10-17T20:28:17.948264Z",
     "iopub.status.idle": "2024-10-17T20:28:17.956538Z",
     "shell.execute_reply": "2024-10-17T20:28:17.956538Z",
     "shell.execute_reply.started": "2024-10-17T20:28:17.948264Z"
    },
    "frozen": false
   },
   "outputs": [
    {
     "data": {
      "text/html": [
       "<div>\n",
       "<style scoped>\n",
       "    .dataframe tbody tr th:only-of-type {\n",
       "        vertical-align: middle;\n",
       "    }\n",
       "\n",
       "    .dataframe tbody tr th {\n",
       "        vertical-align: top;\n",
       "    }\n",
       "\n",
       "    .dataframe thead th {\n",
       "        text-align: right;\n",
       "    }\n",
       "</style>\n",
       "<table border=\"1\" class=\"dataframe\">\n",
       "  <thead>\n",
       "    <tr style=\"text-align: right;\">\n",
       "      <th></th>\n",
       "      <th>Country Code</th>\n",
       "      <th>hc</th>\n",
       "    </tr>\n",
       "  </thead>\n",
       "  <tbody>\n",
       "    <tr>\n",
       "      <th>62</th>\n",
       "      <td>ABW</td>\n",
       "      <td>NaN</td>\n",
       "    </tr>\n",
       "    <tr>\n",
       "      <th>127</th>\n",
       "      <td>AGO</td>\n",
       "      <td>1.431295</td>\n",
       "    </tr>\n",
       "    <tr>\n",
       "      <th>192</th>\n",
       "      <td>AIA</td>\n",
       "      <td>NaN</td>\n",
       "    </tr>\n",
       "    <tr>\n",
       "      <th>257</th>\n",
       "      <td>ALB</td>\n",
       "      <td>2.917346</td>\n",
       "    </tr>\n",
       "    <tr>\n",
       "      <th>322</th>\n",
       "      <td>ARE</td>\n",
       "      <td>2.723864</td>\n",
       "    </tr>\n",
       "    <tr>\n",
       "      <th>...</th>\n",
       "      <td>...</td>\n",
       "      <td>...</td>\n",
       "    </tr>\n",
       "    <tr>\n",
       "      <th>11567</th>\n",
       "      <td>VNM</td>\n",
       "      <td>2.532614</td>\n",
       "    </tr>\n",
       "    <tr>\n",
       "      <th>11632</th>\n",
       "      <td>YEM</td>\n",
       "      <td>1.488720</td>\n",
       "    </tr>\n",
       "    <tr>\n",
       "      <th>11697</th>\n",
       "      <td>ZAF</td>\n",
       "      <td>2.596012</td>\n",
       "    </tr>\n",
       "    <tr>\n",
       "      <th>11762</th>\n",
       "      <td>ZMB</td>\n",
       "      <td>2.330032</td>\n",
       "    </tr>\n",
       "    <tr>\n",
       "      <th>11827</th>\n",
       "      <td>ZWE</td>\n",
       "      <td>2.459828</td>\n",
       "    </tr>\n",
       "  </tbody>\n",
       "</table>\n",
       "<p>182 rows × 2 columns</p>\n",
       "</div>"
      ],
      "text/plain": [
       "      Country Code        hc\n",
       "62             ABW       NaN\n",
       "127            AGO  1.431295\n",
       "192            AIA       NaN\n",
       "257            ALB  2.917346\n",
       "322            ARE  2.723864\n",
       "...            ...       ...\n",
       "11567          VNM  2.532614\n",
       "11632          YEM  1.488720\n",
       "11697          ZAF  2.596012\n",
       "11762          ZMB  2.330032\n",
       "11827          ZWE  2.459828\n",
       "\n",
       "[182 rows x 2 columns]"
      ]
     },
     "execution_count": 65,
     "metadata": {},
     "output_type": "execute_result"
    }
   ],
   "source": [
    "# Select the values of the year 2012 from 'pwt' + Extract the columns 'countrycode' and 'hc'\n",
    "pwt_sample = pwt[pwt['year'] == 2012][['countrycode', 'hc']].copy()\n",
    "\n",
    "# Rename the column 'countrycode' to 'Country Code'\n",
    "pwt_sample.rename(columns = {'countrycode': 'Country Code'}, inplace = True)\n",
    "pwt_sample"
   ]
  },
  {
   "cell_type": "markdown",
   "metadata": {
    "deletable": true,
    "editable": true,
    "frozen": false
   },
   "source": [
    "**20.** Finally, create a new dataframe named **data** that contains the columns from **wdi_sample** and **pwt_sample**, matched by 'Country Code'. \n",
    "\n",
    "*Hint: Use the method concat(), and make sure both dataframes have the same index ('Country Code').*"
   ]
  },
  {
   "cell_type": "code",
   "execution_count": 67,
   "metadata": {
    "ExecuteTime": {
     "end_time": "2024-10-17T15:17:47.015747Z",
     "start_time": "2024-10-17T15:17:47.005839Z"
    },
    "deletable": true,
    "editable": true,
    "execution": {
     "iopub.execute_input": "2024-10-17T20:28:17.973412Z",
     "iopub.status.busy": "2024-10-17T20:28:17.973412Z",
     "iopub.status.idle": "2024-10-17T20:28:17.983940Z",
     "shell.execute_reply": "2024-10-17T20:28:17.983940Z",
     "shell.execute_reply.started": "2024-10-17T20:28:17.973412Z"
    },
    "frozen": false
   },
   "outputs": [
    {
     "data": {
      "text/html": [
       "<div>\n",
       "<style scoped>\n",
       "    .dataframe tbody tr th:only-of-type {\n",
       "        vertical-align: middle;\n",
       "    }\n",
       "\n",
       "    .dataframe tbody tr th {\n",
       "        vertical-align: top;\n",
       "    }\n",
       "\n",
       "    .dataframe thead th {\n",
       "        text-align: right;\n",
       "    }\n",
       "</style>\n",
       "<table border=\"1\" class=\"dataframe\">\n",
       "  <thead>\n",
       "    <tr style=\"text-align: right;\">\n",
       "      <th></th>\n",
       "      <th>GDP</th>\n",
       "      <th>GINI</th>\n",
       "      <th>Population</th>\n",
       "      <th>hc</th>\n",
       "    </tr>\n",
       "    <tr>\n",
       "      <th>Country Code</th>\n",
       "      <th></th>\n",
       "      <th></th>\n",
       "      <th></th>\n",
       "      <th></th>\n",
       "    </tr>\n",
       "  </thead>\n",
       "  <tbody>\n",
       "    <tr>\n",
       "      <th>ABW</th>\n",
       "      <td>2.615208e+09</td>\n",
       "      <td>NaN</td>\n",
       "      <td>102112.0</td>\n",
       "      <td>NaN</td>\n",
       "    </tr>\n",
       "    <tr>\n",
       "      <th>AFG</th>\n",
       "      <td>1.990733e+10</td>\n",
       "      <td>NaN</td>\n",
       "      <td>30466479.0</td>\n",
       "      <td>NaN</td>\n",
       "    </tr>\n",
       "    <tr>\n",
       "      <th>AGO</th>\n",
       "      <td>1.280529e+11</td>\n",
       "      <td>NaN</td>\n",
       "      <td>25188292.0</td>\n",
       "      <td>1.431295</td>\n",
       "    </tr>\n",
       "    <tr>\n",
       "      <th>ALB</th>\n",
       "      <td>1.231983e+10</td>\n",
       "      <td>29.0</td>\n",
       "      <td>2900401.0</td>\n",
       "      <td>2.917346</td>\n",
       "    </tr>\n",
       "    <tr>\n",
       "      <th>AND</th>\n",
       "      <td>3.188653e+09</td>\n",
       "      <td>NaN</td>\n",
       "      <td>71013.0</td>\n",
       "      <td>NaN</td>\n",
       "    </tr>\n",
       "    <tr>\n",
       "      <th>...</th>\n",
       "      <td>...</td>\n",
       "      <td>...</td>\n",
       "      <td>...</td>\n",
       "      <td>...</td>\n",
       "    </tr>\n",
       "    <tr>\n",
       "      <th>ZMB</th>\n",
       "      <td>2.550306e+10</td>\n",
       "      <td>NaN</td>\n",
       "      <td>14744658.0</td>\n",
       "      <td>2.330032</td>\n",
       "    </tr>\n",
       "    <tr>\n",
       "      <th>ZWE</th>\n",
       "      <td>1.711485e+10</td>\n",
       "      <td>NaN</td>\n",
       "      <td>13265331.0</td>\n",
       "      <td>2.459828</td>\n",
       "    </tr>\n",
       "    <tr>\n",
       "      <th>AIA</th>\n",
       "      <td>NaN</td>\n",
       "      <td>NaN</td>\n",
       "      <td>NaN</td>\n",
       "      <td>NaN</td>\n",
       "    </tr>\n",
       "    <tr>\n",
       "      <th>MSR</th>\n",
       "      <td>NaN</td>\n",
       "      <td>NaN</td>\n",
       "      <td>NaN</td>\n",
       "      <td>NaN</td>\n",
       "    </tr>\n",
       "    <tr>\n",
       "      <th>TWN</th>\n",
       "      <td>NaN</td>\n",
       "      <td>NaN</td>\n",
       "      <td>NaN</td>\n",
       "      <td>3.135961</td>\n",
       "    </tr>\n",
       "  </tbody>\n",
       "</table>\n",
       "<p>220 rows × 4 columns</p>\n",
       "</div>"
      ],
      "text/plain": [
       "                       GDP  GINI  Population        hc\n",
       "Country Code                                          \n",
       "ABW           2.615208e+09   NaN    102112.0       NaN\n",
       "AFG           1.990733e+10   NaN  30466479.0       NaN\n",
       "AGO           1.280529e+11   NaN  25188292.0  1.431295\n",
       "ALB           1.231983e+10  29.0   2900401.0  2.917346\n",
       "AND           3.188653e+09   NaN     71013.0       NaN\n",
       "...                    ...   ...         ...       ...\n",
       "ZMB           2.550306e+10   NaN  14744658.0  2.330032\n",
       "ZWE           1.711485e+10   NaN  13265331.0  2.459828\n",
       "AIA                    NaN   NaN         NaN       NaN\n",
       "MSR                    NaN   NaN         NaN       NaN\n",
       "TWN                    NaN   NaN         NaN  3.135961\n",
       "\n",
       "[220 rows x 4 columns]"
      ]
     },
     "execution_count": 67,
     "metadata": {},
     "output_type": "execute_result"
    }
   ],
   "source": [
    "# Create the DataFrame 'data'\n",
    "data = pd.concat([wdi_sample, pwt_sample.set_index('Country Code')], axis = 1)\n",
    "#  - axis = 1 to concatenate the DataFrames by columns\n",
    "#  - join = 'outer' to keep all the rows of the DataFrames (default)\n",
    "\n",
    "data"
   ]
  },
  {
   "cell_type": "markdown",
   "metadata": {
    "deletable": true,
    "editable": true,
    "frozen": false
   },
   "source": [
    "# <span style=\"color:brown\"> Part 3 - Analysing a Dataset </span>"
   ]
  },
  {
   "cell_type": "markdown",
   "metadata": {
    "deletable": true,
    "editable": true,
    "frozen": false
   },
   "source": [
    "**21.** Perform the necessary manipulations to answer the following questions, unless otherwise stated you can use the country codes to represent the countries in your solutions:\n",
    "1. Which countries have a **population size of 10 million habitations +/- 1 million**?\n",
    "2. What is  the **average** and the **standard deviation in the GDP** for the countries listed in 1?\n",
    "3. What is  the **average** and the **standard deviation in the GDP per capita** for the countries listed in 1?\n",
    "4. Consider the following classification of Population Size: <br/>\n",
    "    Tiny - population < 1 000 000 <br/>\n",
    "    Very Small - 1 000 000 <= population < 5 000 000 <br/>\n",
    "    Small - 5 000 000 <= population < 15 000 000 <br/>\n",
    "    Medium - 15 000 000 <= population < 30 000 000 <br/>\n",
    "    Large - 30 000 000 <= population < 100 000 000 <br/>\n",
    "    Huge - 100 000 000 <= population <br/>\n",
    "   What is  the **average** and the **standard deviation in the GDP per capita for the countries in each size classification**?   \n",
    "5. Create a **function** that will take a dataframe and a column name. This function should **return** a series with binary values indicating whether the **values from the column are above the mean value of that column** (indicated with a value of 1 or 0 otherwise). If the value in the column is missing (NaN) the value in the series should also be missing (NaN). Test your function. *Hint:* search how to check if something is None so that we can return None. <br/>\n",
    "6. What is the **average GDP per capita of the countries after being grouped by size classification and whether the human capital was above or below average**? *Hint: as an example, two of the groups should be (1) tiny and human capital below average, (2) tiny and human capital above average.*\n",
    "7. What is the **average GDP per capita of the countries after being grouped by whether the human capital was above or below average and whether the gini coefficient was above or below average?**\n",
    "8. What is the **name of the country** that has the **highest GDP per capita, a Gini coefficient below average and a level of human capital below average**?\n",
    "9. What is the **name of the country** that has the **highest GDP per capita, a Gini coefficient below average for its size classification, and a level of human capital below average for its size classification**?\n",
    "10. What is the **name of the country** that has the **largest % increase in GDP between 1980 and 2010?** *HINT: You will need to use the wdi dataframe.*\n",
    "\n",
    "Write the necessary code to answer each question in a single cell. <br/>\n",
    "Print the answer at the end of that cell."
   ]
  },
  {
   "cell_type": "code",
   "execution_count": 70,
   "metadata": {
    "ExecuteTime": {
     "end_time": "2024-10-17T15:17:47.240575Z",
     "start_time": "2024-10-17T15:17:47.232861Z"
    },
    "deletable": true,
    "editable": true,
    "execution": {
     "iopub.execute_input": "2024-10-17T20:28:18.019343Z",
     "iopub.status.busy": "2024-10-17T20:28:18.019343Z",
     "iopub.status.idle": "2024-10-17T20:28:18.043012Z",
     "shell.execute_reply": "2024-10-17T20:28:18.043012Z",
     "shell.execute_reply.started": "2024-10-17T20:28:18.019343Z"
    },
    "frozen": false
   },
   "outputs": [
    {
     "name": "stdout",
     "output_type": "stream",
     "text": [
      "The countries with a population size of 10 million +/- 1 million are: Azerbaijan, Belarus, Benin, Bolivia, Burundi, Czechia, Dominican Republic, Guinea, Haiti, Hungary, Portugal, Rwanda, South Sudan, Sweden \n",
      "\n",
      "\n"
     ]
    },
    {
     "data": {
      "text/html": [
       "<div>\n",
       "<style scoped>\n",
       "    .dataframe tbody tr th:only-of-type {\n",
       "        vertical-align: middle;\n",
       "    }\n",
       "\n",
       "    .dataframe tbody tr th {\n",
       "        vertical-align: top;\n",
       "    }\n",
       "\n",
       "    .dataframe thead th {\n",
       "        text-align: right;\n",
       "    }\n",
       "</style>\n",
       "<table border=\"1\" class=\"dataframe\">\n",
       "  <thead>\n",
       "    <tr style=\"text-align: right;\">\n",
       "      <th></th>\n",
       "      <th>Population</th>\n",
       "    </tr>\n",
       "    <tr>\n",
       "      <th>Country Code</th>\n",
       "      <th></th>\n",
       "    </tr>\n",
       "  </thead>\n",
       "  <tbody>\n",
       "    <tr>\n",
       "      <th>AZE</th>\n",
       "      <td>9295784.0</td>\n",
       "    </tr>\n",
       "    <tr>\n",
       "      <th>BDI</th>\n",
       "      <td>9795479.0</td>\n",
       "    </tr>\n",
       "    <tr>\n",
       "      <th>BEN</th>\n",
       "      <td>10014078.0</td>\n",
       "    </tr>\n",
       "    <tr>\n",
       "      <th>BLR</th>\n",
       "      <td>9446836.0</td>\n",
       "    </tr>\n",
       "    <tr>\n",
       "      <th>BOL</th>\n",
       "      <td>10569697.0</td>\n",
       "    </tr>\n",
       "    <tr>\n",
       "      <th>CZE</th>\n",
       "      <td>10510785.0</td>\n",
       "    </tr>\n",
       "    <tr>\n",
       "      <th>DOM</th>\n",
       "      <td>10030882.0</td>\n",
       "    </tr>\n",
       "    <tr>\n",
       "      <th>GIN</th>\n",
       "      <td>10788692.0</td>\n",
       "    </tr>\n",
       "    <tr>\n",
       "      <th>HTI</th>\n",
       "      <td>10108539.0</td>\n",
       "    </tr>\n",
       "    <tr>\n",
       "      <th>HUN</th>\n",
       "      <td>9920362.0</td>\n",
       "    </tr>\n",
       "    <tr>\n",
       "      <th>PRT</th>\n",
       "      <td>10514844.0</td>\n",
       "    </tr>\n",
       "    <tr>\n",
       "      <th>RWA</th>\n",
       "      <td>10840334.0</td>\n",
       "    </tr>\n",
       "    <tr>\n",
       "      <th>SSD</th>\n",
       "      <td>10701604.0</td>\n",
       "    </tr>\n",
       "    <tr>\n",
       "      <th>SWE</th>\n",
       "      <td>9519374.0</td>\n",
       "    </tr>\n",
       "  </tbody>\n",
       "</table>\n",
       "</div>"
      ],
      "text/plain": [
       "              Population\n",
       "Country Code            \n",
       "AZE            9295784.0\n",
       "BDI            9795479.0\n",
       "BEN           10014078.0\n",
       "BLR            9446836.0\n",
       "BOL           10569697.0\n",
       "CZE           10510785.0\n",
       "DOM           10030882.0\n",
       "GIN           10788692.0\n",
       "HTI           10108539.0\n",
       "HUN            9920362.0\n",
       "PRT           10514844.0\n",
       "RWA           10840334.0\n",
       "SSD           10701604.0\n",
       "SWE            9519374.0"
      ]
     },
     "execution_count": 70,
     "metadata": {},
     "output_type": "execute_result"
    }
   ],
   "source": [
    "# 1\n",
    "# Which countries have a population size of 10 million habitations +/- 1 million?\n",
    "print(\"The countries with a population size of 10 million +/- 1 million are: \" +\n",
    "      \", \".join(                                                        # .join() to concatenate country names into a single string separated by commas\n",
    "          wdi[wdi['Country Code'].isin(                                 # .isin() to filter countries with a population between 9 and 11 million\n",
    "              data[data['Population'].between(9_000_000, 11_000_000)].index   # Retrieve their 'Country Code' from 'data'\n",
    "          )]['Country Name'].unique()), '\\n\\n')                               # Match with 'Country Name' from 'wdi'\n",
    "\n",
    "pd.DataFrame(data[data['Population'].between(9_000_000, 11_000_000)][['Population']])"
   ]
  },
  {
   "cell_type": "code",
   "execution_count": 71,
   "metadata": {
    "ExecuteTime": {
     "end_time": "2024-10-17T15:17:47.445539Z",
     "start_time": "2024-10-17T15:17:47.440617Z"
    },
    "deletable": true,
    "editable": true,
    "execution": {
     "iopub.execute_input": "2024-10-17T20:28:18.044019Z",
     "iopub.status.busy": "2024-10-17T20:28:18.044019Z",
     "iopub.status.idle": "2024-10-17T20:28:18.048544Z",
     "shell.execute_reply": "2024-10-17T20:28:18.048544Z",
     "shell.execute_reply.started": "2024-10-17T20:28:18.044019Z"
    },
    "frozen": false
   },
   "outputs": [
    {
     "name": "stdout",
     "output_type": "stream",
     "text": [
      "Average GDP for countries with a population of 10 million +/- 1 million:  98851409945.84126\n",
      "Standard deviation in GDP for countries with a population of 10 million +/- 1 million:  149245794399.39508\n"
     ]
    }
   ],
   "source": [
    "# 2\n",
    "# What is the average and the standard deviation in the GDP for the countries listed in 1?\n",
    "print(\"Average GDP for countries with a population of 10 million +/- 1 million: \", \n",
    "      data[data['Population'].between(9_000_000, 11_000_000)]['GDP'].mean())\n",
    "print(\"Standard deviation in GDP for countries with a population of 10 million +/- 1 million: \", \n",
    "      data[data['Population'].between(9_000_000, 11_000_000)]['GDP'].std())"
   ]
  },
  {
   "cell_type": "code",
   "execution_count": 72,
   "metadata": {
    "ExecuteTime": {
     "end_time": "2024-10-17T15:17:47.674845Z",
     "start_time": "2024-10-17T15:17:47.669086Z"
    },
    "deletable": true,
    "editable": true,
    "execution": {
     "iopub.execute_input": "2024-10-17T20:28:18.049552Z",
     "iopub.status.busy": "2024-10-17T20:28:18.049552Z",
     "iopub.status.idle": "2024-10-17T20:28:18.056074Z",
     "shell.execute_reply": "2024-10-17T20:28:18.056074Z",
     "shell.execute_reply.started": "2024-10-17T20:28:18.049552Z"
    },
    "frozen": false
   },
   "outputs": [
    {
     "name": "stdout",
     "output_type": "stream",
     "text": [
      "Average GDP per capita for countries with a population of 10 million +/- 1 million:  9982.440647663661\n",
      "Standard deviation in GDP per capita for countries with a population of 10 million +/- 1 million:  15473.789886856379\n"
     ]
    }
   ],
   "source": [
    "# 3\n",
    "# What is the average and the standard deviation in the GDP per capita for the countries listed in 1?\n",
    "data['GDP per capita'] = data['GDP'] / data['Population'] # Calculate the GDP per capita\n",
    "\n",
    "print(\"Average GDP per capita for countries with a population of 10 million +/- 1 million: \", \n",
    "      data[data['Population'].between(9_000_000, 11_000_000)]['GDP per capita'].mean())\n",
    "print(\"Standard deviation in GDP per capita for countries with a population of 10 million +/- 1 million: \", \n",
    "      data[data['Population'].between(9_000_000, 11_000_000)]['GDP per capita'].std())"
   ]
  },
  {
   "cell_type": "code",
   "execution_count": 73,
   "metadata": {
    "ExecuteTime": {
     "end_time": "2024-10-17T15:17:47.807735Z",
     "start_time": "2024-10-17T15:17:47.795931Z"
    },
    "deletable": true,
    "editable": true,
    "execution": {
     "iopub.execute_input": "2024-10-17T20:28:18.058082Z",
     "iopub.status.busy": "2024-10-17T20:28:18.057085Z",
     "iopub.status.idle": "2024-10-17T20:28:18.069027Z",
     "shell.execute_reply": "2024-10-17T20:28:18.069027Z",
     "shell.execute_reply.started": "2024-10-17T20:28:18.058082Z"
    },
    "frozen": false
   },
   "outputs": [
    {
     "data": {
      "text/html": [
       "<div>\n",
       "<style scoped>\n",
       "    .dataframe tbody tr th:only-of-type {\n",
       "        vertical-align: middle;\n",
       "    }\n",
       "\n",
       "    .dataframe tbody tr th {\n",
       "        vertical-align: top;\n",
       "    }\n",
       "\n",
       "    .dataframe thead th {\n",
       "        text-align: right;\n",
       "    }\n",
       "</style>\n",
       "<table border=\"1\" class=\"dataframe\">\n",
       "  <thead>\n",
       "    <tr style=\"text-align: right;\">\n",
       "      <th></th>\n",
       "      <th>mean</th>\n",
       "      <th>std</th>\n",
       "    </tr>\n",
       "    <tr>\n",
       "      <th>Population Size</th>\n",
       "      <th></th>\n",
       "      <th></th>\n",
       "    </tr>\n",
       "  </thead>\n",
       "  <tbody>\n",
       "    <tr>\n",
       "      <th>Tiny</th>\n",
       "      <td>28226.323970</td>\n",
       "      <td>36308.718148</td>\n",
       "    </tr>\n",
       "    <tr>\n",
       "      <th>Very Small</th>\n",
       "      <td>14177.620484</td>\n",
       "      <td>18398.172964</td>\n",
       "    </tr>\n",
       "    <tr>\n",
       "      <th>Small</th>\n",
       "      <td>16201.659272</td>\n",
       "      <td>23617.072371</td>\n",
       "    </tr>\n",
       "    <tr>\n",
       "      <th>Medium</th>\n",
       "      <td>8903.482776</td>\n",
       "      <td>16313.630730</td>\n",
       "    </tr>\n",
       "    <tr>\n",
       "      <th>Large</th>\n",
       "      <td>13177.431583</td>\n",
       "      <td>15611.569429</td>\n",
       "    </tr>\n",
       "    <tr>\n",
       "      <th>Huge</th>\n",
       "      <td>14158.730825</td>\n",
       "      <td>18610.257687</td>\n",
       "    </tr>\n",
       "  </tbody>\n",
       "</table>\n",
       "</div>"
      ],
      "text/plain": [
       "                         mean           std\n",
       "Population Size                            \n",
       "Tiny             28226.323970  36308.718148\n",
       "Very Small       14177.620484  18398.172964\n",
       "Small            16201.659272  23617.072371\n",
       "Medium            8903.482776  16313.630730\n",
       "Large            13177.431583  15611.569429\n",
       "Huge             14158.730825  18610.257687"
      ]
     },
     "execution_count": 73,
     "metadata": {},
     "output_type": "execute_result"
    }
   ],
   "source": [
    "# 4\n",
    "# Cut the data into bins as the classification of Population Size given\n",
    "bins = [0, 1_000_000, 5_000_000, 15_000_000, 30_000_000, 100_000_000, np.inf]\n",
    "labels = ['Tiny', 'Very Small', 'Small', 'Medium', 'Large', 'Huge']\n",
    "\n",
    "# Create a new column 'Population Size' with the classification of Population Size\n",
    "data['Population Size'] = pd.cut(data['Population'], \n",
    "                                 bins = bins,       # The bins to be used for classification\n",
    "                                 labels = labels,   # The labels to be used for classification\n",
    "                                 right = False)     # right = False to include the left bin -> [0, 1_000_000), [1_000_000, 5_000_000), ...\n",
    "\n",
    "# Calculate the average and standard deviation in the GDP per capita for the countries in each size classification\n",
    "pd.DataFrame(data.groupby('Population Size')['GDP per capita'].agg(['mean', 'std']))"
   ]
  },
  {
   "cell_type": "code",
   "execution_count": 74,
   "metadata": {
    "ExecuteTime": {
     "end_time": "2024-10-17T15:17:47.896181Z",
     "start_time": "2024-10-17T15:17:47.886989Z"
    },
    "deletable": true,
    "editable": true,
    "execution": {
     "iopub.execute_input": "2024-10-17T20:28:18.071035Z",
     "iopub.status.busy": "2024-10-17T20:28:18.070037Z",
     "iopub.status.idle": "2024-10-17T20:28:18.078857Z",
     "shell.execute_reply": "2024-10-17T20:28:18.078857Z",
     "shell.execute_reply.started": "2024-10-17T20:28:18.071035Z"
    },
    "frozen": false
   },
   "outputs": [
    {
     "data": {
      "text/html": [
       "<div>\n",
       "<style scoped>\n",
       "    .dataframe tbody tr th:only-of-type {\n",
       "        vertical-align: middle;\n",
       "    }\n",
       "\n",
       "    .dataframe tbody tr th {\n",
       "        vertical-align: top;\n",
       "    }\n",
       "\n",
       "    .dataframe thead th {\n",
       "        text-align: right;\n",
       "    }\n",
       "</style>\n",
       "<table border=\"1\" class=\"dataframe\">\n",
       "  <thead>\n",
       "    <tr style=\"text-align: right;\">\n",
       "      <th></th>\n",
       "      <th>hc</th>\n",
       "    </tr>\n",
       "    <tr>\n",
       "      <th>Country Code</th>\n",
       "      <th></th>\n",
       "    </tr>\n",
       "  </thead>\n",
       "  <tbody>\n",
       "    <tr>\n",
       "      <th>ABW</th>\n",
       "      <td>NaN</td>\n",
       "    </tr>\n",
       "    <tr>\n",
       "      <th>AFG</th>\n",
       "      <td>NaN</td>\n",
       "    </tr>\n",
       "    <tr>\n",
       "      <th>AGO</th>\n",
       "      <td>0.0</td>\n",
       "    </tr>\n",
       "    <tr>\n",
       "      <th>ALB</th>\n",
       "      <td>1.0</td>\n",
       "    </tr>\n",
       "    <tr>\n",
       "      <th>AND</th>\n",
       "      <td>NaN</td>\n",
       "    </tr>\n",
       "    <tr>\n",
       "      <th>...</th>\n",
       "      <td>...</td>\n",
       "    </tr>\n",
       "    <tr>\n",
       "      <th>ZMB</th>\n",
       "      <td>0.0</td>\n",
       "    </tr>\n",
       "    <tr>\n",
       "      <th>ZWE</th>\n",
       "      <td>0.0</td>\n",
       "    </tr>\n",
       "    <tr>\n",
       "      <th>AIA</th>\n",
       "      <td>NaN</td>\n",
       "    </tr>\n",
       "    <tr>\n",
       "      <th>MSR</th>\n",
       "      <td>NaN</td>\n",
       "    </tr>\n",
       "    <tr>\n",
       "      <th>TWN</th>\n",
       "      <td>1.0</td>\n",
       "    </tr>\n",
       "  </tbody>\n",
       "</table>\n",
       "<p>220 rows × 1 columns</p>\n",
       "</div>"
      ],
      "text/plain": [
       "               hc\n",
       "Country Code     \n",
       "ABW           NaN\n",
       "AFG           NaN\n",
       "AGO           0.0\n",
       "ALB           1.0\n",
       "AND           NaN\n",
       "...           ...\n",
       "ZMB           0.0\n",
       "ZWE           0.0\n",
       "AIA           NaN\n",
       "MSR           NaN\n",
       "TWN           1.0\n",
       "\n",
       "[220 rows x 1 columns]"
      ]
     },
     "execution_count": 74,
     "metadata": {},
     "output_type": "execute_result"
    }
   ],
   "source": [
    "# 5\n",
    "# Create a function that returns a series with binary values indicating whether the values from the column are above the mean value of that column\n",
    "def above_mean(df, column):\n",
    "    \n",
    "    # Calculate the mean of the column\n",
    "    column_mean = df[column].mean()\n",
    "    \n",
    "    # Iterate over the column and check if the value is above the column_mean\n",
    "    # We will append '0' in this list if the value is smaller than the column's mean, \n",
    "    #                '1' otherwise\n",
    "    # Consider the case where the value is missing (NaN)\n",
    "    return df[column].apply(lambda x: 1 if x > column_mean else 0 if x == x else np.nan)\n",
    "\n",
    "# Apply the function to the 'hc' column\n",
    "pd.DataFrame(above_mean(data, 'hc'))"
   ]
  },
  {
   "cell_type": "code",
   "execution_count": 75,
   "metadata": {
    "ExecuteTime": {
     "end_time": "2024-10-17T15:17:47.989332Z",
     "start_time": "2024-10-17T15:17:47.976454Z"
    },
    "deletable": true,
    "editable": true,
    "execution": {
     "iopub.execute_input": "2024-10-17T20:28:18.079864Z",
     "iopub.status.busy": "2024-10-17T20:28:18.079864Z",
     "iopub.status.idle": "2024-10-17T20:28:18.092179Z",
     "shell.execute_reply": "2024-10-17T20:28:18.092179Z",
     "shell.execute_reply.started": "2024-10-17T20:28:18.079864Z"
    },
    "frozen": false
   },
   "outputs": [
    {
     "data": {
      "text/html": [
       "<div>\n",
       "<style scoped>\n",
       "    .dataframe tbody tr th:only-of-type {\n",
       "        vertical-align: middle;\n",
       "    }\n",
       "\n",
       "    .dataframe tbody tr th {\n",
       "        vertical-align: top;\n",
       "    }\n",
       "\n",
       "    .dataframe thead th {\n",
       "        text-align: right;\n",
       "    }\n",
       "</style>\n",
       "<table border=\"1\" class=\"dataframe\">\n",
       "  <thead>\n",
       "    <tr style=\"text-align: right;\">\n",
       "      <th></th>\n",
       "      <th></th>\n",
       "      <th>mean</th>\n",
       "    </tr>\n",
       "    <tr>\n",
       "      <th>Population Size</th>\n",
       "      <th>hc</th>\n",
       "      <th></th>\n",
       "    </tr>\n",
       "  </thead>\n",
       "  <tbody>\n",
       "    <tr>\n",
       "      <th rowspan=\"2\" valign=\"top\">Tiny</th>\n",
       "      <th>0.0</th>\n",
       "      <td>7447.415608</td>\n",
       "    </tr>\n",
       "    <tr>\n",
       "      <th>1.0</th>\n",
       "      <td>41099.349432</td>\n",
       "    </tr>\n",
       "    <tr>\n",
       "      <th rowspan=\"2\" valign=\"top\">Very Small</th>\n",
       "      <th>0.0</th>\n",
       "      <td>9522.335063</td>\n",
       "    </tr>\n",
       "    <tr>\n",
       "      <th>1.0</th>\n",
       "      <td>19135.544230</td>\n",
       "    </tr>\n",
       "    <tr>\n",
       "      <th rowspan=\"2\" valign=\"top\">Small</th>\n",
       "      <th>0.0</th>\n",
       "      <td>3093.049239</td>\n",
       "    </tr>\n",
       "    <tr>\n",
       "      <th>1.0</th>\n",
       "      <td>33815.347537</td>\n",
       "    </tr>\n",
       "    <tr>\n",
       "      <th rowspan=\"2\" valign=\"top\">Medium</th>\n",
       "      <th>0.0</th>\n",
       "      <td>1347.638420</td>\n",
       "    </tr>\n",
       "    <tr>\n",
       "      <th>1.0</th>\n",
       "      <td>19389.666388</td>\n",
       "    </tr>\n",
       "    <tr>\n",
       "      <th rowspan=\"2\" valign=\"top\">Large</th>\n",
       "      <th>0.0</th>\n",
       "      <td>3678.654171</td>\n",
       "    </tr>\n",
       "    <tr>\n",
       "      <th>1.0</th>\n",
       "      <td>24249.265533</td>\n",
       "    </tr>\n",
       "    <tr>\n",
       "      <th rowspan=\"2\" valign=\"top\">Huge</th>\n",
       "      <th>0.0</th>\n",
       "      <td>2707.374909</td>\n",
       "    </tr>\n",
       "    <tr>\n",
       "      <th>1.0</th>\n",
       "      <td>27900.357925</td>\n",
       "    </tr>\n",
       "  </tbody>\n",
       "</table>\n",
       "</div>"
      ],
      "text/plain": [
       "                             mean\n",
       "Population Size hc               \n",
       "Tiny            0.0   7447.415608\n",
       "                1.0  41099.349432\n",
       "Very Small      0.0   9522.335063\n",
       "                1.0  19135.544230\n",
       "Small           0.0   3093.049239\n",
       "                1.0  33815.347537\n",
       "Medium          0.0   1347.638420\n",
       "                1.0  19389.666388\n",
       "Large           0.0   3678.654171\n",
       "                1.0  24249.265533\n",
       "Huge            0.0   2707.374909\n",
       "                1.0  27900.357925"
      ]
     },
     "execution_count": 75,
     "metadata": {},
     "output_type": "execute_result"
    }
   ],
   "source": [
    "# 6\n",
    "# Calculate the average GDP per capita of the countries after being grouped by size classification and whether the human capital was above or below average\n",
    "pd.DataFrame(data.groupby(['Population Size', above_mean(data, 'hc')])['GDP per capita'].agg(['mean']))"
   ]
  },
  {
   "cell_type": "code",
   "execution_count": 76,
   "metadata": {
    "ExecuteTime": {
     "end_time": "2024-10-17T15:17:48.148698Z",
     "start_time": "2024-10-17T15:17:48.138Z"
    },
    "deletable": true,
    "editable": true,
    "execution": {
     "iopub.execute_input": "2024-10-17T20:28:18.093187Z",
     "iopub.status.busy": "2024-10-17T20:28:18.093187Z",
     "iopub.status.idle": "2024-10-17T20:28:18.104067Z",
     "shell.execute_reply": "2024-10-17T20:28:18.104067Z",
     "shell.execute_reply.started": "2024-10-17T20:28:18.093187Z"
    },
    "frozen": false
   },
   "outputs": [
    {
     "data": {
      "text/html": [
       "<div>\n",
       "<style scoped>\n",
       "    .dataframe tbody tr th:only-of-type {\n",
       "        vertical-align: middle;\n",
       "    }\n",
       "\n",
       "    .dataframe tbody tr th {\n",
       "        vertical-align: top;\n",
       "    }\n",
       "\n",
       "    .dataframe thead th {\n",
       "        text-align: right;\n",
       "    }\n",
       "</style>\n",
       "<table border=\"1\" class=\"dataframe\">\n",
       "  <thead>\n",
       "    <tr style=\"text-align: right;\">\n",
       "      <th></th>\n",
       "      <th></th>\n",
       "      <th>mean</th>\n",
       "    </tr>\n",
       "    <tr>\n",
       "      <th>hc</th>\n",
       "      <th>GINI</th>\n",
       "      <th></th>\n",
       "    </tr>\n",
       "  </thead>\n",
       "  <tbody>\n",
       "    <tr>\n",
       "      <th rowspan=\"2\" valign=\"top\">0.0</th>\n",
       "      <th>0.0</th>\n",
       "      <td>6410.516940</td>\n",
       "    </tr>\n",
       "    <tr>\n",
       "      <th>1.0</th>\n",
       "      <td>3785.250677</td>\n",
       "    </tr>\n",
       "    <tr>\n",
       "      <th rowspan=\"2\" valign=\"top\">1.0</th>\n",
       "      <th>0.0</th>\n",
       "      <td>32470.894695</td>\n",
       "    </tr>\n",
       "    <tr>\n",
       "      <th>1.0</th>\n",
       "      <td>13020.948708</td>\n",
       "    </tr>\n",
       "  </tbody>\n",
       "</table>\n",
       "</div>"
      ],
      "text/plain": [
       "                  mean\n",
       "hc  GINI              \n",
       "0.0 0.0    6410.516940\n",
       "    1.0    3785.250677\n",
       "1.0 0.0   32470.894695\n",
       "    1.0   13020.948708"
      ]
     },
     "execution_count": 76,
     "metadata": {},
     "output_type": "execute_result"
    }
   ],
   "source": [
    "# 7\n",
    "# Calculate the average GDP per capita of the countries after being grouped by whether the human capital was above or below average and whether the Gini coefficient was above or below average\n",
    "pd.DataFrame(data.groupby([above_mean(data, 'hc'), above_mean(data, 'GINI')])['GDP per capita'].agg(['mean']))"
   ]
  },
  {
   "cell_type": "code",
   "execution_count": 77,
   "metadata": {
    "ExecuteTime": {
     "end_time": "2024-10-17T15:18:49.226349Z",
     "start_time": "2024-10-17T15:18:49.206162Z"
    },
    "deletable": true,
    "editable": true,
    "execution": {
     "iopub.execute_input": "2024-10-17T20:28:18.105073Z",
     "iopub.status.busy": "2024-10-17T20:28:18.105073Z",
     "iopub.status.idle": "2024-10-17T20:28:18.124008Z",
     "shell.execute_reply": "2024-10-17T20:28:18.124008Z",
     "shell.execute_reply.started": "2024-10-17T20:28:18.105073Z"
    },
    "frozen": false
   },
   "outputs": [
    {
     "name": "stdout",
     "output_type": "stream",
     "text": [
      "The country that has the highest GDP per capita, a Gini coefficient below average and a level of human capital below average is:  PRT - Portugal .\n",
      "\n"
     ]
    }
   ],
   "source": [
    "# 8\n",
    "# What is the name of the country that has the highest GDP per capita, a Gini coefficient below average and a level of human capital below average?\n",
    "answer8 = data[(above_mean(data, 'GINI') == 0) & \n",
    "               (above_mean(data, 'hc') == 0)]['GDP per capita'].idxmax()\n",
    "\n",
    "# Get the country code of the country with the highest GDP per capita\n",
    "answer8_country_code = data.loc[answer8].name \n",
    "\n",
    "# Lookup the country name using the country code from 'wdi' DataFrame\n",
    "answer8_country_name = wdi.loc[wdi['Country Code'] == answer8_country_code, 'Country Name'].values[0]\n",
    "\n",
    "print(\"The country that has the highest GDP per capita, a Gini coefficient below average and a level of human capital below average is: \", \n",
    "       answer8_country_code, '-', answer8_country_name, \".\\n\")"
   ]
  },
  {
   "cell_type": "code",
   "execution_count": 78,
   "metadata": {
    "ExecuteTime": {
     "end_time": "2024-10-17T15:34:08.429320Z",
     "start_time": "2024-10-17T15:34:08.403697Z"
    },
    "deletable": true,
    "editable": true,
    "execution": {
     "iopub.execute_input": "2024-10-17T20:28:18.125014Z",
     "iopub.status.busy": "2024-10-17T20:28:18.125014Z",
     "iopub.status.idle": "2024-10-17T20:28:18.149819Z",
     "shell.execute_reply": "2024-10-17T20:28:18.149819Z",
     "shell.execute_reply.started": "2024-10-17T20:28:18.125014Z"
    },
    "frozen": false
   },
   "outputs": [
    {
     "name": "stdout",
     "output_type": "stream",
     "text": [
      "The country that has the highest GDP per capita, a Gini coefficient below average for its size classification, and a level of human capital below average for its size classification is:  IRN - Iran, Islamic Rep. .\n",
      "\n"
     ]
    }
   ],
   "source": [
    "# 9\n",
    "# What is the name of the country that has the highest GDP per capita, a Gini coefficient below average for its size classification, and a level of human capital below average for its size classification?\n",
    "\n",
    "# Create a function to check if the value is below the mean for a specific group\n",
    "def below_mean_for_group(df, column, group):\n",
    "    return df.groupby(group)[column].transform(lambda x: x < x.mean())\n",
    "\n",
    "# Filter countries where GINI and hc are below average for their size classification and not null and find the country with the highest GDP per capita\n",
    "answer9 = data[(below_mean_for_group(data, 'GINI', 'Population Size')) &\n",
    "               (below_mean_for_group(data, 'hc', 'Population Size'))]['GDP per capita'].idxmax()\n",
    "\n",
    "# Get the country code of the country with the highest GDP per capita\n",
    "answer9_country_code = data.loc[answer9].name\n",
    "\n",
    "# Lookup the country name using the country code from 'wdi' DataFrame\n",
    "answer9_country_name = wdi.loc[wdi['Country Code'] == answer9_country_code, 'Country Name'].values[0]\n",
    "\n",
    "print(\"The country that has the highest GDP per capita, a Gini coefficient below average for its size classification, and a level of human capital below average for its size classification is: \", \n",
    "      answer9_country_code, '-', answer9_country_name, \".\\n\")"
   ]
  },
  {
   "cell_type": "code",
   "execution_count": 79,
   "metadata": {
    "ExecuteTime": {
     "end_time": "2024-10-16T11:06:12.590617Z",
     "start_time": "2024-10-16T11:06:12.533216Z"
    },
    "deletable": true,
    "editable": true,
    "execution": {
     "iopub.execute_input": "2024-10-17T20:28:18.150824Z",
     "iopub.status.busy": "2024-10-17T20:28:18.150824Z",
     "iopub.status.idle": "2024-10-17T20:28:18.190959Z",
     "shell.execute_reply": "2024-10-17T20:28:18.190959Z",
     "shell.execute_reply.started": "2024-10-17T20:28:18.150824Z"
    },
    "frozen": false
   },
   "outputs": [
    {
     "name": "stdout",
     "output_type": "stream",
     "text": [
      "The country that has the largest % increase in GDP between 1980 and 2010 is:  GNQ - Equatorial Guinea .\n",
      "\n"
     ]
    }
   ],
   "source": [
    "# 10\n",
    "# What is the name of the country that has the largest % increase in GDP between 1980 and 2010?\n",
    "# Calculate the % increase in GDP between 1980 and 2010 for each country using the 'Indicator Code' 'NY.GDP.MKTP.CD'\n",
    "wdi['GDP % increase'] = wdi[wdi['Indicator Code'] == 'NY.GDP.MKTP.CD']['2010'] / wdi[wdi['Indicator Code'] == 'NY.GDP.MKTP.CD']['1980'] * 100\n",
    "\n",
    "# Find the country with the largest % increase in GDP between 1980 and 2010\n",
    "answer10 = wdi['GDP % increase'].idxmax() # It returns the value of the index\n",
    "\n",
    "# With the index we can get the country code -> wdi.loc[answer10]['Country Code']\n",
    "print(\"The country that has the largest % increase in GDP between 1980 and 2010 is: \", \n",
    "       wdi.loc[answer10]['Country Code'], '-', wdi.loc[answer10]['Country Name'], \".\\n\")"
   ]
  },
  {
   "cell_type": "markdown",
   "metadata": {
    "deletable": true,
    "editable": true,
    "frozen": false
   },
   "source": [
    "---"
   ]
  }
 ],
 "metadata": {
  "kernelspec": {
   "display_name": "Python 3 (ipykernel)",
   "language": "python",
   "name": "python3"
  },
  "language_info": {
   "codemirror_mode": {
    "name": "ipython",
    "version": 3
   },
   "file_extension": ".py",
   "mimetype": "text/x-python",
   "name": "python",
   "nbconvert_exporter": "python",
   "pygments_lexer": "ipython3",
   "version": "3.12.4"
  }
 },
 "nbformat": 4,
 "nbformat_minor": 4
}
